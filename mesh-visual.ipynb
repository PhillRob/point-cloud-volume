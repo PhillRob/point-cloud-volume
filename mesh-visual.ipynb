{
 "cells": [
  {
   "cell_type": "code",
   "execution_count": 1,
   "metadata": {
    "collapsed": true
   },
   "outputs": [],
   "source": [
    "#from laspy.file import File\n",
    "# #import laspy as lp\n",
    "# #gpd.options.use_pygeos = True\n",
    "# import pyvista as pv\n",
    "# import pptk\n",
    "import matplotlib.pyplot as plt\n",
    "from shapely.geometry import Point\n",
    "import pygeos\n",
    "import rtree\n",
    "import open3d as o3d\n",
    "import numpy as np\n",
    "import geopandas as gpd\n",
    "import pandas as pd\n",
    "from shapely.geometry import Point\n",
    "from scipy.spatial import Delaunay\n",
    "import math\n",
    "from functools import reduce"
   ]
  },
  {
   "cell_type": "code",
   "execution_count": 2,
   "outputs": [],
   "source": [
    "# TODO: clean up"
   ],
   "metadata": {
    "collapsed": false
   }
  },
  {
   "cell_type": "code",
   "execution_count": 3,
   "outputs": [
    {
     "name": "stderr",
     "output_type": "stream",
     "text": [
      "/Users/philipp/Projects/PycharmProjects/point-cloud-volume/venv/lib/python3.9/site-packages/pyproj/crs/crs.py:141: FutureWarning: '+init=<authority>:<code>' syntax is deprecated. '<authority>:<code>' is the preferred initialization method. When making the change, be mindful of axis order changes: https://pyproj4.github.io/pyproj/stable/gotchas.html#axis-order-changes-in-proj-6\n",
      "  in_crs_string = _prepare_from_proj_string(in_crs_string)\n"
     ]
    }
   ],
   "source": [
    "# read point cloud\n",
    "data_folder = '/Users/philipp/Projects/PycharmProjects/point-cloud-volume/input/'\n",
    "dataset = \"points-32638.xyz\"\n",
    "npcloud = np.loadtxt(data_folder + dataset, delimiter=',')\n",
    "\n",
    "crs = None\n",
    "geometry = [Point(xyz) for xyz in npcloud]\n",
    "geodf = gpd.GeoDataFrame(npcloud, crs=crs, geometry=geometry)\n",
    "geodf.crs = {'init': 'epsg:32638'}\n",
    "# geodf = geodf.to_crs(\"EPSG:4326\")"
   ],
   "metadata": {
    "collapsed": false
   }
  },
  {
   "cell_type": "code",
   "execution_count": 25,
   "outputs": [
    {
     "ename": "NameError",
     "evalue": "name 'piles' is not defined",
     "output_type": "error",
     "traceback": [
      "\u001B[0;31m---------------------------------------------------------------------------\u001B[0m",
      "\u001B[0;31mNameError\u001B[0m                                 Traceback (most recent call last)",
      "Cell \u001B[0;32mIn [25], line 4\u001B[0m\n\u001B[1;32m      2\u001B[0m annotations \u001B[38;5;241m=\u001B[39m gpd\u001B[38;5;241m.\u001B[39mread_file(\u001B[38;5;124m'\u001B[39m\u001B[38;5;124m/Users/philipp/BPLA Dropbox/03 Planning/DN-Dumping Detection-1087/05_Output/Digitisation/Version-3/DD-lowest/boundary-reviewed/piles-combined-lowest-final-clipped-v2.1.geojson\u001B[39m\u001B[38;5;124m'\u001B[39m)\n\u001B[1;32m      3\u001B[0m annotations \u001B[38;5;241m=\u001B[39m annotations\u001B[38;5;241m.\u001B[39mto_crs(\u001B[38;5;124m\"\u001B[39m\u001B[38;5;124mEPSG:32638\u001B[39m\u001B[38;5;124m\"\u001B[39m)\n\u001B[0;32m----> 4\u001B[0m piles\u001B[38;5;241m=\u001B[39m\u001B[43mpiles\u001B[49m\u001B[38;5;241m.\u001B[39mto_crs(\u001B[38;5;124m\"\u001B[39m\u001B[38;5;124mEPSG:32638\u001B[39m\u001B[38;5;124m\"\u001B[39m)\n",
      "\u001B[0;31mNameError\u001B[0m: name 'piles' is not defined"
     ]
    }
   ],
   "source": [
    "# polygon vector\n",
    "annotations = gpd.read_file('/Users/philipp/BPLA Dropbox/03 Planning/DN-Dumping Detection-1087/05_Output/Digitisation/Version-3/DD-lowest/boundary-reviewed/piles-combined-lowest-final-clipped-v2.1.geojson')\n",
    "annotations = annotations.to_crs(\"EPSG:32638\")\n",
    "piles=piles.to_crs(\"EPSG:32638\")\n",
    "# piles['str_geom'] = piles['geometry'].apply(wkt.dumps)\n",
    "# piles['FIDint'] = piles['fid'].astype('int64')\n",
    "# len(piles)"
   ],
   "metadata": {
    "collapsed": false
   }
  },
  {
   "cell_type": "code",
   "execution_count": 24,
   "outputs": [
    {
     "ename": "NameError",
     "evalue": "name 'file_list' is not defined",
     "output_type": "error",
     "traceback": [
      "\u001B[0;31m---------------------------------------------------------------------------\u001B[0m",
      "\u001B[0;31mNameError\u001B[0m                                 Traceback (most recent call last)",
      "Cell \u001B[0;32mIn [24], line 1\u001B[0m\n\u001B[0;32m----> 1\u001B[0m \u001B[43mfile_list\u001B[49m\n",
      "\u001B[0;31mNameError\u001B[0m: name 'file_list' is not defined"
     ]
    }
   ],
   "source": [],
   "metadata": {
    "collapsed": false
   }
  },
  {
   "cell_type": "code",
   "execution_count": 26,
   "outputs": [],
   "source": [
    "# Points in polygon\n",
    "pointInPolys = gpd.tools.sjoin(geodf, annotations, predicate=\"within\", how='left')\n",
    "pointInPolysNA = pointInPolys.dropna(subset=['fid']).to_numpy()\n",
    "# uniquePolys = pointInPolysNA.index_right.unique()"
   ],
   "metadata": {
    "collapsed": false
   }
  },
  {
   "cell_type": "code",
   "execution_count": 27,
   "outputs": [
    {
     "data": {
      "text/plain": "array([[664710.9432641491, 2715806.585965889, 688.3612604738311, ...,\n        33.747, 17.498, 17.498],\n       [664711.6017343738, 2715806.593732364, 688.441260473831, ...,\n        33.747, 17.498, 17.498],\n       [664712.2602045987, 2715806.60149887, 688.561260473831, ...,\n        33.747, 17.498, 17.498],\n       ...,\n       [664796.582637686, 2715806.9317188924, 689.081260473831, ...,\n        35.31, 17.017, 17.017],\n       [664797.2411081232, 2715806.9394894075, 688.9712604738311, ...,\n        35.31, 17.017, 17.017],\n       [664797.8995785619, 2715806.9472599537, 688.8712604738311, ...,\n        35.31, 17.017, 17.017]], dtype=object)"
     },
     "execution_count": 27,
     "metadata": {},
     "output_type": "execute_result"
    }
   ],
   "source": [
    "pointInPolysNA"
   ],
   "metadata": {
    "collapsed": false
   }
  },
  {
   "cell_type": "code",
   "execution_count": null,
   "outputs": [],
   "source": [],
   "metadata": {
    "collapsed": false
   }
  },
  {
   "cell_type": "code",
   "execution_count": null,
   "outputs": [],
   "source": [],
   "metadata": {
    "collapsed": false
   }
  },
  {
   "cell_type": "code",
   "execution_count": null,
   "outputs": [],
   "source": [
    "#subset for tests\n",
    "nc1 = pointInPolys[pointInPolys.index_right == 1418]\n",
    "nc1 = npcloud[pointInPolys.index_right == 1418, ]\n",
    "nc1 = pointInPolys[pointInPolys['index_right'] == 1418, ]\n",
    "nc1 = npcloud[pointInPolys.name == '32'][1]\n",
    "#pointInPolys.id.unique()\n",
    "npcloud[1]"
   ],
   "metadata": {
    "collapsed": false
   }
  },
  {
   "cell_type": "code",
   "execution_count": null,
   "outputs": [],
   "source": [
    "# run stats on the height\n",
    "#stats_pt = pointInPolys.groupby('id')[2].agg(['max','min','mean'])\n",
    "#stats_pt['range'] = stats_pt['max']-stats_pt['min']"
   ],
   "metadata": {
    "collapsed": false
   }
  },
  {
   "cell_type": "code",
   "execution_count": null,
   "outputs": [],
   "source": [
    "\n",
    "# merge\n",
    "#result = pd.merge(annotations, stats_pt , left_on='id',right_index=True,how='outer')\n",
    "nc1=temp\n",
    "### ball pivot\n",
    "pcd = o3d.geometry.PointCloud()\n",
    "pcd.points = o3d.utility.Vector3dVector(nc1[:,:3])\n",
    "#pcd.compute_convex_hull()\n",
    "pcd.estimate_normals()\n",
    "pcd.orient_normals_consistent_tangent_plane(30)\n",
    "o3d.visualization.draw_geometries([pcd])\n",
    "distances = pcd.compute_nearest_neighbor_distance()\n",
    "avg_dist = np.mean(distances)\n",
    "radii = [0.1*avg_dist, 0.5*avg_dist, 1*avg_dist, 2*avg_dist]\n",
    "#radii = [0.005, 0.01, 0.02, 0.04]\n",
    "r = o3d.utility.DoubleVector(radii)\n",
    "BPmesh = o3d.geometry.TriangleMesh.create_from_point_cloud_ball_pivoting(pcd, r)\n",
    "o3d.visualization.draw_geometries([pcd, BPmesh], mesh_show_back_face=True)\n",
    "BPmesh.get_surface_area()\n",
    "BPmesh.get_volume()\n",
    "\n",
    "### voxel\n",
    "\n",
    "### poisson mesh\n",
    "pcd = o3d.geometry.PointCloud()\n",
    "pcd.points = o3d.utility.Vector3dVector(base[:,:3])\n",
    "pcd.colors = o3d.utility.Vector3dVector(base[:,3:6]/255)\n",
    "#pcd.normals = o3d.utility.Vector3dVector(nc1[:,6:9])\n",
    "pcd.estimate_normals()\n",
    "#pcd.estimate_normals(search_param=o3d.pybind.geometry.KDTreeSearchParamHybrid(radius=0.1,max_nn= 30))\n",
    "#mesh\n",
    "poisson_mesh = o3d.geometry.TriangleMesh.create_from_point_cloud_poisson(pcd, depth=40, width=0, scale=2, linear_fit=False)[0]\n",
    "o3d.visualization.draw_geometries([pcd, poisson_mesh], mesh_show_back_face=True)\n",
    "BPmesh.get_surface_area()\n",
    "BPmesh.get_volume()\n",
    "\n",
    "\n",
    "voxel_grid=o3d.geometry.VoxelGrid.create_from_point_cloud(pcd,voxel_size=0.05)\n",
    "\n",
    "\n",
    "vis = o3d.visualization.Visualizer()\n",
    "vis.create_window(window_name='Bunny Visualize', width=800, height=600)\n",
    "\n",
    "vis.add_geometry(poisson_mesh)\n",
    "vis.run()\n",
    "poisson_mesh.get_surface_area()\n",
    "rec_mesh.get_volume()\n",
    "\n",
    "distances = pcd.compute_nearest_neighbor_distance()\n",
    "avg_dist = np.mean(distances)\n",
    "radii = [0.1*avg_dist, 0.5*avg_dist, 1*avg_dist, 2*avg_dist]\n",
    "#radii = [0.005, 0.01, 0.02, 0.04]\n",
    "r = o3d.utility.DoubleVector(radii)\n",
    "rec_mesh = o3d.geometry.TriangleMesh.create_from_point_cloud_ball_pivoting(pcd, r)\n",
    "#o3d.visualization.draw_geometries([pcd, rec_mesh], mesh_show_back_face=True)\n",
    "poisson_mesh.get_surface_area()\n",
    "poisson_mesh.get_volume()\n",
    "\n",
    "pcd = o3d.geometry.PointCloud()\n",
    "pcd.points = o3d.utility.Vector3dVector(nc1[:,:3])\n",
    "pcd.colors = o3d.utility.Vector3dVector(nc1[:,3:6]/255)\n",
    "#pcd.normals = o3d.utility.Vector3dVector(nc1[:,6:9])\n",
    "pcd.estimate_normals(search_param=o3d.pybind.geometry.KDTreeSearchParamHybrid(radius=0.1,max_nn= 30))\n",
    "#mesh\n",
    "poisson_mesh = o3d.geometry.TriangleMesh.create_from_point_cloud_poisson(pcd, depth=8, width=0, scale=5.1, linear_fit=False)[0]\n",
    "\n",
    "\n",
    "\n",
    "\n",
    "\n",
    "\n",
    "\n",
    "import pyvista as pv\n",
    "\"\"\"`pc` is a `pyvista.PolyData` point cloud. The default arguments are abitrary\"\"\"\n",
    "cloud = o3d.geometry.PointCloud()\n",
    "cloud.points = o3d.utility.Vector3dVector(nc1[:,:3])\n",
    "cloud.estimate_normals()\n",
    "trimesh,_ = o3d.geometry.TriangleMesh.create_from_point_cloud_poisson(cloud, depth=8, width=0, scale=1.1, linear_fit=False)\n",
    "\n",
    "v = np.asarray(trimesh.vertices)\n",
    "f = np.array(trimesh.triangles)\n",
    "f = np.c_[np.full(len(f), 3), f]\n",
    "mesh = pv.PolyData(v, f)\n",
    "meshclean= mesh.clean()\n",
    "mesh.volume()\n",
    "meshclean.plot(show_edges=True, line_width=3)\n",
    "\n",
    "rec_mesh,_ = o3d.geometry.TriangleMesh.create_from_point_cloud_ball_pivoting(pcd, r)\n",
    "vrec = np.asarray(rec_mesh.vertices)\n",
    "frec = np.array(rec_mesh.triangles)\n",
    "frec = np.c_[np.full(len(frec), 3), frec]\n",
    "meshrec = pv.PolyData(vrec, frec)\n",
    "meshclean= mesh.clean()\n",
    "mesh.volume()\n",
    "meshclean.plot(show_edges=True, line_width=3)\n",
    "\n",
    "bbox = pcd.get_axis_aligned_bounding_box()\n",
    "p_mesh_crop = poisson_mesh.crop(bbox)\n",
    "p_mesh_crop.get_surface_area()\n",
    "p_mesh_crop.get_volume()\n",
    "\n",
    "\n",
    "pcd = o3d.geometry.PointCloud()\n",
    "pcd.points = o3d.utility.Vector3dVector(nc1[:,:3])\n",
    "pcd.colors = o3d.utility.Vector3dVector(nc1[:,3:6]/255)\n",
    "#pcd.normals = o3d.utility.Vector3dVector(nc1[:,6:9])\n",
    "pcd.estimate_normals(search_param=o3d.pybind.geometry.KDTreeSearchParamHybrid(radius=0.1,max_nn= 30))\n",
    "#mesh\n",
    "poisson_mesh = o3d.geometry.TriangleMesh.create_from_point_cloud_poisson(pcd, depth=8, width=0, scale=5.1, linear_fit=False)[0]\n",
    "bbox = pcd.get_axis_aligned_bounding_box()\n",
    "p_mesh_crop = poisson_mesh.crop(bbox)\n",
    "p_mesh_crop.get_surface_area()\n",
    "p_mesh_crop.get_volume()\n",
    "\n",
    "o3d.io.write_triangle_mesh(data_folder+\"bpa_mesh.ply\", poisson_mesh)\n",
    "o3d.io.write_triangle_mesh(data_folder+\"p_mesh_c.ply\", p_mesh_crop)\n",
    "\n",
    "def lod_mesh_export(mesh, lods, extension, path):\n",
    "    mesh_lods={}\n",
    "    for i in lods:\n",
    "        mesh_lod = mesh.simplify_quadric_decimation(i)\n",
    "        o3d.io.write_triangle_mesh(path+\"lod_\"+str(i)+extension, mesh_lod)\n",
    "        mesh_lods[i]=mesh_lod\n",
    "    print(\"generation of \"+str(i)+\" LoD successful\")\n",
    "    return mesh_lods\n",
    "\n",
    "my_lods = lod_mesh_export(poisson_mesh, [100000,50000,10000,1000,100], \".ply\", data_folder)\n",
    "my_lods2 = lod_mesh_export(poisson_mesh, [8000,800,300], \".ply\", data_folder)\n",
    "o3d.visualization.draw_geometries([my_lods2[100]])\n",
    "\n",
    "o3d.visualization.draw_geometries([pcd])\n",
    "distances = pcd.compute_nearest_neighbor_distance()\n",
    "avg_dist = np.mean(distances)\n",
    "radius = 3 * avg_dist\n",
    "\n",
    "bpa_mesh = pcd.o3d.geometry.TriangleMesh.create_from_point_cloud_ball_pivoting(o3d.utility.DoubleVector([radius, radius * 2]))\n",
    "\n",
    "poisson_mesh = o3d.geometry.TriangleMesh.create_from_point_cloud_poisson(pcd, depth=8, width=0, scale=1.1, linear_fit=False)[0]\n",
    "\n",
    "\n",
    "pcd.voxel_down_sample(pcd, voxel_size=0.02)\n",
    "pcd.estimate_normals(pcd,s earch_param=o3d.geometry.KDTreeSearchParamHybrid(radius=0.1,max_nn=30))\n",
    "downpcd = o3d.geometry.  voxel_down_sample(nc1, voxel_size=0.05)\n",
    "o3d.visualization.draw_geometries([downpcd])\n",
    "print(\"Recompute the normal of the downsampled point cloud\")\n",
    "pcd.estimate_normals(pcd,search_param=o3d.geometry.KDTreeSearchParamHybrid(radius=0.1,max_nn=10))\n",
    "\n",
    "a=pcd.estimate_normals(search_param=o3d.geometry.KDTreeSearchParamHybrid(radius=0.1, max_nn=30))\n",
    "    o3d.visualization.draw_geometries([downpcd])\n",
    "\n",
    "nc1.view()\n",
    "o3d.visualization.draw_geometries([pcd])\n",
    "\n",
    "distances = pcd.compute_nearest_neighbor_distance()\n",
    "avg_dist = np.mean(distances)\n",
    "radius = 3 * avg_dist\n",
    "\n",
    "bpa_mesh = o3d.geometry.TriangleMesh.create_from_point_cloud_ball_pivoting(pcd,o3d.utility.DoubleVector([radius, radius * 2]))\n",
    "\n",
    "dec_mesh = mesh.simplify_quadric_decimation(100000)\n",
    "\n",
    "dec_mesh.remove_degenerate_triangles()\n",
    "dec_mesh.remove_duplicated_triangles()\n",
    "dec_mesh.remove_duplicated_vertices()\n",
    "dec_mesh.remove_non_manifold_edges()"
   ],
   "metadata": {
    "collapsed": false
   }
  },
  {
   "cell_type": "code",
   "execution_count": null,
   "outputs": [],
   "source": [
    "\n",
    "import open3d as o3d\n",
    "\n",
    "from shapely.geometry import Point\n",
    "from open3d import voxel_down_sample,estimate_normals\n",
    "#npcloud = np.loadtxt(data_folder + dataset, delimiter=',')\n",
    "\n",
    "\n",
    "pcd = o3d.geometry.PointCloud()\n",
    "pcd.points = o3d.utility.Vector3dVector(nc1[:,:3])\n",
    "pcd.compute_convex_hull()\n",
    "pcd.estimate_normals()\n",
    "pcd.orient_normals_consistent_tangent_plane(30)\n",
    "\n",
    "voxel_grid=o3d.geometry.VoxelGrid.create_from_point_cloud(pcd,voxel_size=0.01)\n",
    "\n",
    "vis = o3d.visualization.Visualizer()\n",
    "vis.create_window(window_name='Bunny Visualize', width=800, height=600)\n",
    "\n",
    "vis.add_geometry(voxel_grid)\n",
    "\n",
    "vis.run()\n",
    "\n",
    "\n",
    "distances = pcd.compute_nearest_neighbor_distance()\n",
    "avg_dist = np.mean(distances)\n",
    "radii = [0.1*avg_dist, 0.5*avg_dist, 1*avg_dist, 2*avg_dist]\n",
    "#radii = [0.005, 0.01, 0.02, 0.04]\n",
    "r = o3d.utility.DoubleVector(radii)\n",
    "rec_mesh = o3d.geometry.TriangleMesh.create_from_point_cloud_ball_pivoting(pcd, r)\n",
    "#o3d.visualization.draw_geometries([pcd, rec_mesh], mesh_show_back_face=True)\n",
    "rec_mesh.get_surface_area()\n",
    "rec_mesh.get_volume()\n"
   ],
   "metadata": {
    "collapsed": false
   }
  }
 ],
 "metadata": {
  "kernelspec": {
   "display_name": "Python 3",
   "language": "python",
   "name": "python3"
  },
  "language_info": {
   "codemirror_mode": {
    "name": "ipython",
    "version": 2
   },
   "file_extension": ".py",
   "mimetype": "text/x-python",
   "name": "python",
   "nbconvert_exporter": "python",
   "pygments_lexer": "ipython2",
   "version": "2.7.6"
  }
 },
 "nbformat": 4,
 "nbformat_minor": 0
}
