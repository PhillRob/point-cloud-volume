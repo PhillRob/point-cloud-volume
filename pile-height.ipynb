{
 "cells": [
  {
   "cell_type": "code",
   "execution_count": 1,
   "metadata": {
    "collapsed": true
   },
   "outputs": [],
   "source": [
    "#!/usr/bin/python3\n",
    "import pandas as pd\n",
    "import numpy as np\n",
    "import geopandas as gpd\n",
    "import glob\n",
    "import os\n",
    "import json\n",
    "from os.path import exists\n",
    "import piecewise_regression\n",
    "from sklearn.linear_model import LinearRegression\n",
    "from sklearn.svm import SVR\n",
    "from sklearn.metrics import mean_squared_error, r2_score\n",
    "# import pysal as ps\n",
    "# from pysal.contrib.viz import mapping as maps\n",
    "from shapely import wkt\n",
    "from shapely.geometry import Polygon, Point\n",
    "import matplotlib\n",
    "import matplotlib.pyplot as plt\n"
   ]
  },
  {
   "cell_type": "code",
   "execution_count": 1,
   "outputs": [],
   "source": [],
   "metadata": {
    "collapsed": false
   }
  },
  {
   "cell_type": "code",
   "execution_count": 2,
   "outputs": [],
   "source": [
    "# polygon vector\n",
    "piles = gpd.read_file('/Users/philipp/BPLA Dropbox/03 Planning/DN-Dumping Detection-1087/05_Output/Digitisation/Version-3/DD-lowest/boundary-reviewed/piles-combined-lowest-final-clipped-v2.1.geojson')\n",
    "piles = piles.to_crs(\"EPSG:32638\")\n",
    "# piles = piles.to_crs(\"EPSG:32638\")\n",
    "# piles['str_geom'] = piles['geometry'].apply(wkt.dumps)\n",
    "piles['int'] = piles['fid'].astype('int64')"
   ],
   "metadata": {
    "collapsed": false
   }
  },
  {
   "cell_type": "code",
   "execution_count": 3,
   "outputs": [
    {
     "data": {
      "text/plain": "6311"
     },
     "execution_count": 3,
     "metadata": {},
     "output_type": "execute_result"
    }
   ],
   "source": [
    "len(piles)"
   ],
   "metadata": {
    "collapsed": false
   }
  },
  {
   "cell_type": "code",
   "execution_count": 4,
   "outputs": [
    {
     "name": "stdout",
     "output_type": "stream",
     "text": [
      "11\n"
     ]
    }
   ],
   "source": [
    "# get data\n",
    "dfs = [] # an empty list to store the data frames`\n",
    "StartDir = '/Users/philipp/BPLA Dropbox/03 Planning/DN-Dumping Detection-1087/03_Data/Dronedeploy-exports/points/'\n",
    "crs = None\n",
    "json_pattern = os.path.join(StartDir,'*.xyz')\n",
    "file_list = glob.glob(json_pattern)\n",
    "print(len(file_list))"
   ],
   "metadata": {
    "collapsed": false
   }
  },
  {
   "cell_type": "code",
   "execution_count": 4,
   "outputs": [],
   "source": [],
   "metadata": {
    "collapsed": false
   }
  },
  {
   "cell_type": "code",
   "execution_count": 4,
   "outputs": [],
   "source": [],
   "metadata": {
    "collapsed": false
   }
  },
  {
   "cell_type": "code",
   "execution_count": 5,
   "outputs": [
    {
     "name": "stderr",
     "output_type": "stream",
     "text": [
      "/Users/philipp/Projects/PycharmProjects/point-cloud-volume/venv/lib/python3.9/site-packages/pyproj/crs/crs.py:141: FutureWarning: '+init=<authority>:<code>' syntax is deprecated. '<authority>:<code>' is the preferred initialization method. When making the change, be mindful of axis order changes: https://pyproj4.github.io/pyproj/stable/gotchas.html#axis-order-changes-in-proj-6\n",
      "  in_crs_string = _prepare_from_proj_string(in_crs_string)\n"
     ]
    },
    {
     "name": "stdout",
     "output_type": "stream",
     "text": [
      "304\n"
     ]
    },
    {
     "name": "stderr",
     "output_type": "stream",
     "text": [
      "/Users/philipp/Projects/PycharmProjects/point-cloud-volume/venv/lib/python3.9/site-packages/pyproj/crs/crs.py:141: FutureWarning: '+init=<authority>:<code>' syntax is deprecated. '<authority>:<code>' is the preferred initialization method. When making the change, be mindful of axis order changes: https://pyproj4.github.io/pyproj/stable/gotchas.html#axis-order-changes-in-proj-6\n",
      "  in_crs_string = _prepare_from_proj_string(in_crs_string)\n"
     ]
    },
    {
     "name": "stdout",
     "output_type": "stream",
     "text": [
      "261\n"
     ]
    },
    {
     "name": "stderr",
     "output_type": "stream",
     "text": [
      "/Users/philipp/Projects/PycharmProjects/point-cloud-volume/venv/lib/python3.9/site-packages/pyproj/crs/crs.py:141: FutureWarning: '+init=<authority>:<code>' syntax is deprecated. '<authority>:<code>' is the preferred initialization method. When making the change, be mindful of axis order changes: https://pyproj4.github.io/pyproj/stable/gotchas.html#axis-order-changes-in-proj-6\n",
      "  in_crs_string = _prepare_from_proj_string(in_crs_string)\n"
     ]
    },
    {
     "name": "stdout",
     "output_type": "stream",
     "text": [
      "588\n"
     ]
    },
    {
     "name": "stderr",
     "output_type": "stream",
     "text": [
      "/Users/philipp/Projects/PycharmProjects/point-cloud-volume/venv/lib/python3.9/site-packages/pyproj/crs/crs.py:141: FutureWarning: '+init=<authority>:<code>' syntax is deprecated. '<authority>:<code>' is the preferred initialization method. When making the change, be mindful of axis order changes: https://pyproj4.github.io/pyproj/stable/gotchas.html#axis-order-changes-in-proj-6\n",
      "  in_crs_string = _prepare_from_proj_string(in_crs_string)\n"
     ]
    },
    {
     "name": "stdout",
     "output_type": "stream",
     "text": [
      "243\n"
     ]
    },
    {
     "name": "stderr",
     "output_type": "stream",
     "text": [
      "/Users/philipp/Projects/PycharmProjects/point-cloud-volume/venv/lib/python3.9/site-packages/pyproj/crs/crs.py:141: FutureWarning: '+init=<authority>:<code>' syntax is deprecated. '<authority>:<code>' is the preferred initialization method. When making the change, be mindful of axis order changes: https://pyproj4.github.io/pyproj/stable/gotchas.html#axis-order-changes-in-proj-6\n",
      "  in_crs_string = _prepare_from_proj_string(in_crs_string)\n"
     ]
    },
    {
     "name": "stdout",
     "output_type": "stream",
     "text": [
      "0\n"
     ]
    },
    {
     "name": "stderr",
     "output_type": "stream",
     "text": [
      "/Users/philipp/Projects/PycharmProjects/point-cloud-volume/venv/lib/python3.9/site-packages/pyproj/crs/crs.py:141: FutureWarning: '+init=<authority>:<code>' syntax is deprecated. '<authority>:<code>' is the preferred initialization method. When making the change, be mindful of axis order changes: https://pyproj4.github.io/pyproj/stable/gotchas.html#axis-order-changes-in-proj-6\n",
      "  in_crs_string = _prepare_from_proj_string(in_crs_string)\n"
     ]
    },
    {
     "name": "stdout",
     "output_type": "stream",
     "text": [
      "268\n"
     ]
    },
    {
     "name": "stderr",
     "output_type": "stream",
     "text": [
      "/Users/philipp/Projects/PycharmProjects/point-cloud-volume/venv/lib/python3.9/site-packages/pyproj/crs/crs.py:141: FutureWarning: '+init=<authority>:<code>' syntax is deprecated. '<authority>:<code>' is the preferred initialization method. When making the change, be mindful of axis order changes: https://pyproj4.github.io/pyproj/stable/gotchas.html#axis-order-changes-in-proj-6\n",
      "  in_crs_string = _prepare_from_proj_string(in_crs_string)\n"
     ]
    },
    {
     "name": "stdout",
     "output_type": "stream",
     "text": [
      "0\n"
     ]
    },
    {
     "name": "stderr",
     "output_type": "stream",
     "text": [
      "/Users/philipp/Projects/PycharmProjects/point-cloud-volume/venv/lib/python3.9/site-packages/pyproj/crs/crs.py:141: FutureWarning: '+init=<authority>:<code>' syntax is deprecated. '<authority>:<code>' is the preferred initialization method. When making the change, be mindful of axis order changes: https://pyproj4.github.io/pyproj/stable/gotchas.html#axis-order-changes-in-proj-6\n",
      "  in_crs_string = _prepare_from_proj_string(in_crs_string)\n"
     ]
    },
    {
     "name": "stdout",
     "output_type": "stream",
     "text": [
      "382\n"
     ]
    },
    {
     "name": "stderr",
     "output_type": "stream",
     "text": [
      "/Users/philipp/Projects/PycharmProjects/point-cloud-volume/venv/lib/python3.9/site-packages/pyproj/crs/crs.py:141: FutureWarning: '+init=<authority>:<code>' syntax is deprecated. '<authority>:<code>' is the preferred initialization method. When making the change, be mindful of axis order changes: https://pyproj4.github.io/pyproj/stable/gotchas.html#axis-order-changes-in-proj-6\n",
      "  in_crs_string = _prepare_from_proj_string(in_crs_string)\n"
     ]
    },
    {
     "name": "stdout",
     "output_type": "stream",
     "text": [
      "455\n"
     ]
    },
    {
     "name": "stderr",
     "output_type": "stream",
     "text": [
      "/Users/philipp/Projects/PycharmProjects/point-cloud-volume/venv/lib/python3.9/site-packages/pyproj/crs/crs.py:141: FutureWarning: '+init=<authority>:<code>' syntax is deprecated. '<authority>:<code>' is the preferred initialization method. When making the change, be mindful of axis order changes: https://pyproj4.github.io/pyproj/stable/gotchas.html#axis-order-changes-in-proj-6\n",
      "  in_crs_string = _prepare_from_proj_string(in_crs_string)\n"
     ]
    },
    {
     "name": "stdout",
     "output_type": "stream",
     "text": [
      "0\n"
     ]
    },
    {
     "name": "stderr",
     "output_type": "stream",
     "text": [
      "/Users/philipp/Projects/PycharmProjects/point-cloud-volume/venv/lib/python3.9/site-packages/pyproj/crs/crs.py:141: FutureWarning: '+init=<authority>:<code>' syntax is deprecated. '<authority>:<code>' is the preferred initialization method. When making the change, be mindful of axis order changes: https://pyproj4.github.io/pyproj/stable/gotchas.html#axis-order-changes-in-proj-6\n",
      "  in_crs_string = _prepare_from_proj_string(in_crs_string)\n"
     ]
    },
    {
     "name": "stdout",
     "output_type": "stream",
     "text": [
      "466\n"
     ]
    }
   ],
   "source": [
    "# dump = {\"fid\": [], \"points\": [], \"height\": [],\"file\":[]}\n",
    "dump =[]\n",
    "\n",
    "for file in file_list:\n",
    "\t# print(file)\n",
    "\tdata = np.loadtxt(file, delimiter=',')\n",
    "\tcrs = None\n",
    "\tgeometry = [Point(xyz) for xyz in data]\n",
    "\tgeodf = gpd.GeoDataFrame(data, crs=crs, geometry=geometry)\n",
    "\tgeodf.crs = {'init': 'epsg:32638'}\n",
    "\t# geodf.crs = {\"EPSG:32638\"}\n",
    "\t# geodf = geodf.to_crs(\"EPSG:32638\")\n",
    "\n",
    "\tpointInPolys = gpd.tools.sjoin(geodf, piles, predicate=\"within\", how='left')\n",
    "\tpointInPolysNA = pointInPolys.dropna(subset=['fid']).to_numpy()\n",
    "\tprint(len(np.unique(pointInPolysNA[:,9])))\n",
    "\n",
    "\tdumpHeight = {\"fid\": [], \"points\": [], \"height\": [],\"file\":[]}\n",
    "\n",
    "\t# dumpHeight=[]\n",
    "\tfor i in np.unique(pointInPolysNA[:, 9]):\n",
    "\t\t# print(i)\n",
    "\t\ttry:\n",
    "\t\t\tsubset = pointInPolysNA[pointInPolysNA[:, 9] == i,]\n",
    "\t\t\theight = max(subset[:, 2]) - min(subset[:, 2])\n",
    "\n",
    "\t\texcept:\n",
    "\t\t\theight = None\n",
    "\n",
    "\t\t# dumpHeight.append([i,subset.shape[0],height,file])\n",
    "\t\tdumpHeight[\"file\"].append(file)\n",
    "\t\tdumpHeight[\"fid\"].append(i)\n",
    "\t\tdumpHeight[\"height\"].append(height)\n",
    "\t\tdumpHeight[\"points\"].append(subset.shape[0])\n",
    "\tdump.append(dumpHeight)"
   ],
   "metadata": {
    "collapsed": false
   }
  },
  {
   "cell_type": "code",
   "execution_count": 10,
   "outputs": [
    {
     "name": "stdout",
     "output_type": "stream",
     "text": [
      "304\n",
      "261\n",
      "588\n",
      "243\n",
      "0\n",
      "382\n",
      "455\n",
      "466\n"
     ]
    }
   ],
   "source": [
    "results = pd.DataFrame()\n",
    "for d in dump:\n",
    "\t# print(len(d['fid']))\n",
    "\tresults = pd.concat([results, pd.DataFrame.from_dict(d)], axis=0)"
   ],
   "metadata": {
    "collapsed": false
   }
  },
  {
   "cell_type": "code",
   "execution_count": 11,
   "outputs": [
    {
     "data": {
      "text/plain": "False    1965\nTrue      734\nName: fidunique, dtype: int64"
     },
     "execution_count": 11,
     "metadata": {},
     "output_type": "execute_result"
    }
   ],
   "source": [
    "results['fidunique'] = results.duplicated(subset=['fid'], keep=False)\n",
    "results['fidunique'].value_counts()"
   ],
   "metadata": {
    "collapsed": false
   }
  },
  {
   "cell_type": "code",
   "execution_count": 12,
   "outputs": [
    {
     "data": {
      "text/plain": "1965"
     },
     "execution_count": 12,
     "metadata": {},
     "output_type": "execute_result"
    }
   ],
   "source": [
    "# unique polygons\n",
    "final = results[results.fidunique == False]\n",
    "len(final)"
   ],
   "metadata": {
    "collapsed": false
   }
  },
  {
   "cell_type": "code",
   "execution_count": 14,
   "outputs": [],
   "source": [
    "merged = final.merge(piles, on='fid')"
   ],
   "metadata": {
    "collapsed": false
   }
  },
  {
   "cell_type": "code",
   "execution_count": 1,
   "outputs": [
    {
     "ename": "NameError",
     "evalue": "name 'merged' is not defined",
     "output_type": "error",
     "traceback": [
      "\u001B[0;31m---------------------------------------------------------------------------\u001B[0m",
      "\u001B[0;31mNameError\u001B[0m                                 Traceback (most recent call last)",
      "Cell \u001B[0;32mIn [1], line 1\u001B[0m\n\u001B[0;32m----> 1\u001B[0m x \u001B[38;5;241m=\u001B[39m \u001B[43mmerged\u001B[49m[\u001B[38;5;124m'\u001B[39m\u001B[38;5;124mheight\u001B[39m\u001B[38;5;124m'\u001B[39m]\n\u001B[1;32m      2\u001B[0m y \u001B[38;5;241m=\u001B[39m merged[\u001B[38;5;124m'\u001B[39m\u001B[38;5;124mUpdat_cut\u001B[39m\u001B[38;5;124m'\u001B[39m]\n\u001B[1;32m      3\u001B[0m x1 \u001B[38;5;241m=\u001B[39mmerged[\u001B[38;5;124m'\u001B[39m\u001B[38;5;124marea\u001B[39m\u001B[38;5;124m'\u001B[39m]\n",
      "\u001B[0;31mNameError\u001B[0m: name 'merged' is not defined"
     ]
    }
   ],
   "source": [
    "x = merged['height']\n",
    "y = merged['Updat_cut']\n",
    "x1 =merged['area']\n",
    "data = list(zip(x,y))\n",
    "\n",
    "# cluster based om area and volume\n",
    "from sklearn.cluster import KMeans\n",
    "\n",
    "inertias = []\n",
    "for i in range(1, 11):\n",
    "\tkmeans = KMeans(n_clusters=i)\n",
    "\tkmeans.fit(data)\n",
    "\tinertias.append(kmeans.inertia_)\n",
    "\n",
    "plt.plot(range(1, 11), inertias, marker='o')\n",
    "plt.title('Elbow method')\n",
    "plt.xlabel('Number of clusters')\n",
    "plt.ylabel('Inertia')\n",
    "plt.show()"
   ],
   "metadata": {
    "collapsed": false
   }
  },
  {
   "cell_type": "code",
   "execution_count": 17,
   "outputs": [
    {
     "data": {
      "text/plain": "<Figure size 640x480 with 1 Axes>",
      "image/png": "[encoded data removed]"
     },
     "metadata": {},
     "output_type": "display_data"
    }
   ],
   "source": [
    "kmeans = KMeans(n_clusters=3)\n",
    "kmeans.fit(data)\n",
    "\n",
    "plt.scatter(x, x1,  c=kmeans.labels_)\n",
    "# plt.scatter(x1, y)\n",
    "plt.show()"
   ],
   "metadata": {
    "collapsed": false
   }
  },
  {
   "cell_type": "code",
   "execution_count": 18,
   "outputs": [
    {
     "data": {
      "text/plain": "         0           1\n0     1.02   19.515538\n1     0.49  111.620967\n2     2.35  182.967200\n3     0.31    9.757769\n4     0.26   12.007192\n...    ...         ...\n4363  1.73   35.380907\n4364  0.46   11.824106\n4365  0.46   11.824106\n4366  1.00   17.909295\n4367  1.00   17.909295\n\n[4368 rows x 2 columns]",
      "text/html": "<div>\n<style scoped>\n    .dataframe tbody tr th:only-of-type {\n        vertical-align: middle;\n    }\n\n    .dataframe tbody tr th {\n        vertical-align: top;\n    }\n\n    .dataframe thead th {\n        text-align: right;\n    }\n</style>\n<table border=\"1\" class=\"dataframe\">\n  <thead>\n    <tr style=\"text-align: right;\">\n      <th></th>\n      <th>0</th>\n      <th>1</th>\n    </tr>\n  </thead>\n  <tbody>\n    <tr>\n      <th>0</th>\n      <td>1.02</td>\n      <td>19.515538</td>\n    </tr>\n    <tr>\n      <th>1</th>\n      <td>0.49</td>\n      <td>111.620967</td>\n    </tr>\n    <tr>\n      <th>2</th>\n      <td>2.35</td>\n      <td>182.967200</td>\n    </tr>\n    <tr>\n      <th>3</th>\n      <td>0.31</td>\n      <td>9.757769</td>\n    </tr>\n    <tr>\n      <th>4</th>\n      <td>0.26</td>\n      <td>12.007192</td>\n    </tr>\n    <tr>\n      <th>...</th>\n      <td>...</td>\n      <td>...</td>\n    </tr>\n    <tr>\n      <th>4363</th>\n      <td>1.73</td>\n      <td>35.380907</td>\n    </tr>\n    <tr>\n      <th>4364</th>\n      <td>0.46</td>\n      <td>11.824106</td>\n    </tr>\n    <tr>\n      <th>4365</th>\n      <td>0.46</td>\n      <td>11.824106</td>\n    </tr>\n    <tr>\n      <th>4366</th>\n      <td>1.00</td>\n      <td>17.909295</td>\n    </tr>\n    <tr>\n      <th>4367</th>\n      <td>1.00</td>\n      <td>17.909295</td>\n    </tr>\n  </tbody>\n</table>\n<p>4368 rows × 2 columns</p>\n</div>"
     },
     "execution_count": 18,
     "metadata": {},
     "output_type": "execute_result"
    }
   ],
   "source": [
    "pd.DataFrame(data)"
   ],
   "metadata": {
    "collapsed": false
   }
  },
  {
   "cell_type": "code",
   "execution_count": 19,
   "outputs": [
    {
     "name": "stdout",
     "output_type": "stream",
     "text": [
      "KMeans(n_clusters=3)\n"
     ]
    }
   ],
   "source": [
    "print(kmeans)\n",
    "\n",
    "df = pd.DataFrame(data)\n",
    "df['cluster'] = kmeans.labels_\n",
    "cluster0 = df[(df[\"cluster\"] == 0)]\n",
    "cluster1 = df[(df[\"cluster\"] == 1)]  # This is what you want\n",
    "# cluster2 = df[(df[\"cluster\"] == 1)]  # This is what you want\n",
    "\n",
    "\n",
    "regClu0 = LinearRegression(fit_intercept=False).fit(cluster0[[0]], cluster0[[1]])\n",
    "regClu1 = LinearRegression(fit_intercept=True).fit(cluster1[[0]], cluster1[[1]])\n",
    "# regClu2 = LinearRegression(fit_intercept=False).fit(cluster2[[0]],cluster2[[1]])"
   ],
   "metadata": {
    "collapsed": false
   }
  },
  {
   "cell_type": "code",
   "execution_count": 20,
   "outputs": [
    {
     "name": "stdout",
     "output_type": "stream",
     "text": [
      "Coefficients: \n",
      " [[14.17311011]]\n"
     ]
    }
   ],
   "source": [
    "# The coefficients\n",
    "print(\"Coefficients: \\n\", regClu0.coef_)"
   ],
   "metadata": {
    "collapsed": false
   }
  },
  {
   "cell_type": "code",
   "execution_count": 21,
   "outputs": [
    {
     "data": {
      "text/plain": "         0           1  cluster\n0     1.02   19.515538        0\n1     0.49  111.620967        0\n2     2.35  182.967200        0\n3     0.31    9.757769        0\n4     0.26   12.007192        0\n...    ...         ...      ...\n4363  1.73   35.380907        0\n4364  0.46   11.824106        0\n4365  0.46   11.824106        0\n4366  1.00   17.909295        0\n4367  1.00   17.909295        0\n\n[4276 rows x 3 columns]",
      "text/html": "<div>\n<style scoped>\n    .dataframe tbody tr th:only-of-type {\n        vertical-align: middle;\n    }\n\n    .dataframe tbody tr th {\n        vertical-align: top;\n    }\n\n    .dataframe thead th {\n        text-align: right;\n    }\n</style>\n<table border=\"1\" class=\"dataframe\">\n  <thead>\n    <tr style=\"text-align: right;\">\n      <th></th>\n      <th>0</th>\n      <th>1</th>\n      <th>cluster</th>\n    </tr>\n  </thead>\n  <tbody>\n    <tr>\n      <th>0</th>\n      <td>1.02</td>\n      <td>19.515538</td>\n      <td>0</td>\n    </tr>\n    <tr>\n      <th>1</th>\n      <td>0.49</td>\n      <td>111.620967</td>\n      <td>0</td>\n    </tr>\n    <tr>\n      <th>2</th>\n      <td>2.35</td>\n      <td>182.967200</td>\n      <td>0</td>\n    </tr>\n    <tr>\n      <th>3</th>\n      <td>0.31</td>\n      <td>9.757769</td>\n      <td>0</td>\n    </tr>\n    <tr>\n      <th>4</th>\n      <td>0.26</td>\n      <td>12.007192</td>\n      <td>0</td>\n    </tr>\n    <tr>\n      <th>...</th>\n      <td>...</td>\n      <td>...</td>\n      <td>...</td>\n    </tr>\n    <tr>\n      <th>4363</th>\n      <td>1.73</td>\n      <td>35.380907</td>\n      <td>0</td>\n    </tr>\n    <tr>\n      <th>4364</th>\n      <td>0.46</td>\n      <td>11.824106</td>\n      <td>0</td>\n    </tr>\n    <tr>\n      <th>4365</th>\n      <td>0.46</td>\n      <td>11.824106</td>\n      <td>0</td>\n    </tr>\n    <tr>\n      <th>4366</th>\n      <td>1.00</td>\n      <td>17.909295</td>\n      <td>0</td>\n    </tr>\n    <tr>\n      <th>4367</th>\n      <td>1.00</td>\n      <td>17.909295</td>\n      <td>0</td>\n    </tr>\n  </tbody>\n</table>\n<p>4276 rows × 3 columns</p>\n</div>"
     },
     "execution_count": 21,
     "metadata": {},
     "output_type": "execute_result"
    }
   ],
   "source": [],
   "metadata": {
    "collapsed": false
   }
  },
  {
   "cell_type": "code",
   "execution_count": 21,
   "outputs": [],
   "source": [],
   "metadata": {
    "collapsed": false
   }
  },
  {
   "cell_type": "code",
   "execution_count": null,
   "outputs": [],
   "source": [],
   "metadata": {
    "collapsed": false
   }
  }
 ],
 "metadata": {
  "kernelspec": {
   "display_name": "Python 3",
   "language": "python",
   "name": "python3"
  },
  "language_info": {
   "codemirror_mode": {
    "name": "ipython",
    "version": 2
   },
   "file_extension": ".py",
   "mimetype": "text/x-python",
   "name": "python",
   "nbconvert_exporter": "python",
   "pygments_lexer": "ipython2",
   "version": "2.7.6"
  }
 },
 "nbformat": 4,
 "nbformat_minor": 0
}
