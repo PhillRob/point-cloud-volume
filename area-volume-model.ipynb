{
 "cells": [
  {
   "cell_type": "code",
   "execution_count": 1,
   "outputs": [],
   "source": [
    "#!/usr/bin/python3\n",
    "import pandas as pd\n",
    "import numpy as np\n",
    "import geopandas as gpd\n",
    "import glob\n",
    "import os\n",
    "import json\n",
    "from os.path import exists\n",
    "import piecewise_regression\n",
    "from sklearn.linear_model import LinearRegression\n",
    "from sklearn.svm import SVR\n",
    "from sklearn.metrics import mean_squared_error, r2_score\n",
    "# import pysal as ps\n",
    "# from pysal.contrib.viz import mapping as maps\n",
    "from shapely import wkt\n",
    "from shapely.geometry import Polygon\n",
    "import matplotlib\n",
    "import matplotlib.pyplot as plt"
   ],
   "metadata": {
    "collapsed": false
   }
  },
  {
   "cell_type": "code",
   "execution_count": 4,
   "outputs": [
    {
     "data": {
      "text/plain": "6311"
     },
     "execution_count": 2,
     "metadata": {},
     "output_type": "execute_result"
    },
    {
     "name": "stdout",
     "output_type": "stream",
     "text": [
      "1\n"
     ]
    },
    {
     "data": {
      "text/plain": "6311"
     },
     "execution_count": 4,
     "metadata": {},
     "output_type": "execute_result"
    }
   ],
   "source": [
    "# get data\n",
    "dfs = [] # an empty list to store the data frames`\n",
    "StartDir = '/Users/philipp/BPLA Dropbox/03 Planning/DN-Dumping Detection-1087/05_Output/Digitisation/Version-3/DD-lowest/boundary-reviewed'\n",
    "\n",
    "json_pattern = os.path.join(StartDir,'*.geojson')\n",
    "file_list = glob.glob(json_pattern)\n",
    "print(len(file_list))\n",
    "\n",
    "for file in file_list:\n",
    "    data = gpd.read_file(file, lines=True) # read data frame from json file\n",
    "    dfs.append(data) # append the data frame to the list\n",
    "\n",
    "# concatenate and format\n",
    "piles = pd.concat(dfs)\n",
    "piles=piles.to_crs(\"EPSG:32638\")\n",
    "piles['str_geom'] = piles['geometry'].apply(wkt.dumps)\n",
    "piles['FIDint'] = piles['fid'].astype('int64')\n",
    "len(piles)"
   ],
   "metadata": {
    "collapsed": false
   }
  },
  {
   "cell_type": "code",
   "execution_count": 4,
   "outputs": [],
   "source": [],
   "metadata": {
    "collapsed": false
   }
  },
  {
   "cell_type": "code",
   "execution_count": 4,
   "outputs": [],
   "source": [],
   "metadata": {
    "collapsed": false
   }
  },
  {
   "cell_type": "code",
   "execution_count": 5,
   "outputs": [
    {
     "name": "stderr",
     "output_type": "stream",
     "text": [
      "/var/folders/zm/fb_kfkpj55zf4d6ywxmphdy40000gn/T/ipykernel_54940/667274437.py:26: FutureWarning: Dropping invalid columns in DataFrameGroupBy.max is deprecated. In a future version, a TypeError will be raised. Before calling .max, select only columns which should be valid for the function.\n",
      "  pilesNoNADupMax = pilesNoNADup.groupby('str_geom', group_keys=False).agg(max)\n",
      "/var/folders/zm/fb_kfkpj55zf4d6ywxmphdy40000gn/T/ipykernel_54940/667274437.py:32: FutureWarning: The frame.append method is deprecated and will be removed from pandas in a future version. Use pandas.concat instead.\n",
      "  final = pilesNoNANoDup.append(pilesNoNANoDupMax)\n"
     ]
    }
   ],
   "source": [
    "# filter NA's for the cut\n",
    "piles = piles[(piles.Updat_cut != 'NA')]\n",
    "len(piles)\n",
    "piles['Updat_cut'] = piles['Updat_cut'].astype('float64')\n",
    "piles['Updat_Volu'] = piles['Updat_Volu'].astype('float64')\n",
    "\n",
    "pilesNoNA = piles[(~piles['Updat_cut'].isnull())]\n",
    "\n",
    "len(pilesNoNA)\n",
    "pilesNoNA['Type'].value_counts()\n",
    "\n",
    "#piles.to_file(StartDir+\"/piles-west-lowest.shp\")\n",
    "\n",
    "# filter for duplicate geometry\n",
    "pilesNoNA['str_geom_d'] = pilesNoNA.duplicated(subset=['str_geom'], keep=False)\n",
    "pilesNoNA['str_geom_d'].value_counts()\n",
    "\n",
    "# unique polygons\n",
    "pilesNoNANoDup = pilesNoNA[pilesNoNA.str_geom_d == False]\n",
    "len(pilesNoNANoDup)\n",
    "\n",
    "pilesNoNADup = pilesNoNA[pilesNoNA.str_geom_d == True]\n",
    "len(pilesNoNADup)\n",
    "len(pilesNoNADup.str_geom.unique().tolist())\n",
    "\n",
    "pilesNoNADupMax = pilesNoNADup.groupby('str_geom', group_keys=False).agg(max)\n",
    "len(pilesNoNADupMax)\n",
    "\n",
    "pilesNoNANoDupMax = pilesNoNADup[pilesNoNADup['Updat_cut'].isin(list(pilesNoNADupMax['Updat_cut']))]\n",
    "len(pilesNoNANoDupMax)\n",
    "\n",
    "final = pilesNoNANoDup.append(pilesNoNANoDupMax)"
   ],
   "metadata": {
    "collapsed": false
   }
  },
  {
   "cell_type": "code",
   "execution_count": 6,
   "outputs": [],
   "source": [
    "final['Type'] = final['Type'].str.lower()\n",
    "final['finalcut'] = final.duplicated(subset=['Updat_cut'], keep='first')\n",
    "final = final[final.finalcut == False]"
   ],
   "metadata": {
    "collapsed": false
   }
  },
  {
   "cell_type": "code",
   "execution_count": 7,
   "outputs": [],
   "source": [
    "final['perimeter'] = final['geometry'].to_crs(\"EPSG:32638\").map(lambda p: p.length)\n",
    "final['area']=final['geometry'].to_crs(\"EPSG:32638\").map(lambda p: p.area)"
   ],
   "metadata": {
    "collapsed": false
   }
  },
  {
   "cell_type": "code",
   "execution_count": 8,
   "outputs": [
    {
     "data": {
      "text/plain": "count    5885.000000\nmean       88.445182\nstd       255.061206\nmin         0.729691\n25%        22.620086\n50%        32.086630\n75%        58.912002\nmax      4495.492610\nName: area, dtype: float64"
     },
     "execution_count": 8,
     "metadata": {},
     "output_type": "execute_result"
    }
   ],
   "source": [
    "final['area'].describe()"
   ],
   "metadata": {
    "collapsed": false
   }
  },
  {
   "cell_type": "code",
   "execution_count": 9,
   "outputs": [
    {
     "data": {
      "text/plain": "         fid    cat   Id                Type        cut  \\\n0       64.0  200.0  0.0  construction_waste  19.358050   \n1       65.0  201.0  0.0  construction_waste  66.750949   \n2       80.0  219.0  0.0  construction_waste   9.967514   \n3       81.0  221.0  0.0  construction_waste  15.919302   \n4       82.0  223.0  0.0  construction_waste  47.029063   \n...      ...    ...  ...                 ...        ...   \n6310  3852.0    NaN  NaN  construction_waste   8.872994   \n2366  3184.0    NaN  NaN  construction_waste  30.016684   \n2367  3187.0    NaN  NaN        natural_soil  35.543250   \n2368  3813.0    NaN  NaN  construction_waste   5.037203   \n2369  3814.0    NaN  NaN  construction_waste  14.377411   \n\n                         fill             volume  \\\n0                         0.0  19.35805046099543   \n1       -0.060730561379273844  66.69021831203122   \n2     -0.00010354714871778371  9.967410268149333   \n3      -0.0061824381122978648  15.91311960942508   \n4      -0.0040382707231438296  47.02502441618826   \n...                       ...                ...   \n6310                     None               None   \n2366                      0.0  30.01668412465427   \n2367                      0.0   35.5432499971223   \n2368                      0.0  5.037203342522038   \n2369  -6.6409496262514244e-05   14.3773441538773   \n\n                                               str_geom  FIDint  str_geom_d  \\\n0     MULTIPOLYGON (((661855.1470344772096723 271591...      64       False   \n1     MULTIPOLYGON (((661701.0498651723610237 271612...      65       False   \n2     MULTIPOLYGON (((661796.5084588918834925 271601...      80       False   \n3     MULTIPOLYGON (((661849.6607110316399485 271601...      81       False   \n4     MULTIPOLYGON (((661717.0828087122645229 271613...      82       False   \n...                                                 ...     ...         ...   \n6310  MULTIPOLYGON (((665774.1511404308257625 271610...    3852       False   \n2366  MULTIPOLYGON (((665165.8318939859746024 271561...    3184        True   \n2367  MULTIPOLYGON (((665133.4313261091010645 271560...    3187        True   \n2368  MULTIPOLYGON (((665140.2116184852784500 271560...    3813        True   \n2369  MULTIPOLYGON (((665148.7731193338986486 271561...    3814        True   \n\n      finalcut        area     ratio    y_pred  Updat_area  Updat_cut  \\\n0        False   33.310999  0.581131       NaN      33.316     19.361   \n1        False  120.712029  0.552977       NaN     120.731     66.761   \n2        False   19.515538  0.510748       NaN      19.519      9.969   \n3        False   26.614882  0.598135       NaN      26.619     15.922   \n4        False  111.620967  0.421328       NaN     111.638     47.036   \n...        ...         ...       ...       ...         ...        ...   \n6310     False   18.386815  0.482574  8.872994      18.389      8.874   \n2366     False   34.961163  0.858572       NaN      34.966     30.021   \n2367     False   35.380907  1.004588       NaN      35.385     35.547   \n2368     False   11.824106  0.426011       NaN      11.826      5.038   \n2369     False   17.909295  0.802790       NaN      17.912     14.380   \n\n      Updat_Volu                                           geometry  perimeter  \n0         19.361  MULTIPOLYGON (((661855.147 2715910.261, 661857...  23.550303  \n1         66.701  MULTIPOLYGON (((661701.050 2716126.487, 661702...  61.780554  \n2          9.969  MULTIPOLYGON (((661796.508 2716016.998, 661800...  17.975159  \n3         15.916  MULTIPOLYGON (((661849.661 2716019.832, 661851...  20.067042  \n4         47.032  MULTIPOLYGON (((661717.083 2716133.185, 661740...  58.852991  \n...          ...                                                ...        ...  \n6310         NaN  MULTIPOLYGON (((665774.151 2716108.553, 665772...  16.170456  \n2366      30.021  MULTIPOLYGON (((665165.832 2715617.476, 665165...  22.130684  \n2367      35.547  MULTIPOLYGON (((665133.431 2715608.087, 665135...  22.636426  \n2368       5.038  MULTIPOLYGON (((665140.212 2715608.555, 665138...  13.393251  \n2369      14.380  MULTIPOLYGON (((665148.773 2715610.593, 665148...  15.949595  \n\n[5885 rows x 19 columns]",
      "text/html": "<div>\n<style scoped>\n    .dataframe tbody tr th:only-of-type {\n        vertical-align: middle;\n    }\n\n    .dataframe tbody tr th {\n        vertical-align: top;\n    }\n\n    .dataframe thead th {\n        text-align: right;\n    }\n</style>\n<table border=\"1\" class=\"dataframe\">\n  <thead>\n    <tr style=\"text-align: right;\">\n      <th></th>\n      <th>fid</th>\n      <th>cat</th>\n      <th>Id</th>\n      <th>Type</th>\n      <th>cut</th>\n      <th>fill</th>\n      <th>volume</th>\n      <th>str_geom</th>\n      <th>FIDint</th>\n      <th>str_geom_d</th>\n      <th>finalcut</th>\n      <th>area</th>\n      <th>ratio</th>\n      <th>y_pred</th>\n      <th>Updat_area</th>\n      <th>Updat_cut</th>\n      <th>Updat_Volu</th>\n      <th>geometry</th>\n      <th>perimeter</th>\n    </tr>\n  </thead>\n  <tbody>\n    <tr>\n      <th>0</th>\n      <td>64.0</td>\n      <td>200.0</td>\n      <td>0.0</td>\n      <td>construction_waste</td>\n      <td>19.358050</td>\n      <td>0.0</td>\n      <td>19.35805046099543</td>\n      <td>MULTIPOLYGON (((661855.1470344772096723 271591...</td>\n      <td>64</td>\n      <td>False</td>\n      <td>False</td>\n      <td>33.310999</td>\n      <td>0.581131</td>\n      <td>NaN</td>\n      <td>33.316</td>\n      <td>19.361</td>\n      <td>19.361</td>\n      <td>MULTIPOLYGON (((661855.147 2715910.261, 661857...</td>\n      <td>23.550303</td>\n    </tr>\n    <tr>\n      <th>1</th>\n      <td>65.0</td>\n      <td>201.0</td>\n      <td>0.0</td>\n      <td>construction_waste</td>\n      <td>66.750949</td>\n      <td>-0.060730561379273844</td>\n      <td>66.69021831203122</td>\n      <td>MULTIPOLYGON (((661701.0498651723610237 271612...</td>\n      <td>65</td>\n      <td>False</td>\n      <td>False</td>\n      <td>120.712029</td>\n      <td>0.552977</td>\n      <td>NaN</td>\n      <td>120.731</td>\n      <td>66.761</td>\n      <td>66.701</td>\n      <td>MULTIPOLYGON (((661701.050 2716126.487, 661702...</td>\n      <td>61.780554</td>\n    </tr>\n    <tr>\n      <th>2</th>\n      <td>80.0</td>\n      <td>219.0</td>\n      <td>0.0</td>\n      <td>construction_waste</td>\n      <td>9.967514</td>\n      <td>-0.00010354714871778371</td>\n      <td>9.967410268149333</td>\n      <td>MULTIPOLYGON (((661796.5084588918834925 271601...</td>\n      <td>80</td>\n      <td>False</td>\n      <td>False</td>\n      <td>19.515538</td>\n      <td>0.510748</td>\n      <td>NaN</td>\n      <td>19.519</td>\n      <td>9.969</td>\n      <td>9.969</td>\n      <td>MULTIPOLYGON (((661796.508 2716016.998, 661800...</td>\n      <td>17.975159</td>\n    </tr>\n    <tr>\n      <th>3</th>\n      <td>81.0</td>\n      <td>221.0</td>\n      <td>0.0</td>\n      <td>construction_waste</td>\n      <td>15.919302</td>\n      <td>-0.0061824381122978648</td>\n      <td>15.91311960942508</td>\n      <td>MULTIPOLYGON (((661849.6607110316399485 271601...</td>\n      <td>81</td>\n      <td>False</td>\n      <td>False</td>\n      <td>26.614882</td>\n      <td>0.598135</td>\n      <td>NaN</td>\n      <td>26.619</td>\n      <td>15.922</td>\n      <td>15.916</td>\n      <td>MULTIPOLYGON (((661849.661 2716019.832, 661851...</td>\n      <td>20.067042</td>\n    </tr>\n    <tr>\n      <th>4</th>\n      <td>82.0</td>\n      <td>223.0</td>\n      <td>0.0</td>\n      <td>construction_waste</td>\n      <td>47.029063</td>\n      <td>-0.0040382707231438296</td>\n      <td>47.02502441618826</td>\n      <td>MULTIPOLYGON (((661717.0828087122645229 271613...</td>\n      <td>82</td>\n      <td>False</td>\n      <td>False</td>\n      <td>111.620967</td>\n      <td>0.421328</td>\n      <td>NaN</td>\n      <td>111.638</td>\n      <td>47.036</td>\n      <td>47.032</td>\n      <td>MULTIPOLYGON (((661717.083 2716133.185, 661740...</td>\n      <td>58.852991</td>\n    </tr>\n    <tr>\n      <th>...</th>\n      <td>...</td>\n      <td>...</td>\n      <td>...</td>\n      <td>...</td>\n      <td>...</td>\n      <td>...</td>\n      <td>...</td>\n      <td>...</td>\n      <td>...</td>\n      <td>...</td>\n      <td>...</td>\n      <td>...</td>\n      <td>...</td>\n      <td>...</td>\n      <td>...</td>\n      <td>...</td>\n      <td>...</td>\n      <td>...</td>\n      <td>...</td>\n    </tr>\n    <tr>\n      <th>6310</th>\n      <td>3852.0</td>\n      <td>NaN</td>\n      <td>NaN</td>\n      <td>construction_waste</td>\n      <td>8.872994</td>\n      <td>None</td>\n      <td>None</td>\n      <td>MULTIPOLYGON (((665774.1511404308257625 271610...</td>\n      <td>3852</td>\n      <td>False</td>\n      <td>False</td>\n      <td>18.386815</td>\n      <td>0.482574</td>\n      <td>8.872994</td>\n      <td>18.389</td>\n      <td>8.874</td>\n      <td>NaN</td>\n      <td>MULTIPOLYGON (((665774.151 2716108.553, 665772...</td>\n      <td>16.170456</td>\n    </tr>\n    <tr>\n      <th>2366</th>\n      <td>3184.0</td>\n      <td>NaN</td>\n      <td>NaN</td>\n      <td>construction_waste</td>\n      <td>30.016684</td>\n      <td>0.0</td>\n      <td>30.01668412465427</td>\n      <td>MULTIPOLYGON (((665165.8318939859746024 271561...</td>\n      <td>3184</td>\n      <td>True</td>\n      <td>False</td>\n      <td>34.961163</td>\n      <td>0.858572</td>\n      <td>NaN</td>\n      <td>34.966</td>\n      <td>30.021</td>\n      <td>30.021</td>\n      <td>MULTIPOLYGON (((665165.832 2715617.476, 665165...</td>\n      <td>22.130684</td>\n    </tr>\n    <tr>\n      <th>2367</th>\n      <td>3187.0</td>\n      <td>NaN</td>\n      <td>NaN</td>\n      <td>natural_soil</td>\n      <td>35.543250</td>\n      <td>0.0</td>\n      <td>35.5432499971223</td>\n      <td>MULTIPOLYGON (((665133.4313261091010645 271560...</td>\n      <td>3187</td>\n      <td>True</td>\n      <td>False</td>\n      <td>35.380907</td>\n      <td>1.004588</td>\n      <td>NaN</td>\n      <td>35.385</td>\n      <td>35.547</td>\n      <td>35.547</td>\n      <td>MULTIPOLYGON (((665133.431 2715608.087, 665135...</td>\n      <td>22.636426</td>\n    </tr>\n    <tr>\n      <th>2368</th>\n      <td>3813.0</td>\n      <td>NaN</td>\n      <td>NaN</td>\n      <td>construction_waste</td>\n      <td>5.037203</td>\n      <td>0.0</td>\n      <td>5.037203342522038</td>\n      <td>MULTIPOLYGON (((665140.2116184852784500 271560...</td>\n      <td>3813</td>\n      <td>True</td>\n      <td>False</td>\n      <td>11.824106</td>\n      <td>0.426011</td>\n      <td>NaN</td>\n      <td>11.826</td>\n      <td>5.038</td>\n      <td>5.038</td>\n      <td>MULTIPOLYGON (((665140.212 2715608.555, 665138...</td>\n      <td>13.393251</td>\n    </tr>\n    <tr>\n      <th>2369</th>\n      <td>3814.0</td>\n      <td>NaN</td>\n      <td>NaN</td>\n      <td>construction_waste</td>\n      <td>14.377411</td>\n      <td>-6.6409496262514244e-05</td>\n      <td>14.3773441538773</td>\n      <td>MULTIPOLYGON (((665148.7731193338986486 271561...</td>\n      <td>3814</td>\n      <td>True</td>\n      <td>False</td>\n      <td>17.909295</td>\n      <td>0.802790</td>\n      <td>NaN</td>\n      <td>17.912</td>\n      <td>14.380</td>\n      <td>14.380</td>\n      <td>MULTIPOLYGON (((665148.773 2715610.593, 665148...</td>\n      <td>15.949595</td>\n    </tr>\n  </tbody>\n</table>\n<p>5885 rows × 19 columns</p>\n</div>"
     },
     "execution_count": 9,
     "metadata": {},
     "output_type": "execute_result"
    }
   ],
   "source": [
    "final# output"
   ],
   "metadata": {
    "collapsed": false
   }
  },
  {
   "cell_type": "code",
   "execution_count": 10,
   "outputs": [
    {
     "name": "stdout",
     "output_type": "stream",
     "text": [
      "5885\n",
      "natural_soil          4072\n",
      "construction_waste    1439\n",
      "misc                   374\n",
      "Name: Type, dtype: int64\n"
     ]
    }
   ],
   "source": [
    "print(len(final))\n",
    "print(final['Type'].value_counts())"
   ],
   "metadata": {
    "collapsed": false
   }
  },
  {
   "cell_type": "code",
   "execution_count": 11,
   "outputs": [
    {
     "name": "stdout",
     "output_type": "stream",
     "text": [
      "Type\n",
      "construction_waste    123266.562013\n",
      "misc                   35876.129291\n",
      "natural_soil          361357.204522\n",
      "Name: area, dtype: float64\n"
     ]
    },
    {
     "name": "stderr",
     "output_type": "stream",
     "text": [
      "/var/folders/zm/fb_kfkpj55zf4d6ywxmphdy40000gn/T/ipykernel_54940/1709044387.py:1: FutureWarning: The default value of numeric_only in DataFrameGroupBy.sum is deprecated. In a future version, numeric_only will default to False. Either specify numeric_only or select only columns which should be valid for the function.\n",
      "  print(final.groupby('Type',group_keys=False).agg(sum)['area'])\n"
     ]
    }
   ],
   "source": [
    "print(final.groupby('Type',group_keys=False).agg(sum)['area'])"
   ],
   "metadata": {
    "collapsed": false
   }
  },
  {
   "cell_type": "code",
   "execution_count": 12,
   "outputs": [
    {
     "name": "stdout",
     "output_type": "stream",
     "text": [
      "Type\n",
      "construction_waste    177843.475501\n",
      "misc                   35699.619853\n",
      "natural_soil          478745.455629\n",
      "Name: cut, dtype: float64\n"
     ]
    },
    {
     "name": "stderr",
     "output_type": "stream",
     "text": [
      "/var/folders/zm/fb_kfkpj55zf4d6ywxmphdy40000gn/T/ipykernel_54940/85746032.py:1: FutureWarning: The default value of numeric_only in DataFrameGroupBy.sum is deprecated. In a future version, numeric_only will default to False. Either specify numeric_only or select only columns which should be valid for the function.\n",
      "  print(final.groupby('Type', group_keys=False).agg(sum)['cut'])\n"
     ]
    }
   ],
   "source": [
    "print(final.groupby('Type', group_keys=False).agg(sum)['cut'])\n",
    "# print(final.groupby('Type',group_keys=False).agg(sum)['volume'])"
   ],
   "metadata": {
    "collapsed": false
   }
  },
  {
   "cell_type": "code",
   "execution_count": 13,
   "outputs": [],
   "source": [
    "x = final['area']\n",
    "y = final['Updat_cut']\n",
    "data = list(zip(x, y))\n"
   ],
   "metadata": {
    "collapsed": false
   }
  },
  {
   "cell_type": "code",
   "execution_count": 14,
   "outputs": [
    {
     "data": {
      "text/plain": "<Figure size 640x480 with 1 Axes>",
      "image/png": "[encoded data removed]"
     },
     "metadata": {},
     "output_type": "display_data"
    }
   ],
   "source": [
    "# cluster based om area and volume\n",
    "from sklearn.cluster import KMeans\n",
    "\n",
    "inertias = []\n",
    "for i in range(1,11):\n",
    "    kmeans = KMeans(n_clusters=i)\n",
    "    kmeans.fit(data)\n",
    "    inertias.append(kmeans.inertia_)\n",
    "\n",
    "plt.plot(range(1,11), inertias, marker='o')\n",
    "plt.title('Elbow method')\n",
    "plt.xlabel('Number of clusters')\n",
    "plt.ylabel('Inertia')\n",
    "plt.show()"
   ],
   "metadata": {
    "collapsed": false
   }
  },
  {
   "cell_type": "code",
   "execution_count": 15,
   "outputs": [
    {
     "data": {
      "text/plain": "<Figure size 640x480 with 1 Axes>",
      "image/png": "[encoded data removed]"
     },
     "metadata": {},
     "output_type": "display_data"
    }
   ],
   "source": [
    "kmeans = KMeans(n_clusters=2)\n",
    "kmeans.fit(data)\n",
    "\n",
    "plt.scatter(x, y, c=kmeans.labels_)\n",
    "plt.show()"
   ],
   "metadata": {
    "collapsed": false
   }
  },
  {
   "cell_type": "code",
   "execution_count": 16,
   "outputs": [
    {
     "name": "stdout",
     "output_type": "stream",
     "text": [
      "KMeans(n_clusters=2)\n"
     ]
    }
   ],
   "source": [
    "print(kmeans)\n",
    "\n",
    "df = pd.DataFrame(data)\n",
    "df['cluster'] = kmeans.labels_"
   ],
   "metadata": {
    "collapsed": false
   }
  },
  {
   "cell_type": "code",
   "execution_count": 17,
   "outputs": [],
   "source": [
    "cluster0 = df[(df[\"cluster\"] == 0)]\n",
    "cluster1 = df[(df[\"cluster\"] ==1)]  # This is what you want\n",
    "# cluster2 = df[(df[\"cluster\"] == 1)]  # This is what you want"
   ],
   "metadata": {
    "collapsed": false
   }
  },
  {
   "cell_type": "code",
   "execution_count": 17,
   "outputs": [],
   "source": [],
   "metadata": {
    "collapsed": false
   }
  },
  {
   "cell_type": "code",
   "execution_count": 17,
   "outputs": [],
   "source": [],
   "metadata": {
    "collapsed": false
   }
  },
  {
   "cell_type": "code",
   "execution_count": 18,
   "outputs": [],
   "source": [
    "regClu0 = LinearRegression(fit_intercept=False).fit(cluster0[[0]],cluster0[[1]])\n",
    "regClu1 = LinearRegression(fit_intercept=True).fit(cluster1[[0]],cluster1[[1]])\n",
    "# regClu2 = LinearRegression(fit_intercept=False).fit(cluster2[[0]],cluster2[[1]])"
   ],
   "metadata": {
    "collapsed": false
   }
  },
  {
   "cell_type": "code",
   "execution_count": 19,
   "outputs": [
    {
     "name": "stdout",
     "output_type": "stream",
     "text": [
      "Coefficients: \n",
      " [[1.40571804]]\n"
     ]
    }
   ],
   "source": [
    "# The coefficients\n",
    "print(\"Coefficients: \\n\", regClu0.coef_)"
   ],
   "metadata": {
    "collapsed": false
   }
  },
  {
   "cell_type": "code",
   "execution_count": 20,
   "outputs": [],
   "source": [
    "#LReg on small data sets only\n",
    "toP = gpd.read_file('/Users/philipp/BPLA Dropbox/03 Planning/DN-Dumping Detection-1087/05_Output/Digitisation/Version-4-Worldview3/Final_New_Sat/Final_New_sat-v2-clipped-v2.geojson', lines=True)\n",
    "toP = toP.to_crs(\"EPSG:32638\")\n",
    "\n",
    "toP['Type'] = toP['Type'].str.lower()\n",
    "toP['area'] = toP['geometry'].map(lambda p: p.area)"
   ],
   "metadata": {
    "collapsed": false
   }
  },
  {
   "cell_type": "code",
   "execution_count": 20,
   "outputs": [],
   "source": [],
   "metadata": {
    "collapsed": false
   }
  },
  {
   "cell_type": "code",
   "execution_count": 21,
   "outputs": [
    {
     "data": {
      "text/plain": "2867.6780757275133"
     },
     "execution_count": 21,
     "metadata": {},
     "output_type": "execute_result"
    }
   ],
   "source": [
    "float(cluster0[0].max())"
   ],
   "metadata": {
    "collapsed": false
   }
  },
  {
   "cell_type": "code",
   "execution_count": 22,
   "outputs": [
    {
     "data": {
      "text/plain": "1331.2048507232307"
     },
     "execution_count": 22,
     "metadata": {},
     "output_type": "execute_result"
    }
   ],
   "source": [
    "float(cluster1[0].min())"
   ],
   "metadata": {
    "collapsed": false
   }
  },
  {
   "cell_type": "code",
   "execution_count": 23,
   "outputs": [
    {
     "data": {
      "text/plain": "(15261, 4)"
     },
     "execution_count": 23,
     "metadata": {},
     "output_type": "execute_result"
    }
   ],
   "source": [
    "toP.shape"
   ],
   "metadata": {
    "collapsed": false
   }
  },
  {
   "cell_type": "code",
   "execution_count": 24,
   "outputs": [
    {
     "name": "stdout",
     "output_type": "stream",
     "text": [
      "(15258, 4)\n",
      "Coefficients: \n",
      " [[1.40571804]]\n",
      "Mean squared error: 581.42\n",
      "Coefficient of determination: 0.72\n"
     ]
    },
    {
     "name": "stderr",
     "output_type": "stream",
     "text": [
      "/Users/philipp/Projects/PycharmProjects/point-cloud-volume/venv/lib/python3.9/site-packages/geopandas/geodataframe.py:1472: SettingWithCopyWarning: \n",
      "A value is trying to be set on a copy of a slice from a DataFrame.\n",
      "Try using .loc[row_indexer,col_indexer] = value instead\n",
      "\n",
      "See the caveats in the documentation: https://pandas.pydata.org/pandas-docs/stable/user_guide/indexing.html#returning-a-view-versus-a-copy\n",
      "  super().__setitem__(key, value)\n"
     ]
    }
   ],
   "source": [
    "#  predictions\n",
    "toP0 = toP.loc[toP['area'] <= float(cluster1[0].min())]\n",
    "\n",
    "\n",
    "print(toP0.shape)\n",
    "c0_pred = regClu0.predict(np.array(toP0['area']).reshape(-1, 1))\n",
    "toP0['pred'] = c0_pred\n",
    "# The coefficients\n",
    "print(\"Coefficients: \\n\", regClu0.coef_)\n",
    "# The mean squared error\n",
    "print(\"Mean squared error: %.2f\" % mean_squared_error(toP0['area'], c0_pred))\n",
    "# The coefficient of determination: 1 is perfect prediction\n",
    "print(\"Coefficient of determination: %.2f\" % r2_score(toP0['area'], c0_pred))"
   ],
   "metadata": {
    "collapsed": false
   }
  },
  {
   "cell_type": "code",
   "execution_count": 24,
   "outputs": [],
   "source": [],
   "metadata": {
    "collapsed": false
   }
  },
  {
   "cell_type": "code",
   "execution_count": 25,
   "outputs": [
    {
     "data": {
      "text/plain": "<Figure size 640x480 with 1 Axes>",
      "image/png": "[encoded data removed]"
     },
     "metadata": {},
     "output_type": "display_data"
    }
   ],
   "source": [
    "c0_pred.shape= (-1,1)\n",
    "\n",
    "plt.scatter(x, y, color=\"black\",s=1)\n",
    "plt.scatter(toP0['area'], c0_pred, color=\"red\",s=1)\n",
    "plt.plot(toP0['area'], c0_pred, color=\"blue\", linewidth=1)\n",
    "\n",
    "plt.show()"
   ],
   "metadata": {
    "collapsed": false
   }
  },
  {
   "cell_type": "code",
   "execution_count": 25,
   "outputs": [],
   "source": [],
   "metadata": {
    "collapsed": false
   }
  },
  {
   "cell_type": "code",
   "execution_count": 26,
   "outputs": [
    {
     "ename": "KeyError",
     "evalue": "'area'",
     "output_type": "error",
     "traceback": [
      "\u001B[0;31m---------------------------------------------------------------------------\u001B[0m",
      "\u001B[0;31mKeyError\u001B[0m                                  Traceback (most recent call last)",
      "File \u001B[0;32m~/Projects/PycharmProjects/point-cloud-volume/venv/lib/python3.9/site-packages/pandas/core/indexes/base.py:3803\u001B[0m, in \u001B[0;36mIndex.get_loc\u001B[0;34m(self, key, method, tolerance)\u001B[0m\n\u001B[1;32m   3802\u001B[0m \u001B[38;5;28;01mtry\u001B[39;00m:\n\u001B[0;32m-> 3803\u001B[0m     \u001B[38;5;28;01mreturn\u001B[39;00m \u001B[38;5;28;43mself\u001B[39;49m\u001B[38;5;241;43m.\u001B[39;49m\u001B[43m_engine\u001B[49m\u001B[38;5;241;43m.\u001B[39;49m\u001B[43mget_loc\u001B[49m\u001B[43m(\u001B[49m\u001B[43mcasted_key\u001B[49m\u001B[43m)\u001B[49m\n\u001B[1;32m   3804\u001B[0m \u001B[38;5;28;01mexcept\u001B[39;00m \u001B[38;5;167;01mKeyError\u001B[39;00m \u001B[38;5;28;01mas\u001B[39;00m err:\n",
      "File \u001B[0;32m~/Projects/PycharmProjects/point-cloud-volume/venv/lib/python3.9/site-packages/pandas/_libs/index.pyx:138\u001B[0m, in \u001B[0;36mpandas._libs.index.IndexEngine.get_loc\u001B[0;34m()\u001B[0m\n",
      "File \u001B[0;32m~/Projects/PycharmProjects/point-cloud-volume/venv/lib/python3.9/site-packages/pandas/_libs/index.pyx:146\u001B[0m, in \u001B[0;36mpandas._libs.index.IndexEngine.get_loc\u001B[0;34m()\u001B[0m\n",
      "File \u001B[0;32mpandas/_libs/index_class_helper.pxi:49\u001B[0m, in \u001B[0;36mpandas._libs.index.Int64Engine._check_type\u001B[0;34m()\u001B[0m\n",
      "\u001B[0;31mKeyError\u001B[0m: 'area'",
      "\nThe above exception was the direct cause of the following exception:\n",
      "\u001B[0;31mKeyError\u001B[0m                                  Traceback (most recent call last)",
      "Cell \u001B[0;32mIn [26], line 3\u001B[0m\n\u001B[1;32m      1\u001B[0m toP1 \u001B[38;5;241m=\u001B[39m toP\u001B[38;5;241m.\u001B[39mloc[toP[\u001B[38;5;124m'\u001B[39m\u001B[38;5;124marea\u001B[39m\u001B[38;5;124m'\u001B[39m] \u001B[38;5;241m>\u001B[39m\u001B[38;5;241m=\u001B[39m \u001B[38;5;28mfloat\u001B[39m(cluster1[\u001B[38;5;241m0\u001B[39m]\u001B[38;5;241m.\u001B[39mmin())]\n\u001B[1;32m      2\u001B[0m \u001B[38;5;66;03m# toP1 = toP1.loc[toP1['area'] < float(cluster2[0].max())]\u001B[39;00m\n\u001B[0;32m----> 3\u001B[0m c1_pred \u001B[38;5;241m=\u001B[39m regClu1\u001B[38;5;241m.\u001B[39mpredict(np\u001B[38;5;241m.\u001B[39marray(\u001B[43mtoP1\u001B[49m\u001B[38;5;241;43m.\u001B[39;49m\u001B[43mloc\u001B[49m\u001B[43m[\u001B[49m\u001B[38;5;124;43m'\u001B[39;49m\u001B[38;5;124;43marea\u001B[39;49m\u001B[38;5;124;43m'\u001B[39;49m\u001B[43m]\u001B[49m)\u001B[38;5;241m.\u001B[39mreshape(\u001B[38;5;241m-\u001B[39m\u001B[38;5;241m1\u001B[39m, \u001B[38;5;241m1\u001B[39m))\n\u001B[1;32m      4\u001B[0m toP1[\u001B[38;5;124m'\u001B[39m\u001B[38;5;124mpred\u001B[39m\u001B[38;5;124m'\u001B[39m] \u001B[38;5;241m=\u001B[39m c1_pred\n\u001B[1;32m      5\u001B[0m \u001B[38;5;66;03m# The coefficients\u001B[39;00m\n",
      "File \u001B[0;32m~/Projects/PycharmProjects/point-cloud-volume/venv/lib/python3.9/site-packages/pandas/core/indexing.py:1073\u001B[0m, in \u001B[0;36m_LocationIndexer.__getitem__\u001B[0;34m(self, key)\u001B[0m\n\u001B[1;32m   1070\u001B[0m axis \u001B[38;5;241m=\u001B[39m \u001B[38;5;28mself\u001B[39m\u001B[38;5;241m.\u001B[39maxis \u001B[38;5;129;01mor\u001B[39;00m \u001B[38;5;241m0\u001B[39m\n\u001B[1;32m   1072\u001B[0m maybe_callable \u001B[38;5;241m=\u001B[39m com\u001B[38;5;241m.\u001B[39mapply_if_callable(key, \u001B[38;5;28mself\u001B[39m\u001B[38;5;241m.\u001B[39mobj)\n\u001B[0;32m-> 1073\u001B[0m \u001B[38;5;28;01mreturn\u001B[39;00m \u001B[38;5;28;43mself\u001B[39;49m\u001B[38;5;241;43m.\u001B[39;49m\u001B[43m_getitem_axis\u001B[49m\u001B[43m(\u001B[49m\u001B[43mmaybe_callable\u001B[49m\u001B[43m,\u001B[49m\u001B[43m \u001B[49m\u001B[43maxis\u001B[49m\u001B[38;5;241;43m=\u001B[39;49m\u001B[43maxis\u001B[49m\u001B[43m)\u001B[49m\n",
      "File \u001B[0;32m~/Projects/PycharmProjects/point-cloud-volume/venv/lib/python3.9/site-packages/pandas/core/indexing.py:1312\u001B[0m, in \u001B[0;36m_LocIndexer._getitem_axis\u001B[0;34m(self, key, axis)\u001B[0m\n\u001B[1;32m   1310\u001B[0m \u001B[38;5;66;03m# fall thru to straight lookup\u001B[39;00m\n\u001B[1;32m   1311\u001B[0m \u001B[38;5;28mself\u001B[39m\u001B[38;5;241m.\u001B[39m_validate_key(key, axis)\n\u001B[0;32m-> 1312\u001B[0m \u001B[38;5;28;01mreturn\u001B[39;00m \u001B[38;5;28;43mself\u001B[39;49m\u001B[38;5;241;43m.\u001B[39;49m\u001B[43m_get_label\u001B[49m\u001B[43m(\u001B[49m\u001B[43mkey\u001B[49m\u001B[43m,\u001B[49m\u001B[43m \u001B[49m\u001B[43maxis\u001B[49m\u001B[38;5;241;43m=\u001B[39;49m\u001B[43maxis\u001B[49m\u001B[43m)\u001B[49m\n",
      "File \u001B[0;32m~/Projects/PycharmProjects/point-cloud-volume/venv/lib/python3.9/site-packages/pandas/core/indexing.py:1260\u001B[0m, in \u001B[0;36m_LocIndexer._get_label\u001B[0;34m(self, label, axis)\u001B[0m\n\u001B[1;32m   1258\u001B[0m \u001B[38;5;28;01mdef\u001B[39;00m \u001B[38;5;21m_get_label\u001B[39m(\u001B[38;5;28mself\u001B[39m, label, axis: \u001B[38;5;28mint\u001B[39m):\n\u001B[1;32m   1259\u001B[0m     \u001B[38;5;66;03m# GH#5567 this will fail if the label is not present in the axis.\u001B[39;00m\n\u001B[0;32m-> 1260\u001B[0m     \u001B[38;5;28;01mreturn\u001B[39;00m \u001B[38;5;28;43mself\u001B[39;49m\u001B[38;5;241;43m.\u001B[39;49m\u001B[43mobj\u001B[49m\u001B[38;5;241;43m.\u001B[39;49m\u001B[43mxs\u001B[49m\u001B[43m(\u001B[49m\u001B[43mlabel\u001B[49m\u001B[43m,\u001B[49m\u001B[43m \u001B[49m\u001B[43maxis\u001B[49m\u001B[38;5;241;43m=\u001B[39;49m\u001B[43maxis\u001B[49m\u001B[43m)\u001B[49m\n",
      "File \u001B[0;32m~/Projects/PycharmProjects/point-cloud-volume/venv/lib/python3.9/site-packages/pandas/core/generic.py:4056\u001B[0m, in \u001B[0;36mNDFrame.xs\u001B[0;34m(self, key, axis, level, drop_level)\u001B[0m\n\u001B[1;32m   4054\u001B[0m             new_index \u001B[38;5;241m=\u001B[39m index[loc]\n\u001B[1;32m   4055\u001B[0m \u001B[38;5;28;01melse\u001B[39;00m:\n\u001B[0;32m-> 4056\u001B[0m     loc \u001B[38;5;241m=\u001B[39m \u001B[43mindex\u001B[49m\u001B[38;5;241;43m.\u001B[39;49m\u001B[43mget_loc\u001B[49m\u001B[43m(\u001B[49m\u001B[43mkey\u001B[49m\u001B[43m)\u001B[49m\n\u001B[1;32m   4058\u001B[0m     \u001B[38;5;28;01mif\u001B[39;00m \u001B[38;5;28misinstance\u001B[39m(loc, np\u001B[38;5;241m.\u001B[39mndarray):\n\u001B[1;32m   4059\u001B[0m         \u001B[38;5;28;01mif\u001B[39;00m loc\u001B[38;5;241m.\u001B[39mdtype \u001B[38;5;241m==\u001B[39m np\u001B[38;5;241m.\u001B[39mbool_:\n",
      "File \u001B[0;32m~/Projects/PycharmProjects/point-cloud-volume/venv/lib/python3.9/site-packages/pandas/core/indexes/base.py:3805\u001B[0m, in \u001B[0;36mIndex.get_loc\u001B[0;34m(self, key, method, tolerance)\u001B[0m\n\u001B[1;32m   3803\u001B[0m     \u001B[38;5;28;01mreturn\u001B[39;00m \u001B[38;5;28mself\u001B[39m\u001B[38;5;241m.\u001B[39m_engine\u001B[38;5;241m.\u001B[39mget_loc(casted_key)\n\u001B[1;32m   3804\u001B[0m \u001B[38;5;28;01mexcept\u001B[39;00m \u001B[38;5;167;01mKeyError\u001B[39;00m \u001B[38;5;28;01mas\u001B[39;00m err:\n\u001B[0;32m-> 3805\u001B[0m     \u001B[38;5;28;01mraise\u001B[39;00m \u001B[38;5;167;01mKeyError\u001B[39;00m(key) \u001B[38;5;28;01mfrom\u001B[39;00m \u001B[38;5;21;01merr\u001B[39;00m\n\u001B[1;32m   3806\u001B[0m \u001B[38;5;28;01mexcept\u001B[39;00m \u001B[38;5;167;01mTypeError\u001B[39;00m:\n\u001B[1;32m   3807\u001B[0m     \u001B[38;5;66;03m# If we have a listlike key, _check_indexing_error will raise\u001B[39;00m\n\u001B[1;32m   3808\u001B[0m     \u001B[38;5;66;03m#  InvalidIndexError. Otherwise we fall through and re-raise\u001B[39;00m\n\u001B[1;32m   3809\u001B[0m     \u001B[38;5;66;03m#  the TypeError.\u001B[39;00m\n\u001B[1;32m   3810\u001B[0m     \u001B[38;5;28mself\u001B[39m\u001B[38;5;241m.\u001B[39m_check_indexing_error(key)\n",
      "\u001B[0;31mKeyError\u001B[0m: 'area'"
     ]
    }
   ],
   "source": [
    "toP1 = toP.loc[toP['area'] >= float(cluster1[0].min())]\n",
    "# toP1 = toP1.loc[toP1['area'] < float(cluster2[0].max())]\n",
    "c1_pred = regClu1.predict(np.array(toP1.loc['area']).reshape(-1, 1))\n",
    "toP1['pred'] = c1_pred\n",
    "# The coefficients\n",
    "print(\"Coefficients: \\n\", regClu1.coef_)\n",
    "# The mean squared error\n",
    "print(\"Mean squared error: %.2f\" % mean_squared_error(toP1.loc['area'], c1_pred))\n",
    "# The coefficient of determination: 1 is perfect prediction\n",
    "print(\"Coefficient of determination: %.2f\" % r2_score(toP1.loc['area'], c1_pred))\n",
    "\n",
    "\n",
    "# toP2 = toP.loc[toP['area'] > float(cluster2[0].max())]"
   ],
   "metadata": {
    "collapsed": false
   }
  },
  {
   "cell_type": "code",
   "execution_count": null,
   "outputs": [],
   "source": [
    "# c2_pred = regClu2.predict(np.array(toP2['area']).reshape(-1, 1))\n",
    "# toP2['pred'] = c2_pred\n",
    "#\n",
    "# # The coefficients\n",
    "# print(\"Coefficients: \\n\", regClu2.coef_)\n",
    "# # The mean squared error\n",
    "# print(\"Mean squared error: %.2f\" % mean_squared_error(toP2['area'], c2_pred))\n",
    "# # The coefficient of determination: 1 is perfect prediction\n",
    "# print(\"Coefficient of determination: %.2f\" % r2_score(toP2['area'], c2_pred))"
   ],
   "metadata": {
    "collapsed": false
   }
  },
  {
   "cell_type": "code",
   "execution_count": null,
   "outputs": [],
   "source": [
    "\n"
   ],
   "metadata": {
    "collapsed": false
   }
  },
  {
   "cell_type": "markdown",
   "source": [],
   "metadata": {
    "collapsed": false
   }
  },
  {
   "cell_type": "code",
   "execution_count": null,
   "outputs": [],
   "source": [
    "# global prediction\n",
    "# toP = toP[toP['area'] <= float(cluster0[[0]].max())]\n",
    "# c_pred = regClu0.predict(np.array(toP['area']).reshape(-1, 1))\n",
    "# toP['pred'] = c_pred\n",
    "# print(toP.shape)\n",
    "# # The coefficients\n",
    "# print(\"Coefficients: \\n\", regClu0.coef_)\n",
    "# # The mean squared error\n",
    "# print(\"Mean squared error: %.2f\" % mean_squared_error(toP['area'], c_pred))\n",
    "# # The coefficient of determination: 1 is perfect prediction\n",
    "# print(\"Coefficient of determination: %.2f\" % r2_score(toP['area'], c_pred))"
   ],
   "metadata": {
    "collapsed": false
   }
  },
  {
   "cell_type": "code",
   "execution_count": 31,
   "outputs": [
    {
     "name": "stderr",
     "output_type": "stream",
     "text": [
      "/var/folders/zm/fb_kfkpj55zf4d6ywxmphdy40000gn/T/ipykernel_54940/3588741542.py:1: FutureWarning: The frame.append method is deprecated and will be removed from pandas in a future version. Use pandas.concat instead.\n",
      "  predicted = toP0.append(toP1)\n"
     ]
    }
   ],
   "source": [
    "predicted = toP0.append(toP1)"
   ],
   "metadata": {
    "collapsed": false
   }
  },
  {
   "cell_type": "code",
   "execution_count": 32,
   "outputs": [
    {
     "data": {
      "text/plain": "<Figure size 640x480 with 1 Axes>",
      "image/png": "[encoded data removed]"
     },
     "metadata": {},
     "output_type": "display_data"
    }
   ],
   "source": [
    "# # Plot outputs\n",
    "# c0_pred.shape= (-1,1)\n",
    "\n",
    "plt.scatter(x, y, color=\"black\",s=1)\n",
    "plt.scatter(predicted['area'],predicted['pred'],color=\"green\",s=1)\n",
    "# plt.scatter(toP['area'], c_pred, color=\"red\",s=1)\n",
    "plt.plot(toP0['area'], c0_pred, color=\"blue\", linewidth=1.5)\n",
    "# plt.plot(toP1['area'], c1_pred, color=\"red\", linewidth=1.5)\n",
    "# plt.plot(toP2['area'], c2_pred, color=\"green\", linewidth=1)\n",
    "\n",
    "plt.show()"
   ],
   "metadata": {
    "collapsed": false
   }
  },
  {
   "cell_type": "code",
   "execution_count": 33,
   "outputs": [],
   "source": [
    "# predicted"
   ],
   "metadata": {
    "collapsed": false
   }
  },
  {
   "cell_type": "code",
   "execution_count": 34,
   "outputs": [
    {
     "name": "stdout",
     "output_type": "stream",
     "text": [
      "Type\n",
      "construction_waste    371143.793913\n",
      "misc                    9028.577518\n",
      "natural_soil          441862.573328\n",
      "Name: pred, dtype: float64\n",
      "Type\n",
      "construction_waste    267991.404653\n",
      "misc                    6422.751414\n",
      "natural_soil          315691.935243\n",
      "Name: area, dtype: float64\n",
      "                    OBJECTID  geometry  area  pred\n",
      "Type                                              \n",
      "construction_waste      6515      6593  6593  6591\n",
      "misc                     142       142   142   142\n",
      "natural_soil            8493      8526  8526  8525\n"
     ]
    },
    {
     "name": "stderr",
     "output_type": "stream",
     "text": [
      "/var/folders/zm/fb_kfkpj55zf4d6ywxmphdy40000gn/T/ipykernel_54940/2288747426.py:2: FutureWarning: The default value of numeric_only in DataFrameGroupBy.sum is deprecated. In a future version, numeric_only will default to False. Either specify numeric_only or select only columns which should be valid for the function.\n",
      "  print(predicted.groupby('Type',group_keys=False).agg(sum)['pred'])\n",
      "/var/folders/zm/fb_kfkpj55zf4d6ywxmphdy40000gn/T/ipykernel_54940/2288747426.py:3: FutureWarning: The default value of numeric_only in DataFrameGroupBy.sum is deprecated. In a future version, numeric_only will default to False. Either specify numeric_only or select only columns which should be valid for the function.\n",
      "  print(predicted.groupby('Type',group_keys=False).agg(sum)['area'])\n"
     ]
    }
   ],
   "source": [
    "# output\n",
    "print(predicted.groupby('Type',group_keys=False).agg(sum)['pred'])\n",
    "print(predicted.groupby('Type',group_keys=False).agg(sum)['area'])\n",
    "print(predicted.groupby('Type',group_keys=False).count())\n",
    "# print(toP)"
   ],
   "metadata": {
    "collapsed": false
   }
  },
  {
   "cell_type": "code",
   "execution_count": 35,
   "outputs": [
    {
     "data": {
      "text/plain": "count    1.525800e+04\nmean     1.405718e+00\nstd      2.310315e-16\nmin      1.405718e+00\n25%      1.405718e+00\n50%      1.405718e+00\n75%      1.405718e+00\nmax      1.405718e+00\nName: ratio, dtype: float64"
     },
     "execution_count": 35,
     "metadata": {},
     "output_type": "execute_result"
    }
   ],
   "source": [
    "predicted['ratio']=predicted['pred'].divide(predicted['area'])\n",
    "predicted['ratio'].describe()"
   ],
   "metadata": {
    "collapsed": false
   }
  },
  {
   "cell_type": "code",
   "execution_count": 36,
   "outputs": [],
   "source": [
    "# predicted.to_file('2-seg-LM.shp')"
   ],
   "metadata": {
    "collapsed": false
   }
  },
  {
   "cell_type": "code",
   "execution_count": 37,
   "outputs": [
    {
     "data": {
      "text/plain": "         fid    cat   Id                Type        cut  \\\n0       64.0  200.0  0.0  construction_waste  19.358050   \n1       65.0  201.0  0.0  construction_waste  66.750949   \n2       80.0  219.0  0.0  construction_waste   9.967514   \n3       81.0  221.0  0.0  construction_waste  15.919302   \n4       82.0  223.0  0.0  construction_waste  47.029063   \n...      ...    ...  ...                 ...        ...   \n6310  3852.0    NaN  NaN  construction_waste   8.872994   \n2366  3184.0    NaN  NaN  construction_waste  30.016684   \n2367  3187.0    NaN  NaN        natural_soil  35.543250   \n2368  3813.0    NaN  NaN  construction_waste   5.037203   \n2369  3814.0    NaN  NaN  construction_waste  14.377411   \n\n                         fill             volume  \\\n0                         0.0  19.35805046099543   \n1       -0.060730561379273844  66.69021831203122   \n2     -0.00010354714871778371  9.967410268149333   \n3      -0.0061824381122978648  15.91311960942508   \n4      -0.0040382707231438296  47.02502441618826   \n...                       ...                ...   \n6310                     None               None   \n2366                      0.0  30.01668412465427   \n2367                      0.0   35.5432499971223   \n2368                      0.0  5.037203342522038   \n2369  -6.6409496262514244e-05   14.3773441538773   \n\n                                               str_geom  FIDint  str_geom_d  \\\n0     MULTIPOLYGON (((661855.1470344772096723 271591...      64       False   \n1     MULTIPOLYGON (((661701.0498651723610237 271612...      65       False   \n2     MULTIPOLYGON (((661796.5084588918834925 271601...      80       False   \n3     MULTIPOLYGON (((661849.6607110316399485 271601...      81       False   \n4     MULTIPOLYGON (((661717.0828087122645229 271613...      82       False   \n...                                                 ...     ...         ...   \n6310  MULTIPOLYGON (((665774.1511404308257625 271610...    3852       False   \n2366  MULTIPOLYGON (((665165.8318939859746024 271561...    3184        True   \n2367  MULTIPOLYGON (((665133.4313261091010645 271560...    3187        True   \n2368  MULTIPOLYGON (((665140.2116184852784500 271560...    3813        True   \n2369  MULTIPOLYGON (((665148.7731193338986486 271561...    3814        True   \n\n      finalcut        area     ratio    y_pred  Updat_area  Updat_cut  \\\n0        False   33.310999  0.581131       NaN      33.316     19.361   \n1        False  120.712029  0.552977       NaN     120.731     66.761   \n2        False   19.515538  0.510748       NaN      19.519      9.969   \n3        False   26.614882  0.598135       NaN      26.619     15.922   \n4        False  111.620967  0.421328       NaN     111.638     47.036   \n...        ...         ...       ...       ...         ...        ...   \n6310     False   18.386815  0.482574  8.872994      18.389      8.874   \n2366     False   34.961163  0.858572       NaN      34.966     30.021   \n2367     False   35.380907  1.004588       NaN      35.385     35.547   \n2368     False   11.824106  0.426011       NaN      11.826      5.038   \n2369     False   17.909295  0.802790       NaN      17.912     14.380   \n\n      Updat_Volu                                           geometry  perimeter  \n0         19.361  MULTIPOLYGON (((661855.147 2715910.261, 661857...  23.550303  \n1         66.701  MULTIPOLYGON (((661701.050 2716126.487, 661702...  61.780554  \n2          9.969  MULTIPOLYGON (((661796.508 2716016.998, 661800...  17.975159  \n3         15.916  MULTIPOLYGON (((661849.661 2716019.832, 661851...  20.067042  \n4         47.032  MULTIPOLYGON (((661717.083 2716133.185, 661740...  58.852991  \n...          ...                                                ...        ...  \n6310         NaN  MULTIPOLYGON (((665774.151 2716108.553, 665772...  16.170456  \n2366      30.021  MULTIPOLYGON (((665165.832 2715617.476, 665165...  22.130684  \n2367      35.547  MULTIPOLYGON (((665133.431 2715608.087, 665135...  22.636426  \n2368       5.038  MULTIPOLYGON (((665140.212 2715608.555, 665138...  13.393251  \n2369      14.380  MULTIPOLYGON (((665148.773 2715610.593, 665148...  15.949595  \n\n[5885 rows x 19 columns]",
      "text/html": "<div>\n<style scoped>\n    .dataframe tbody tr th:only-of-type {\n        vertical-align: middle;\n    }\n\n    .dataframe tbody tr th {\n        vertical-align: top;\n    }\n\n    .dataframe thead th {\n        text-align: right;\n    }\n</style>\n<table border=\"1\" class=\"dataframe\">\n  <thead>\n    <tr style=\"text-align: right;\">\n      <th></th>\n      <th>fid</th>\n      <th>cat</th>\n      <th>Id</th>\n      <th>Type</th>\n      <th>cut</th>\n      <th>fill</th>\n      <th>volume</th>\n      <th>str_geom</th>\n      <th>FIDint</th>\n      <th>str_geom_d</th>\n      <th>finalcut</th>\n      <th>area</th>\n      <th>ratio</th>\n      <th>y_pred</th>\n      <th>Updat_area</th>\n      <th>Updat_cut</th>\n      <th>Updat_Volu</th>\n      <th>geometry</th>\n      <th>perimeter</th>\n    </tr>\n  </thead>\n  <tbody>\n    <tr>\n      <th>0</th>\n      <td>64.0</td>\n      <td>200.0</td>\n      <td>0.0</td>\n      <td>construction_waste</td>\n      <td>19.358050</td>\n      <td>0.0</td>\n      <td>19.35805046099543</td>\n      <td>MULTIPOLYGON (((661855.1470344772096723 271591...</td>\n      <td>64</td>\n      <td>False</td>\n      <td>False</td>\n      <td>33.310999</td>\n      <td>0.581131</td>\n      <td>NaN</td>\n      <td>33.316</td>\n      <td>19.361</td>\n      <td>19.361</td>\n      <td>MULTIPOLYGON (((661855.147 2715910.261, 661857...</td>\n      <td>23.550303</td>\n    </tr>\n    <tr>\n      <th>1</th>\n      <td>65.0</td>\n      <td>201.0</td>\n      <td>0.0</td>\n      <td>construction_waste</td>\n      <td>66.750949</td>\n      <td>-0.060730561379273844</td>\n      <td>66.69021831203122</td>\n      <td>MULTIPOLYGON (((661701.0498651723610237 271612...</td>\n      <td>65</td>\n      <td>False</td>\n      <td>False</td>\n      <td>120.712029</td>\n      <td>0.552977</td>\n      <td>NaN</td>\n      <td>120.731</td>\n      <td>66.761</td>\n      <td>66.701</td>\n      <td>MULTIPOLYGON (((661701.050 2716126.487, 661702...</td>\n      <td>61.780554</td>\n    </tr>\n    <tr>\n      <th>2</th>\n      <td>80.0</td>\n      <td>219.0</td>\n      <td>0.0</td>\n      <td>construction_waste</td>\n      <td>9.967514</td>\n      <td>-0.00010354714871778371</td>\n      <td>9.967410268149333</td>\n      <td>MULTIPOLYGON (((661796.5084588918834925 271601...</td>\n      <td>80</td>\n      <td>False</td>\n      <td>False</td>\n      <td>19.515538</td>\n      <td>0.510748</td>\n      <td>NaN</td>\n      <td>19.519</td>\n      <td>9.969</td>\n      <td>9.969</td>\n      <td>MULTIPOLYGON (((661796.508 2716016.998, 661800...</td>\n      <td>17.975159</td>\n    </tr>\n    <tr>\n      <th>3</th>\n      <td>81.0</td>\n      <td>221.0</td>\n      <td>0.0</td>\n      <td>construction_waste</td>\n      <td>15.919302</td>\n      <td>-0.0061824381122978648</td>\n      <td>15.91311960942508</td>\n      <td>MULTIPOLYGON (((661849.6607110316399485 271601...</td>\n      <td>81</td>\n      <td>False</td>\n      <td>False</td>\n      <td>26.614882</td>\n      <td>0.598135</td>\n      <td>NaN</td>\n      <td>26.619</td>\n      <td>15.922</td>\n      <td>15.916</td>\n      <td>MULTIPOLYGON (((661849.661 2716019.832, 661851...</td>\n      <td>20.067042</td>\n    </tr>\n    <tr>\n      <th>4</th>\n      <td>82.0</td>\n      <td>223.0</td>\n      <td>0.0</td>\n      <td>construction_waste</td>\n      <td>47.029063</td>\n      <td>-0.0040382707231438296</td>\n      <td>47.02502441618826</td>\n      <td>MULTIPOLYGON (((661717.0828087122645229 271613...</td>\n      <td>82</td>\n      <td>False</td>\n      <td>False</td>\n      <td>111.620967</td>\n      <td>0.421328</td>\n      <td>NaN</td>\n      <td>111.638</td>\n      <td>47.036</td>\n      <td>47.032</td>\n      <td>MULTIPOLYGON (((661717.083 2716133.185, 661740...</td>\n      <td>58.852991</td>\n    </tr>\n    <tr>\n      <th>...</th>\n      <td>...</td>\n      <td>...</td>\n      <td>...</td>\n      <td>...</td>\n      <td>...</td>\n      <td>...</td>\n      <td>...</td>\n      <td>...</td>\n      <td>...</td>\n      <td>...</td>\n      <td>...</td>\n      <td>...</td>\n      <td>...</td>\n      <td>...</td>\n      <td>...</td>\n      <td>...</td>\n      <td>...</td>\n      <td>...</td>\n      <td>...</td>\n    </tr>\n    <tr>\n      <th>6310</th>\n      <td>3852.0</td>\n      <td>NaN</td>\n      <td>NaN</td>\n      <td>construction_waste</td>\n      <td>8.872994</td>\n      <td>None</td>\n      <td>None</td>\n      <td>MULTIPOLYGON (((665774.1511404308257625 271610...</td>\n      <td>3852</td>\n      <td>False</td>\n      <td>False</td>\n      <td>18.386815</td>\n      <td>0.482574</td>\n      <td>8.872994</td>\n      <td>18.389</td>\n      <td>8.874</td>\n      <td>NaN</td>\n      <td>MULTIPOLYGON (((665774.151 2716108.553, 665772...</td>\n      <td>16.170456</td>\n    </tr>\n    <tr>\n      <th>2366</th>\n      <td>3184.0</td>\n      <td>NaN</td>\n      <td>NaN</td>\n      <td>construction_waste</td>\n      <td>30.016684</td>\n      <td>0.0</td>\n      <td>30.01668412465427</td>\n      <td>MULTIPOLYGON (((665165.8318939859746024 271561...</td>\n      <td>3184</td>\n      <td>True</td>\n      <td>False</td>\n      <td>34.961163</td>\n      <td>0.858572</td>\n      <td>NaN</td>\n      <td>34.966</td>\n      <td>30.021</td>\n      <td>30.021</td>\n      <td>MULTIPOLYGON (((665165.832 2715617.476, 665165...</td>\n      <td>22.130684</td>\n    </tr>\n    <tr>\n      <th>2367</th>\n      <td>3187.0</td>\n      <td>NaN</td>\n      <td>NaN</td>\n      <td>natural_soil</td>\n      <td>35.543250</td>\n      <td>0.0</td>\n      <td>35.5432499971223</td>\n      <td>MULTIPOLYGON (((665133.4313261091010645 271560...</td>\n      <td>3187</td>\n      <td>True</td>\n      <td>False</td>\n      <td>35.380907</td>\n      <td>1.004588</td>\n      <td>NaN</td>\n      <td>35.385</td>\n      <td>35.547</td>\n      <td>35.547</td>\n      <td>MULTIPOLYGON (((665133.431 2715608.087, 665135...</td>\n      <td>22.636426</td>\n    </tr>\n    <tr>\n      <th>2368</th>\n      <td>3813.0</td>\n      <td>NaN</td>\n      <td>NaN</td>\n      <td>construction_waste</td>\n      <td>5.037203</td>\n      <td>0.0</td>\n      <td>5.037203342522038</td>\n      <td>MULTIPOLYGON (((665140.2116184852784500 271560...</td>\n      <td>3813</td>\n      <td>True</td>\n      <td>False</td>\n      <td>11.824106</td>\n      <td>0.426011</td>\n      <td>NaN</td>\n      <td>11.826</td>\n      <td>5.038</td>\n      <td>5.038</td>\n      <td>MULTIPOLYGON (((665140.212 2715608.555, 665138...</td>\n      <td>13.393251</td>\n    </tr>\n    <tr>\n      <th>2369</th>\n      <td>3814.0</td>\n      <td>NaN</td>\n      <td>NaN</td>\n      <td>construction_waste</td>\n      <td>14.377411</td>\n      <td>-6.6409496262514244e-05</td>\n      <td>14.3773441538773</td>\n      <td>MULTIPOLYGON (((665148.7731193338986486 271561...</td>\n      <td>3814</td>\n      <td>True</td>\n      <td>False</td>\n      <td>17.909295</td>\n      <td>0.802790</td>\n      <td>NaN</td>\n      <td>17.912</td>\n      <td>14.380</td>\n      <td>14.380</td>\n      <td>MULTIPOLYGON (((665148.773 2715610.593, 665148...</td>\n      <td>15.949595</td>\n    </tr>\n  </tbody>\n</table>\n<p>5885 rows × 19 columns</p>\n</div>"
     },
     "execution_count": 37,
     "metadata": {},
     "output_type": "execute_result"
    }
   ],
   "source": [
    "final"
   ],
   "metadata": {
    "collapsed": false
   }
  },
  {
   "cell_type": "code",
   "execution_count": 38,
   "outputs": [
    {
     "name": "stderr",
     "output_type": "stream",
     "text": [
      "/var/folders/zm/fb_kfkpj55zf4d6ywxmphdy40000gn/T/ipykernel_54940/548489403.py:1: FutureWarning: Currently, index_parts defaults to True, but in the future, it will default to False to be consistent with Pandas. Use `index_parts=True` to keep the current behavior and True/False to silence the warning.\n",
      "  predEx = predicted.explode()\n",
      "/var/folders/zm/fb_kfkpj55zf4d6ywxmphdy40000gn/T/ipykernel_54940/548489403.py:2: FutureWarning: Currently, index_parts defaults to True, but in the future, it will default to False to be consistent with Pandas. Use `index_parts=True` to keep the current behavior and True/False to silence the warning.\n",
      "  finalEx = final.explode()\n"
     ]
    }
   ],
   "source": [
    "predEx = predicted.explode()\n",
    "finalEx = final.explode()"
   ],
   "metadata": {
    "collapsed": false
   }
  },
  {
   "cell_type": "code",
   "execution_count": 38,
   "outputs": [],
   "source": [],
   "metadata": {
    "collapsed": false
   }
  },
  {
   "cell_type": "code",
   "execution_count": 39,
   "outputs": [
    {
     "data": {
      "text/plain": "True    5891\ndtype: int64"
     },
     "execution_count": 39,
     "metadata": {},
     "output_type": "execute_result"
    }
   ],
   "source": [
    "r = (finalEx.geometry.type == 'Polygon')\n",
    "r.value_counts()\n",
    "# finalEx.shape"
   ],
   "metadata": {
    "collapsed": false
   }
  },
  {
   "cell_type": "code",
   "execution_count": 45,
   "outputs": [
    {
     "name": "stderr",
     "output_type": "stream",
     "text": [
      "/var/folders/zm/fb_kfkpj55zf4d6ywxmphdy40000gn/T/ipykernel_54940/4113824973.py:2: UserWarning: `keep_geom_type=True` in overlay resulted in 1848 dropped geometries of different geometry types than df1 has. Set `keep_geom_type=False` to retain all geometries\n",
      "  notinFinals = gpd.overlay(finalEx,predEx, how='difference')\n"
     ]
    }
   ],
   "source": [
    "# area difference\n",
    "notinFinals = gpd.overlay(finalEx,predEx, how='difference')"
   ],
   "metadata": {
    "collapsed": false
   }
  },
  {
   "cell_type": "code",
   "execution_count": 46,
   "outputs": [
    {
     "name": "stderr",
     "output_type": "stream",
     "text": [
      "/var/folders/zm/fb_kfkpj55zf4d6ywxmphdy40000gn/T/ipykernel_54940/3775969111.py:1: UserWarning: `keep_geom_type=True` in overlay resulted in 466 dropped geometries of different geometry types than df1 has. Set `keep_geom_type=False` to retain all geometries\n",
      "  notintoP = gpd.overlay(predEx,finalEx, how='difference')\n"
     ]
    }
   ],
   "source": [
    "notintoP = gpd.overlay(predEx,finalEx, how='difference')"
   ],
   "metadata": {
    "collapsed": false
   }
  },
  {
   "cell_type": "code",
   "execution_count": 47,
   "outputs": [],
   "source": [
    "# notinFinals\n",
    "notinFinals['area']=notinFinals['geometry'].to_crs(\"EPSG:32638\").map(lambda p: p.area)"
   ],
   "metadata": {
    "collapsed": false
   }
  },
  {
   "cell_type": "code",
   "execution_count": 48,
   "outputs": [],
   "source": [
    "# notintoP\n",
    "notintoP['area']=notintoP['geometry'].to_crs(\"EPSG:32638\").map(lambda p: p.area)"
   ],
   "metadata": {
    "collapsed": false
   }
  },
  {
   "cell_type": "code",
   "execution_count": 49,
   "outputs": [
    {
     "name": "stdout",
     "output_type": "stream",
     "text": [
      "Type\n",
      "construction_waste    11976.261393\n",
      "misc                  25615.173218\n",
      "natural_soil          44356.357635\n",
      "Name: area, dtype: float64\n"
     ]
    },
    {
     "name": "stderr",
     "output_type": "stream",
     "text": [
      "/var/folders/zm/fb_kfkpj55zf4d6ywxmphdy40000gn/T/ipykernel_54940/298983818.py:1: FutureWarning: The default value of numeric_only in DataFrameGroupBy.sum is deprecated. In a future version, numeric_only will default to False. Either specify numeric_only or select only columns which should be valid for the function.\n",
      "  print(notinFinals.groupby('Type',group_keys=False).agg(sum)['area'])\n"
     ]
    }
   ],
   "source": [
    "print(notinFinals.groupby('Type',group_keys=False).agg(sum)['area'])"
   ],
   "metadata": {
    "collapsed": false
   }
  },
  {
   "cell_type": "code",
   "execution_count": 50,
   "outputs": [
    {
     "name": "stdout",
     "output_type": "stream",
     "text": [
      "Type\n",
      "construction_waste    135473.544800\n",
      "misc                     104.656811\n",
      "natural_soil           15720.158536\n",
      "Name: area, dtype: float64\n"
     ]
    },
    {
     "name": "stderr",
     "output_type": "stream",
     "text": [
      "/var/folders/zm/fb_kfkpj55zf4d6ywxmphdy40000gn/T/ipykernel_54940/796636701.py:1: FutureWarning: The default value of numeric_only in DataFrameGroupBy.sum is deprecated. In a future version, numeric_only will default to False. Either specify numeric_only or select only columns which should be valid for the function.\n",
      "  print(notintoP.groupby('Type',group_keys=False).agg(sum)['area'])\n"
     ]
    }
   ],
   "source": [
    "print(notintoP.groupby('Type',group_keys=False).agg(sum)['area'])"
   ],
   "metadata": {
    "collapsed": false
   }
  },
  {
   "cell_type": "code",
   "execution_count": null,
   "outputs": [],
   "source": [
    "# import numpy as np\n",
    "# import matplotlib.pyplot as plt\n",
    "# from scipy.optimize import leastsq\n",
    "#\n",
    "# #x, y = np.array([0,1,2,3,4,5]), np.array([0,1,4,9,16,25])\n",
    "#\n",
    "# # initial_guess[i] maps to p[x] in function_to_fit, must be reasonable\n",
    "# initial_guess = [1, 1, 1]\n",
    "#\n",
    "# def function_to_fit(x, p):\n",
    "#     return pow(p[0]*x, 2) + p[1]*x + p[2]\n",
    "#\n",
    "# def residuals(p,y,x):\n",
    "#     return y - function_to_fit(x,p)\n",
    "#\n",
    "# cnsts = leastsq(\n",
    "#     residuals,\n",
    "#     initial_guess,\n",
    "#     args=(y, x)\n",
    "# )[0]\n",
    "#\n",
    "# fig, ax = plt.subplots()\n",
    "# ax.plot(x, y, 'o')\n",
    "#\n",
    "# xi = np.arange(0,100,10)\n",
    "# ax.plot(xi, [function_to_fit(x, cnsts) for x in xi])\n",
    "#\n",
    "# plt.show()"
   ],
   "metadata": {
    "collapsed": false
   }
  }
 ],
 "metadata": {
  "kernelspec": {
   "display_name": "Python 3",
   "language": "python",
   "name": "python3"
  },
  "language_info": {
   "codemirror_mode": {
    "name": "ipython",
    "version": 2
   },
   "file_extension": ".py",
   "mimetype": "text/x-python",
   "name": "python",
   "nbconvert_exporter": "python",
   "pygments_lexer": "ipython2",
   "version": "2.7.6"
  }
 },
 "nbformat": 4,
 "nbformat_minor": 0
}
