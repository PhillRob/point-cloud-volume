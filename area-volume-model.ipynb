{
 "cells": [
  {
   "cell_type": "code",
   "execution_count": 1,
   "outputs": [],
   "source": [
    "#!/usr/bin/python3\n",
    "import pandas as pd\n",
    "import numpy as np\n",
    "import geopandas as gpd\n",
    "import glob\n",
    "import os\n",
    "import json\n",
    "from os.path import exists\n",
    "import piecewise_regression\n",
    "from sklearn.linear_model import LinearRegression\n",
    "from sklearn.svm import SVR\n",
    "from sklearn.metrics import mean_squared_error, r2_score\n",
    "# import pysal as ps\n",
    "# from pysal.contrib.viz import mapping as maps\n",
    "from shapely import wkt\n",
    "from shapely.geometry import Polygon\n",
    "\n",
    "import matplotlib\n",
    "import matplotlib.pyplot as plt"
   ],
   "metadata": {
    "collapsed": false
   }
  },
  {
   "cell_type": "code",
   "execution_count": 3,
   "outputs": [
    {
     "name": "stdout",
     "output_type": "stream",
     "text": [
      "8\n"
     ]
    },
    {
     "name": "stderr",
     "output_type": "stream",
     "text": [
      "/var/folders/zm/fb_kfkpj55zf4d6ywxmphdy40000gn/T/ipykernel_16416/2656426974.py:44: FutureWarning: Dropping invalid columns in DataFrameGroupBy.max is deprecated. In a future version, a TypeError will be raised. Before calling .max, select only columns which should be valid for the function.\n",
      "  pilesNoNADupMax = pilesNoNADup.groupby('str_geom', group_keys=False).agg(max)\n",
      "/var/folders/zm/fb_kfkpj55zf4d6ywxmphdy40000gn/T/ipykernel_16416/2656426974.py:50: FutureWarning: The frame.append method is deprecated and will be removed from pandas in a future version. Use pandas.concat instead.\n",
      "  final = pilesNoNANoDup.append(pilesNoNANoDupMax)\n",
      "/Users/philipp/Projects/PycharmProjects/drone-deploy/venv/lib/python3.9/site-packages/pyproj/crs/crs.py:141: FutureWarning: '+init=<authority>:<code>' syntax is deprecated. '<authority>:<code>' is the preferred initialization method. When making the change, be mindful of axis order changes: https://pyproj4.github.io/pyproj/stable/gotchas.html#axis-order-changes-in-proj-6\n",
      "  in_crs_string = _prepare_from_proj_string(in_crs_string)\n"
     ]
    },
    {
     "name": "stdout",
     "output_type": "stream",
     "text": [
      "6357\n"
     ]
    },
    {
     "name": "stderr",
     "output_type": "stream",
     "text": [
      "/Users/philipp/Projects/PycharmProjects/drone-deploy/venv/lib/python3.9/site-packages/pyproj/crs/crs.py:141: FutureWarning: '+init=<authority>:<code>' syntax is deprecated. '<authority>:<code>' is the preferred initialization method. When making the change, be mindful of axis order changes: https://pyproj4.github.io/pyproj/stable/gotchas.html#axis-order-changes-in-proj-6\n",
      "  in_crs_string = _prepare_from_proj_string(in_crs_string)\n",
      "/var/folders/zm/fb_kfkpj55zf4d6ywxmphdy40000gn/T/ipykernel_16416/2656426974.py:60: FutureWarning: The default value of numeric_only in DataFrameGroupBy.sum is deprecated. In a future version, numeric_only will default to False. Either specify numeric_only or select only columns which should be valid for the function.\n",
      "  final.groupby('Type', group_keys=False).agg(sum)['cut']\n",
      "/var/folders/zm/fb_kfkpj55zf4d6ywxmphdy40000gn/T/ipykernel_16416/2656426974.py:61: FutureWarning: The default value of numeric_only in DataFrameGroupBy.sum is deprecated. In a future version, numeric_only will default to False. Either specify numeric_only or select only columns which should be valid for the function.\n",
      "  final.groupby('Type',group_keys=False).agg(sum)['volume']\n"
     ]
    },
    {
     "data": {
      "text/plain": "Type\nConstruction_Waste    172826.655553\nMisc                   35639.726936\nnatural_Soil          480534.255823\nName: volume, dtype: float64"
     },
     "execution_count": 3,
     "metadata": {},
     "output_type": "execute_result"
    }
   ],
   "source": [
    "# get data\n",
    "dfs = [] # an empty list to store the data frames`\n",
    "StartDir = '/Users/philipp/BPLA Dropbox/03 Planning/DN-Dumping Detection-1087/05_Output/Digitisation/Version-3/DD-lowest'\n",
    "\n",
    "json_pattern = os.path.join(StartDir,'*.geojson')\n",
    "file_list = glob.glob(json_pattern)\n",
    "print(len(file_list))\n",
    "\n",
    "for file in file_list:\n",
    "    data = gpd.read_file(file, lines=True) # read data frame from json file\n",
    "    dfs.append(data) # append the data frame to the list\n",
    "\n",
    "# concatenate and format\n",
    "piles = pd.concat(dfs)\n",
    "piles['str_geom'] = piles['geometry'].apply(wkt.dumps)\n",
    "piles['FIDint'] = piles['fid'].astype('int64')\n",
    "len(piles)\n",
    "\n",
    "# filter NA's for the cut\n",
    "piles = piles[(piles.cut != 'NA')]\n",
    "len(piles)\n",
    "piles['cut'] = piles['cut'].astype('float64')\n",
    "piles['volume'] = piles['volume'].astype('float64')\n",
    "\n",
    "pilesNoNA = piles[(~piles['cut'].isnull())]\n",
    "\n",
    "len(pilesNoNA)\n",
    "pilesNoNA['Type'].value_counts()\n",
    "\n",
    "#piles.to_file(StartDir+\"/piles-west-lowest.shp\")\n",
    "\n",
    "# filter for duplicate geometry\n",
    "pilesNoNA['str_geom_d'] = pilesNoNA.duplicated(subset=['str_geom'], keep=False)\n",
    "pilesNoNA['str_geom_d'].value_counts()\n",
    "\n",
    "# unique polygons\n",
    "pilesNoNANoDup = pilesNoNA[pilesNoNA.str_geom_d == False]\n",
    "len(pilesNoNANoDup)\n",
    "\n",
    "pilesNoNADup = pilesNoNA[pilesNoNA.str_geom_d == True]\n",
    "len(pilesNoNADup)\n",
    "len(pilesNoNADup.str_geom.unique().tolist())\n",
    "\n",
    "pilesNoNADupMax = pilesNoNADup.groupby('str_geom', group_keys=False).agg(max)\n",
    "len(pilesNoNADupMax)\n",
    "\n",
    "pilesNoNANoDupMax = pilesNoNADup[pilesNoNADup['cut'].isin(list(pilesNoNADupMax['cut']))]\n",
    "len(pilesNoNANoDupMax)\n",
    "\n",
    "final = pilesNoNANoDup.append(pilesNoNANoDupMax)\n",
    "\n",
    "\n",
    "final['finalcut'] = final.duplicated(subset=['cut'], keep='first')\n",
    "final['finalcut'].value_counts()\n",
    "final = final[final.finalcut == False]\n",
    "final['perimeter'] = final['geometry'].to_crs({'init': 'epsg:32638'}).map(lambda p: p.length)\n",
    "final['area']=final['geometry'].to_crs({'init': 'epsg:32638'}).map(lambda p: p.area)\n",
    "# output\n",
    "final['Type'].value_counts()\n",
    "final.groupby('Type', group_keys=False).agg(sum)['cut']\n",
    "final.groupby('Type',group_keys=False).agg(sum)['volume']\n",
    "\n"
   ],
   "metadata": {
    "collapsed": false
   }
  },
  {
   "cell_type": "code",
   "execution_count": 7,
   "outputs": [
    {
     "name": "stdout",
     "output_type": "stream",
     "text": [
      "5897\n",
      "Type\n",
      "Construction_Waste    116824.067724\n",
      "Misc                   36052.214165\n",
      "natural_Soil          368043.563277\n",
      "Name: area, dtype: float64\n",
      "Type\n",
      "Construction_Waste    1352\n",
      "Misc                   382\n",
      "natural_Soil          4163\n",
      "Name: FIDint, dtype: int64\n"
     ]
    },
    {
     "name": "stderr",
     "output_type": "stream",
     "text": [
      "/var/folders/zm/fb_kfkpj55zf4d6ywxmphdy40000gn/T/ipykernel_16416/1870132868.py:2: FutureWarning: The default value of numeric_only in DataFrameGroupBy.sum is deprecated. In a future version, numeric_only will default to False. Either specify numeric_only or select only columns which should be valid for the function.\n",
      "  print(final.groupby('Type',group_keys=False).agg(sum)['area'])\n"
     ]
    }
   ],
   "source": [
    "print(len(final))\n",
    "print(final.groupby('Type',group_keys=False).agg(sum)['area'])\n",
    "print(final.groupby('Type',group_keys=False).count()[\"FIDint\"])"
   ],
   "metadata": {
    "collapsed": false
   }
  },
  {
   "cell_type": "code",
   "execution_count": 8,
   "outputs": [],
   "source": [
    "x = final['area']\n",
    "y = final['cut']\n",
    "data = list(zip(x, y))"
   ],
   "metadata": {
    "collapsed": false
   }
  },
  {
   "cell_type": "code",
   "execution_count": 9,
   "outputs": [
    {
     "data": {
      "text/plain": "<Figure size 640x480 with 1 Axes>",
      "image/png": "[encoded data removed]"
     },
     "metadata": {},
     "output_type": "display_data"
    }
   ],
   "source": [
    "from sklearn.cluster import KMeans\n",
    "\n",
    "inertias = []\n",
    "for i in range(1,11):\n",
    "    kmeans = KMeans(n_clusters=i)\n",
    "    kmeans.fit(data)\n",
    "    inertias.append(kmeans.inertia_)\n",
    "\n",
    "plt.plot(range(1,11), inertias, marker='o')\n",
    "plt.title('Elbow method')\n",
    "plt.xlabel('Number of clusters')\n",
    "plt.ylabel('Inertia')\n",
    "plt.show()"
   ],
   "metadata": {
    "collapsed": false
   }
  },
  {
   "cell_type": "code",
   "execution_count": 10,
   "outputs": [
    {
     "data": {
      "text/plain": "<Figure size 640x480 with 1 Axes>",
      "image/png": "[encoded data removed]"
     },
     "metadata": {},
     "output_type": "display_data"
    }
   ],
   "source": [
    "kmeans = KMeans(n_clusters=3)\n",
    "kmeans.fit(data)\n",
    "\n",
    "plt.scatter(x, y, c=kmeans.labels_)\n",
    "plt.show()\n"
   ],
   "metadata": {
    "collapsed": false
   }
  },
  {
   "cell_type": "code",
   "execution_count": 12,
   "outputs": [
    {
     "name": "stdout",
     "output_type": "stream",
     "text": [
      "KMeans(n_clusters=3)\n"
     ]
    }
   ],
   "source": [
    "print(kmeans)\n",
    "\n",
    "df = pd.DataFrame(data)\n",
    "df['cluster'] = kmeans.labels_\n",
    "\n",
    "cluster0 = df[(df[\"cluster\"] == 0)]\n",
    "\n",
    "cluster1 = df[df[\"cluster\"] == 1]  # This is what you want\n",
    "\n",
    "cluster2 = df[df[\"cluster\"] == 2]  # This is what you want\n"
   ],
   "metadata": {
    "collapsed": false
   }
  },
  {
   "cell_type": "code",
   "execution_count": 13,
   "outputs": [],
   "source": [
    "regClu0 = LinearRegression().fit(cluster0[[0]],cluster0[[1]])\n",
    "regClu1 = LinearRegression().fit(cluster1[[0]],cluster1[[1]])\n",
    "regClu2 = LinearRegression().fit(cluster2[[0]],cluster2[[1]])"
   ],
   "metadata": {
    "collapsed": false
   }
  },
  {
   "cell_type": "code",
   "execution_count": 19,
   "outputs": [
    {
     "name": "stderr",
     "output_type": "stream",
     "text": [
      "/Users/philipp/Projects/PycharmProjects/drone-deploy/venv/lib/python3.9/site-packages/pyproj/crs/crs.py:141: FutureWarning: '+init=<authority>:<code>' syntax is deprecated. '<authority>:<code>' is the preferred initialization method. When making the change, be mindful of axis order changes: https://pyproj4.github.io/pyproj/stable/gotchas.html#axis-order-changes-in-proj-6\n",
      "  in_crs_string = _prepare_from_proj_string(in_crs_string)\n"
     ]
    }
   ],
   "source": [
    "#LReg on small data sets only\n",
    "toP = gpd.read_file('/Users/philipp/BPLA Dropbox/03 Planning/DN-Dumping Detection-1087/05_Output/Digitisation/Version-4-Worldview3/Final_New_Sat/final-new-sat-v2.geojson', lines=True)\n",
    "\n",
    "toP['Type'] = toP['Type'].str.lower()\n",
    "toP['area'] = toP['geometry'].to_crs({'init': 'epsg:32638'}).map(lambda p: p.area)"
   ],
   "metadata": {
    "collapsed": false
   }
  },
  {
   "cell_type": "code",
   "execution_count": 20,
   "outputs": [
    {
     "name": "stdout",
     "output_type": "stream",
     "text": [
      "(15468, 8)\n",
      "Coefficients: \n",
      " [[0.28355352]]\n",
      "Mean squared error: 139.70\n",
      "Coefficient of determination: 0.95\n"
     ]
    }
   ],
   "source": [
    "# individual predictions\n",
    "# toP0 = toP[toP['area'] <= float(cluster0[[0]].max())]\n",
    "# c0_pred = regClu0.predict(np.array(toP0['area']).reshape(-1, 1))\n",
    "#\n",
    "# # The coefficients\n",
    "# print(\"Coefficients: \\n\", regClu0.coef_)\n",
    "# # The mean squared error\n",
    "# print(\"Mean squared error: %.2f\" % mean_squared_error(toP0['area'], c0_pred))\n",
    "# # The coefficient of determination: 1 is perfect prediction\n",
    "# print(\"Coefficient of determination: %.2f\" % r2_score(toP0['area'], c0_pred))\n",
    "#\n",
    "#\n",
    "# toP1 = toP[toP['area'] < float(cluster1[[0]].max())]\n",
    "# toP1 = toP1[toP1['area'] > float(cluster1[[0]].min())]\n",
    "#\n",
    "# # The coefficients\n",
    "# print(\"Coefficients: \\n\", regClu1.coef_)\n",
    "# # The mean squared error\n",
    "# print(\"Mean squared error: %.2f\" % mean_squared_error(toP1['area'], c1_pred))\n",
    "# # The coefficient of determination: 1 is perfect prediction\n",
    "# print(\"Coefficient of determination: %.2f\" % r2_score(toP1['area'], c1_pred))\n",
    "#\n",
    "#\n",
    "# # The coefficients\n",
    "# print(\"Coefficients: \\n\", regClu2.coef_)\n",
    "# # The mean squared error\n",
    "# print(\"Mean squared error: %.2f\" % mean_squared_error(toP2['area'], c2_pred))\n",
    "# # The coefficient of determination: 1 is perfect prediction\n",
    "# print(\"Coefficient of determination: %.2f\" % r2_score(toP2['area'], c2_pred))\n",
    "#\n",
    "#\n",
    "#\n",
    "# c1_pred = regClu1.predict(np.array(toP1['area']).reshape(-1, 1))\n",
    "#\n",
    "# toP2 = toP[toP['area'] >float(cluster2[[0]].min())]\n",
    "# c2_pred = regClu2.predict(np.array(toP2['area']).reshape(-1, 1))\n",
    "\n",
    "# global prediction\n",
    "# toP = toP[toP['area'] <= float(cluster0[[0]].max())]\n",
    "c_pred = regClu0.predict(np.array(toP['area']).reshape(-1, 1))\n",
    "print(toP.shape)\n",
    "# The coefficients\n",
    "print(\"Coefficients: \\n\", regClu1.coef_)\n",
    "# The mean squared error\n",
    "print(\"Mean squared error: %.2f\" % mean_squared_error(toP['area'], c_pred))\n",
    "# The coefficient of determination: 1 is perfect prediction\n",
    "print(\"Coefficient of determination: %.2f\" % r2_score(toP['area'], c_pred))\n",
    "\n"
   ],
   "metadata": {
    "collapsed": false
   }
  },
  {
   "cell_type": "code",
   "execution_count": 21,
   "outputs": [
    {
     "data": {
      "text/plain": "<Figure size 640x480 with 1 Axes>",
      "image/png": "[encoded data removed]"
     },
     "metadata": {},
     "output_type": "display_data"
    }
   ],
   "source": [
    "# Plot outputs\n",
    "c_pred.shape= (-1,1)\n",
    "\n",
    "plt.scatter(x, y, color=\"black\",s=1)\n",
    "plt.scatter(toP['area'], c_pred, color=\"red\",s=1)\n",
    "plt.plot(toP['area'], c_pred, color=\"blue\", linewidth=1)\n",
    "\n",
    "plt.show()"
   ],
   "metadata": {
    "collapsed": false
   }
  },
  {
   "cell_type": "code",
   "execution_count": 25,
   "outputs": [
    {
     "name": "stdout",
     "output_type": "stream",
     "text": [
      "Type\n",
      "construction_waste    197084.926384\n",
      "misc                    4858.765651\n",
      "natural_soil          219358.444126\n",
      "Name: pred, dtype: float64\n",
      "Type\n",
      "construction_waste    272427.352849\n",
      "misc                    6443.081737\n",
      "natural_soil          319402.582569\n",
      "Name: area, dtype: float64\n",
      "                    OBJECTID    Id  Shape_Leng  Shape_Le_1  Shape_Area  \\\n",
      "Type                                                                     \n",
      "construction_waste      6580  6580        6580        6659        6659   \n",
      "misc                     143   143         143         143         143   \n",
      "natural_soil            8633  8633        8633        8666        8666   \n",
      "\n",
      "                    geometry  area  pred  \n",
      "Type                                      \n",
      "construction_waste      6659  6659  6659  \n",
      "misc                     143   143   143  \n",
      "natural_soil            8666  8666  8666  \n"
     ]
    },
    {
     "name": "stderr",
     "output_type": "stream",
     "text": [
      "/var/folders/zm/fb_kfkpj55zf4d6ywxmphdy40000gn/T/ipykernel_16416/937717564.py:1: FutureWarning: The default value of numeric_only in DataFrameGroupBy.sum is deprecated. In a future version, numeric_only will default to False. Either specify numeric_only or select only columns which should be valid for the function.\n",
      "  print(toP.groupby('Type',group_keys=False).agg(sum)['pred'])\n",
      "/var/folders/zm/fb_kfkpj55zf4d6ywxmphdy40000gn/T/ipykernel_16416/937717564.py:2: FutureWarning: The default value of numeric_only in DataFrameGroupBy.sum is deprecated. In a future version, numeric_only will default to False. Either specify numeric_only or select only columns which should be valid for the function.\n",
      "  print(toP.groupby('Type',group_keys=False).agg(sum)['area'])\n"
     ]
    }
   ],
   "source": [
    "print(toP.groupby('Type',group_keys=False).agg(sum)['pred'])\n",
    "print(toP.groupby('Type',group_keys=False).agg(sum)['area'])\n",
    "print(toP.groupby('Type',group_keys=False).count())\n",
    "# print(toP)\n",
    "# toP['ratio']=toP['cut'].divide(toP['area'])\n",
    "# toP['ratio'].describe()"
   ],
   "metadata": {
    "collapsed": false
   }
  },
  {
   "cell_type": "code",
   "execution_count": null,
   "outputs": [],
   "source": [],
   "metadata": {
    "collapsed": false
   }
  },
  {
   "cell_type": "code",
   "execution_count": null,
   "outputs": [],
   "source": [
    "# x = np.sort(5 * np.random.rand(42, 1), axis=0)\n",
    "# y = np.sin(x).ravel()\n",
    "# y[::5] += 3 * (0.5 - np.random.rand(9))"
   ],
   "metadata": {
    "collapsed": false
   }
  },
  {
   "cell_type": "code",
   "execution_count": null,
   "outputs": [],
   "source": [
    "finalSmall = final[final['area'] < 100]\n",
    "\n",
    "x = np.array(finalSmall['area']).reshape((-1, 1))\n",
    "y = np.array(finalSmall['cut']).reshape((-1, 1))"
   ],
   "metadata": {
    "collapsed": false
   }
  },
  {
   "cell_type": "code",
   "execution_count": null,
   "outputs": [],
   "source": [
    "# import numpy as np\n",
    "# import matplotlib.pyplot as plt\n",
    "# from scipy.optimize import leastsq\n",
    "#\n",
    "# #x, y = np.array([0,1,2,3,4,5]), np.array([0,1,4,9,16,25])\n",
    "#\n",
    "# # initial_guess[i] maps to p[x] in function_to_fit, must be reasonable\n",
    "# initial_guess = [1, 1, 1]\n",
    "#\n",
    "# def function_to_fit(x, p):\n",
    "#     return pow(p[0]*x, 2) + p[1]*x + p[2]\n",
    "#\n",
    "# def residuals(p,y,x):\n",
    "#     return y - function_to_fit(x,p)\n",
    "#\n",
    "# cnsts = leastsq(\n",
    "#     residuals,\n",
    "#     initial_guess,\n",
    "#     args=(y, x)\n",
    "# )[0]\n",
    "#\n",
    "# fig, ax = plt.subplots()\n",
    "# ax.plot(x, y, 'o')\n",
    "#\n",
    "# xi = np.arange(0,100,10)\n",
    "# ax.plot(xi, [function_to_fit(x, cnsts) for x in xi])\n",
    "#\n",
    "# plt.show()"
   ],
   "metadata": {
    "collapsed": false
   }
  },
  {
   "cell_type": "code",
   "execution_count": null,
   "outputs": [],
   "source": [
    "\n",
    "\n",
    "# toP.groupby('Type',group_keys=False).agg(sum)['volume']\n",
    "# toP['area']=toP['geometry'].to_crs({'init': '32638:3395'}).map(lambda p: p.area )\n",
    "\n",
    "# total = final.append(toP)\n",
    "# total['ratio']=total['cut'].divide(total['area'])\n",
    "\n"
   ],
   "metadata": {
    "collapsed": false
   }
  },
  {
   "cell_type": "code",
   "execution_count": null,
   "outputs": [],
   "source": [
    "print(toP['ratio'].describe())"
   ],
   "metadata": {
    "collapsed": false
   }
  }
 ],
 "metadata": {
  "kernelspec": {
   "display_name": "Python 3",
   "language": "python",
   "name": "python3"
  },
  "language_info": {
   "codemirror_mode": {
    "name": "ipython",
    "version": 2
   },
   "file_extension": ".py",
   "mimetype": "text/x-python",
   "name": "python",
   "nbconvert_exporter": "python",
   "pygments_lexer": "ipython2",
   "version": "2.7.6"
  }
 },
 "nbformat": 4,
 "nbformat_minor": 0
}
