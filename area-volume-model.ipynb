{
 "cells": [
  {
   "cell_type": "code",
   "execution_count": 2,
   "outputs": [],
   "source": [
    "#!/usr/bin/python3\n",
    "import pandas as pd\n",
    "import numpy as np\n",
    "import geopandas as gpd\n",
    "import glob\n",
    "import os\n",
    "import json\n",
    "from os.path import exists\n",
    "import piecewise_regression\n",
    "from sklearn.linear_model import LinearRegression\n",
    "from sklearn.svm import SVR\n",
    "from sklearn.metrics import mean_squared_error, r2_score\n",
    "# import pysal as ps\n",
    "# from pysal.contrib.viz import mapping as maps\n",
    "from shapely import wkt\n",
    "from shapely.geometry import Polygon\n",
    "import matplotlib\n",
    "import matplotlib.pyplot as plt"
   ],
   "metadata": {
    "collapsed": false
   }
  },
  {
   "cell_type": "code",
   "execution_count": 3,
   "outputs": [
    {
     "name": "stdout",
     "output_type": "stream",
     "text": [
      "1\n"
     ]
    },
    {
     "data": {
      "text/plain": "6311"
     },
     "execution_count": 3,
     "metadata": {},
     "output_type": "execute_result"
    }
   ],
   "source": [
    "# get data\n",
    "dfs = [] # an empty list to store the data frames`\n",
    "StartDir = '/Users/philipp/BPLA Dropbox/03 Planning/DN-Dumping Detection-1087/05_Output/Digitisation/Version-3/DD-lowest/boundary-reviewed'\n",
    "\n",
    "json_pattern = os.path.join(StartDir,'*.geojson')\n",
    "file_list = glob.glob(json_pattern)\n",
    "print(len(file_list))\n",
    "\n",
    "for file in file_list:\n",
    "    data = gpd.read_file(file, lines=True) # read data frame from json file\n",
    "    dfs.append(data) # append the data frame to the list\n",
    "\n",
    "# concatenate and format\n",
    "piles = pd.concat(dfs)\n",
    "piles=piles.to_crs(\"EPSG:32638\")\n",
    "piles['str_geom'] = piles['geometry'].apply(wkt.dumps)\n",
    "piles['FIDint'] = piles['fid'].astype('int64')\n",
    "len(piles)"
   ],
   "metadata": {
    "collapsed": false
   }
  },
  {
   "cell_type": "code",
   "execution_count": 3,
   "outputs": [],
   "source": [],
   "metadata": {
    "collapsed": false
   }
  },
  {
   "cell_type": "code",
   "execution_count": 3,
   "outputs": [],
   "source": [],
   "metadata": {
    "collapsed": false
   }
  },
  {
   "cell_type": "code",
   "execution_count": 4,
   "outputs": [
    {
     "name": "stderr",
     "output_type": "stream",
     "text": [
      "/var/folders/zm/fb_kfkpj55zf4d6ywxmphdy40000gn/T/ipykernel_77596/667274437.py:26: FutureWarning: Dropping invalid columns in DataFrameGroupBy.max is deprecated. In a future version, a TypeError will be raised. Before calling .max, select only columns which should be valid for the function.\n",
      "  pilesNoNADupMax = pilesNoNADup.groupby('str_geom', group_keys=False).agg(max)\n",
      "/var/folders/zm/fb_kfkpj55zf4d6ywxmphdy40000gn/T/ipykernel_77596/667274437.py:32: FutureWarning: The frame.append method is deprecated and will be removed from pandas in a future version. Use pandas.concat instead.\n",
      "  final = pilesNoNANoDup.append(pilesNoNANoDupMax)\n"
     ]
    }
   ],
   "source": [
    "# filter NA's for the cut\n",
    "piles = piles[(piles.Updat_cut != 'NA')]\n",
    "len(piles)\n",
    "piles['Updat_cut'] = piles['Updat_cut'].astype('float64')\n",
    "piles['Updat_Volu'] = piles['Updat_Volu'].astype('float64')\n",
    "\n",
    "pilesNoNA = piles[(~piles['Updat_cut'].isnull())]\n",
    "\n",
    "len(pilesNoNA)\n",
    "pilesNoNA['Type'].value_counts()\n",
    "\n",
    "#piles.to_file(StartDir+\"/piles-west-lowest.shp\")\n",
    "\n",
    "# filter for duplicate geometry\n",
    "pilesNoNA['str_geom_d'] = pilesNoNA.duplicated(subset=['str_geom'], keep=False)\n",
    "pilesNoNA['str_geom_d'].value_counts()\n",
    "\n",
    "# unique polygons\n",
    "pilesNoNANoDup = pilesNoNA[pilesNoNA.str_geom_d == False]\n",
    "len(pilesNoNANoDup)\n",
    "\n",
    "pilesNoNADup = pilesNoNA[pilesNoNA.str_geom_d == True]\n",
    "len(pilesNoNADup)\n",
    "len(pilesNoNADup.str_geom.unique().tolist())\n",
    "\n",
    "pilesNoNADupMax = pilesNoNADup.groupby('str_geom', group_keys=False).agg(max)\n",
    "len(pilesNoNADupMax)\n",
    "\n",
    "pilesNoNANoDupMax = pilesNoNADup[pilesNoNADup['Updat_cut'].isin(list(pilesNoNADupMax['Updat_cut']))]\n",
    "len(pilesNoNANoDupMax)\n",
    "\n",
    "final = pilesNoNANoDup.append(pilesNoNANoDupMax)"
   ],
   "metadata": {
    "collapsed": false
   }
  },
  {
   "cell_type": "code",
   "execution_count": 5,
   "outputs": [],
   "source": [
    "final['Type'] = final['Type'].str.lower()\n",
    "final['finalcut'] = final.duplicated(subset=['Updat_cut'], keep='first')\n",
    "final = final[final.finalcut == False]"
   ],
   "metadata": {
    "collapsed": false
   }
  },
  {
   "cell_type": "code",
   "execution_count": 6,
   "outputs": [],
   "source": [
    "final['perimeter'] = final['geometry'].to_crs(\"EPSG:32638\").map(lambda p: p.length)\n",
    "final['area']=final['geometry'].to_crs(\"EPSG:32638\").map(lambda p: p.area)\n",
    "final['ratio']=final['Updat_cut'].divide(final['area'])"
   ],
   "metadata": {
    "collapsed": false
   }
  },
  {
   "cell_type": "code",
   "execution_count": 7,
   "outputs": [],
   "source": [
    "# final['area'].describe()"
   ],
   "metadata": {
    "collapsed": false
   }
  },
  {
   "cell_type": "code",
   "execution_count": 7,
   "outputs": [],
   "source": [],
   "metadata": {
    "collapsed": false
   }
  },
  {
   "cell_type": "code",
   "execution_count": 8,
   "outputs": [
    {
     "name": "stdout",
     "output_type": "stream",
     "text": [
      "5885\n",
      "natural_soil          4072\n",
      "construction_waste    1439\n",
      "misc                   374\n",
      "Name: Type, dtype: int64\n"
     ]
    }
   ],
   "source": [
    "# output\n",
    "print(len(final))\n",
    "print(final['Type'].value_counts())"
   ],
   "metadata": {
    "collapsed": false
   }
  },
  {
   "cell_type": "code",
   "execution_count": 9,
   "outputs": [
    {
     "name": "stdout",
     "output_type": "stream",
     "text": [
      "Type\n",
      "construction_waste    123266.562013\n",
      "misc                   35876.129291\n",
      "natural_soil          361357.204522\n",
      "Name: area, dtype: float64\n"
     ]
    },
    {
     "name": "stderr",
     "output_type": "stream",
     "text": [
      "/var/folders/zm/fb_kfkpj55zf4d6ywxmphdy40000gn/T/ipykernel_77596/1709044387.py:1: FutureWarning: The default value of numeric_only in DataFrameGroupBy.sum is deprecated. In a future version, numeric_only will default to False. Either specify numeric_only or select only columns which should be valid for the function.\n",
      "  print(final.groupby('Type',group_keys=False).agg(sum)['area'])\n"
     ]
    }
   ],
   "source": [
    "print(final.groupby('Type',group_keys=False).agg(sum)['area'])"
   ],
   "metadata": {
    "collapsed": false
   }
  },
  {
   "cell_type": "code",
   "execution_count": 10,
   "outputs": [
    {
     "name": "stdout",
     "output_type": "stream",
     "text": [
      "Type\n",
      "construction_waste    177843.475501\n",
      "misc                   35699.619853\n",
      "natural_soil          478745.455629\n",
      "Name: cut, dtype: float64\n"
     ]
    },
    {
     "name": "stderr",
     "output_type": "stream",
     "text": [
      "/var/folders/zm/fb_kfkpj55zf4d6ywxmphdy40000gn/T/ipykernel_77596/85746032.py:1: FutureWarning: The default value of numeric_only in DataFrameGroupBy.sum is deprecated. In a future version, numeric_only will default to False. Either specify numeric_only or select only columns which should be valid for the function.\n",
      "  print(final.groupby('Type', group_keys=False).agg(sum)['cut'])\n"
     ]
    }
   ],
   "source": [
    "print(final.groupby('Type', group_keys=False).agg(sum)['cut'])\n",
    "# print(final.groupby('Type',group_keys=False).agg(sum)['volume'])"
   ],
   "metadata": {
    "collapsed": false
   }
  },
  {
   "cell_type": "code",
   "execution_count": 74,
   "outputs": [],
   "source": [
    "x = final['area']\n",
    "y = final['Updat_cut']\n",
    "x1 = final['ratio']\n",
    "data = list(zip(x, y))"
   ],
   "metadata": {
    "collapsed": false
   }
  },
  {
   "cell_type": "code",
   "execution_count": 78,
   "outputs": [
    {
     "data": {
      "text/plain": "(5885, 19)"
     },
     "execution_count": 78,
     "metadata": {},
     "output_type": "execute_result"
    }
   ],
   "source": [
    "final.shape"
   ],
   "metadata": {
    "collapsed": false
   }
  },
  {
   "cell_type": "code",
   "execution_count": 79,
   "outputs": [
    {
     "data": {
      "text/plain": "5885"
     },
     "execution_count": 79,
     "metadata": {},
     "output_type": "execute_result"
    }
   ],
   "source": [
    "len(data)"
   ],
   "metadata": {
    "collapsed": false
   }
  },
  {
   "cell_type": "code",
   "execution_count": 80,
   "outputs": [
    {
     "data": {
      "text/plain": "<Figure size 640x480 with 1 Axes>",
      "image/png": "[encoded data removed]"
     },
     "metadata": {},
     "output_type": "display_data"
    }
   ],
   "source": [
    "# cluster based om area and volume\n",
    "from sklearn.cluster import KMeans\n",
    "\n",
    "inertias = []\n",
    "for i in range(1,11):\n",
    "    kmeans = KMeans(n_clusters=i)\n",
    "    kmeans.fit(data)\n",
    "    inertias.append(kmeans.inertia_)\n",
    "\n",
    "plt.plot(range(1,11), inertias, marker='o')\n",
    "plt.title('Elbow method')\n",
    "plt.xlabel('Number of clusters')\n",
    "plt.ylabel('Inertia')\n",
    "plt.show()"
   ],
   "metadata": {
    "collapsed": false
   }
  },
  {
   "cell_type": "code",
   "execution_count": 81,
   "outputs": [
    {
     "data": {
      "text/plain": "<Figure size 640x480 with 1 Axes>",
      "image/png": "[encoded data removed]"
     },
     "metadata": {},
     "output_type": "display_data"
    }
   ],
   "source": [
    "kmeans = KMeans(n_clusters=2)\n",
    "kmeans.fit(data)\n",
    "\n",
    "plt.scatter(x, y, c=final['ratio'],s=1)\n",
    "plt.grid(True)\n",
    "plt.yticks(np.arange(0,16000,1000))\n",
    "plt.show()"
   ],
   "metadata": {
    "collapsed": false
   }
  },
  {
   "cell_type": "code",
   "execution_count": 14,
   "outputs": [
    {
     "data": {
      "text/plain": "(array([5.900e+01, 2.000e+02, 3.660e+02, 7.230e+02, 1.205e+03, 1.302e+03,\n        7.580e+02, 3.940e+02, 2.140e+02, 1.290e+02, 9.300e+01, 8.000e+01,\n        4.900e+01, 4.800e+01, 2.700e+01, 3.900e+01, 3.400e+01, 2.200e+01,\n        2.100e+01, 1.100e+01, 1.700e+01, 9.000e+00, 8.000e+00, 7.000e+00,\n        6.000e+00, 8.000e+00, 4.000e+00, 8.000e+00, 6.000e+00, 1.000e+00,\n        4.000e+00, 2.000e+00, 3.000e+00, 1.000e+00, 2.000e+00, 0.000e+00,\n        2.000e+00, 2.000e+00, 2.000e+00, 0.000e+00, 2.000e+00, 2.000e+00,\n        1.000e+00, 0.000e+00, 0.000e+00, 0.000e+00, 1.000e+00, 2.000e+00,\n        0.000e+00, 0.000e+00, 0.000e+00, 0.000e+00, 2.000e+00, 2.000e+00,\n        0.000e+00, 1.000e+00, 0.000e+00, 1.000e+00, 0.000e+00, 0.000e+00,\n        0.000e+00, 0.000e+00, 0.000e+00, 1.000e+00, 0.000e+00, 1.000e+00,\n        0.000e+00, 0.000e+00, 0.000e+00, 0.000e+00, 0.000e+00, 1.000e+00,\n        0.000e+00, 0.000e+00, 0.000e+00, 1.000e+00, 0.000e+00, 0.000e+00,\n        0.000e+00, 0.000e+00, 0.000e+00, 0.000e+00, 0.000e+00, 0.000e+00,\n        0.000e+00, 0.000e+00, 0.000e+00, 0.000e+00, 0.000e+00, 0.000e+00,\n        0.000e+00, 0.000e+00, 0.000e+00, 0.000e+00, 0.000e+00, 0.000e+00,\n        0.000e+00, 0.000e+00, 0.000e+00, 1.000e+00]),\n array([5.60676188e-03, 1.10176909e-01, 2.14747056e-01, 3.19317202e-01,\n        4.23887349e-01, 5.28457496e-01, 6.33027643e-01, 7.37597790e-01,\n        8.42167936e-01, 9.46738083e-01, 1.05130823e+00, 1.15587838e+00,\n        1.26044852e+00, 1.36501867e+00, 1.46958882e+00, 1.57415896e+00,\n        1.67872911e+00, 1.78329926e+00, 1.88786940e+00, 1.99243955e+00,\n        2.09700970e+00, 2.20157984e+00, 2.30614999e+00, 2.41072014e+00,\n        2.51529029e+00, 2.61986043e+00, 2.72443058e+00, 2.82900073e+00,\n        2.93357087e+00, 3.03814102e+00, 3.14271117e+00, 3.24728131e+00,\n        3.35185146e+00, 3.45642161e+00, 3.56099175e+00, 3.66556190e+00,\n        3.77013205e+00, 3.87470219e+00, 3.97927234e+00, 4.08384249e+00,\n        4.18841263e+00, 4.29298278e+00, 4.39755293e+00, 4.50212307e+00,\n        4.60669322e+00, 4.71126337e+00, 4.81583352e+00, 4.92040366e+00,\n        5.02497381e+00, 5.12954396e+00, 5.23411410e+00, 5.33868425e+00,\n        5.44325440e+00, 5.54782454e+00, 5.65239469e+00, 5.75696484e+00,\n        5.86153498e+00, 5.96610513e+00, 6.07067528e+00, 6.17524542e+00,\n        6.27981557e+00, 6.38438572e+00, 6.48895586e+00, 6.59352601e+00,\n        6.69809616e+00, 6.80266630e+00, 6.90723645e+00, 7.01180660e+00,\n        7.11637675e+00, 7.22094689e+00, 7.32551704e+00, 7.43008719e+00,\n        7.53465733e+00, 7.63922748e+00, 7.74379763e+00, 7.84836777e+00,\n        7.95293792e+00, 8.05750807e+00, 8.16207821e+00, 8.26664836e+00,\n        8.37121851e+00, 8.47578865e+00, 8.58035880e+00, 8.68492895e+00,\n        8.78949909e+00, 8.89406924e+00, 8.99863939e+00, 9.10320953e+00,\n        9.20777968e+00, 9.31234983e+00, 9.41691998e+00, 9.52149012e+00,\n        9.62606027e+00, 9.73063042e+00, 9.83520056e+00, 9.93977071e+00,\n        1.00443409e+01, 1.01489110e+01, 1.02534811e+01, 1.03580513e+01,\n        1.04626214e+01]),\n <BarContainer object of 100 artists>)"
     },
     "execution_count": 14,
     "metadata": {},
     "output_type": "execute_result"
    },
    {
     "data": {
      "text/plain": "<Figure size 640x480 with 1 Axes>",
      "image/png": "[encoded data removed]"
     },
     "metadata": {},
     "output_type": "display_data"
    }
   ],
   "source": [
    "plt.hist(final['ratio'], 100)"
   ],
   "metadata": {
    "collapsed": false
   }
  },
  {
   "cell_type": "code",
   "execution_count": 15,
   "outputs": [
    {
     "name": "stdout",
     "output_type": "stream",
     "text": [
      "KMeans(n_clusters=2)\n"
     ]
    }
   ],
   "source": [
    "print(kmeans)\n",
    "\n",
    "df = pd.DataFrame(data)\n",
    "df['cluster'] = kmeans.labels_"
   ],
   "metadata": {
    "collapsed": false
   }
  },
  {
   "cell_type": "code",
   "execution_count": 68,
   "outputs": [],
   "source": [],
   "metadata": {
    "collapsed": false
   }
  },
  {
   "cell_type": "code",
   "execution_count": 82,
   "outputs": [],
   "source": [
    "cluster0 = df[(df[\"cluster\"] == 0)]\n",
    "cluster1 = df[(df[\"cluster\"] == 1)]  # This is what you want\n",
    "# cluster2 = df[(df[\"cluster\"] == 1)]  # This is what you want"
   ],
   "metadata": {
    "collapsed": false
   }
  },
  {
   "cell_type": "code",
   "execution_count": 83,
   "outputs": [],
   "source": [
    "# data0=final[final['ratio']<2]\n",
    "# regClu0 = LinearRegression(fit_intercept=True).fit(data0['area'].array.reshape(-1, 1),data0['Updat_cut'].array.reshape(-1, 1))"
   ],
   "metadata": {
    "collapsed": false
   }
  },
  {
   "cell_type": "code",
   "execution_count": 84,
   "outputs": [],
   "source": [
    "# data1=final[final['ratio']>=2]\n",
    "# regClu0 = LinearRegression(fit_intercept=True).fit(data1['area'].array.reshape(-1, 1),data1['Updat_cut'].array.reshape(-1, 1))"
   ],
   "metadata": {
    "collapsed": false
   }
  },
  {
   "cell_type": "code",
   "execution_count": 85,
   "outputs": [],
   "source": [
    "regClu0 = LinearRegression(fit_intercept=False).fit(cluster0[[0]],cluster0[[1]])\n",
    "regClu1 = LinearRegression(fit_intercept=True).fit(cluster1[[0]],cluster1[[1]])\n",
    "# regClu2 = LinearRegression(fit_intercept=False).fit(cluster2[[0]],cluster2[[1]])"
   ],
   "metadata": {
    "collapsed": false
   }
  },
  {
   "cell_type": "code",
   "execution_count": 86,
   "outputs": [],
   "source": [
    "# data0['area'].describe()"
   ],
   "metadata": {
    "collapsed": false
   }
  },
  {
   "cell_type": "code",
   "execution_count": 86,
   "outputs": [],
   "source": [],
   "metadata": {
    "collapsed": false
   }
  },
  {
   "cell_type": "code",
   "execution_count": 19,
   "outputs": [],
   "source": [
    "# data1['area'].describe()"
   ],
   "metadata": {
    "collapsed": false
   }
  },
  {
   "cell_type": "code",
   "execution_count": 20,
   "outputs": [
    {
     "name": "stdout",
     "output_type": "stream",
     "text": [
      "Coefficients: \n",
      " [[1.40571804]]\n"
     ]
    }
   ],
   "source": [
    "# The coefficients\n",
    "print(\"Coefficients: \\n\", regClu0.coef_)"
   ],
   "metadata": {
    "collapsed": false
   }
  },
  {
   "cell_type": "code",
   "execution_count": 97,
   "outputs": [],
   "source": [
    "#LReg on small data sets only\n",
    "toP = gpd.read_file('/Users/philipp/BPLA Dropbox/03 Planning/DN-Dumping Detection-1087/05_Output/Digitisation/Version-4-Worldview3/Final_New_Sat/Final_New_sat-v2-clipped-v2.geojson', lines=True)\n",
    "toP = toP.to_crs(\"EPSG:32638\")\n",
    "\n",
    "toP['Type'] = toP['Type'].str.lower()\n",
    "toP['area'] = toP['geometry'].map(lambda p: p.area)"
   ],
   "metadata": {
    "collapsed": false
   }
  },
  {
   "cell_type": "code",
   "execution_count": 97,
   "outputs": [],
   "source": [],
   "metadata": {
    "collapsed": false
   }
  },
  {
   "cell_type": "code",
   "execution_count": 111,
   "outputs": [
    {
     "data": {
      "text/plain": "4495.492609625731"
     },
     "execution_count": 111,
     "metadata": {},
     "output_type": "execute_result"
    }
   ],
   "source": [],
   "metadata": {
    "collapsed": false
   }
  },
  {
   "cell_type": "code",
   "execution_count": 110,
   "outputs": [
    {
     "data": {
      "text/plain": "2867.6780757275133"
     },
     "execution_count": 110,
     "metadata": {},
     "output_type": "execute_result"
    }
   ],
   "source": [],
   "metadata": {
    "collapsed": false
   }
  },
  {
   "cell_type": "code",
   "execution_count": 109,
   "outputs": [
    {
     "data": {
      "text/plain": "1331.2048507232307"
     },
     "execution_count": 109,
     "metadata": {},
     "output_type": "execute_result"
    }
   ],
   "source": [
    "toP.shape"
   ],
   "metadata": {
    "collapsed": false
   }
  },
  {
   "cell_type": "code",
   "execution_count": 112,
   "outputs": [
    {
     "name": "stdout",
     "output_type": "stream",
     "text": [
      "(15258, 4)\n",
      "Coefficients: \n",
      " [[1.40571804]]\n",
      "Mean squared error: 581.42\n",
      "Coefficient of determination: 0.72\n"
     ]
    }
   ],
   "source": [
    "#  predictions\n",
    "toP0 = toP.loc[toP['area'] < float(cluster1[0].min())].copy()\n",
    "# toP0 = toP.copy()\n",
    "# toP0 = toP.loc[toP['ratio'] <2]\n",
    "print(toP0.shape)\n",
    "\n",
    "c0_pred = regClu0.predict(np.array(toP0['area']).reshape(-1, 1))\n",
    "toP0['pred'] = c0_pred\n",
    "# The coefficients\n",
    "print(\"Coefficients: \\n\", regClu0.coef_)\n",
    "# The mean squared error\n",
    "print(\"Mean squared error: %.2f\" % mean_squared_error(toP0['area'], c0_pred))\n",
    "# The coefficient of determination: 1 is perfect prediction\n",
    "print(\"Coefficient of determination: %.2f\" % r2_score(toP0['area'], c0_pred))"
   ],
   "metadata": {
    "collapsed": false
   }
  },
  {
   "cell_type": "code",
   "execution_count": 43,
   "outputs": [],
   "source": [],
   "metadata": {
    "collapsed": false
   }
  },
  {
   "cell_type": "code",
   "execution_count": 113,
   "outputs": [
    {
     "name": "stdout",
     "output_type": "stream",
     "text": [
      "(4, 4)\n",
      "Coefficients: \n",
      " [[0.88994402]]\n",
      "Mean squared error: 43541759.14\n",
      "Coefficient of determination: -177.79\n"
     ]
    }
   ],
   "source": [
    "toP1 = toP.loc[toP['area'] >= toP0['area'].max()].copy()\n",
    "# toP1 = toP1.loc[toP1['area'] < float(cluster2[0].max())]\n",
    "print(toP1.shape)\n",
    "c1_pred = regClu1.predict(np.array(toP1['area']).reshape(-1, 1))\n",
    "toP1['pred'] = c1_pred\n",
    "# The coefficients\n",
    "print(\"Coefficients: \\n\", regClu1.coef_)\n",
    "# The mean squared error\n",
    "print(\"Mean squared error: %.2f\" % mean_squared_error(toP1['area'], c1_pred))\n",
    "# # The coefficient of determination: 1 is perfect prediction\n",
    "print(\"Coefficient of determination: %.2f\" % r2_score(toP1['area'], c1_pred))\n",
    "\n",
    "\n",
    "# toP2 = toP.loc[toP['area'] > float(cluster2[0].max())]"
   ],
   "metadata": {
    "collapsed": false
   }
  },
  {
   "cell_type": "code",
   "execution_count": 116,
   "outputs": [
    {
     "data": {
      "text/plain": "<Figure size 640x480 with 1 Axes>",
      "image/png": "[encoded data removed]"
     },
     "metadata": {},
     "output_type": "display_data"
    }
   ],
   "source": [
    "c0_pred.shape= (-1,1)\n",
    "\n",
    "plt.scatter(x, y, color=\"black\",s=1)\n",
    "plt.scatter(toP0['area'], c0_pred, color=\"red\",s=1)\n",
    "plt.scatter(toP1['area'], c1_pred, color=\"green\",s=1)\n",
    "plt.plot(toP0['area'], c0_pred, color=\"blue\", linewidth=1)\n",
    "plt.plot(toP1['area'], c1_pred, color=\"orange\", linewidth=1)\n",
    "\n",
    "plt.show()"
   ],
   "metadata": {
    "collapsed": false
   }
  },
  {
   "cell_type": "code",
   "execution_count": 116,
   "outputs": [],
   "source": [],
   "metadata": {
    "collapsed": false
   }
  },
  {
   "cell_type": "code",
   "execution_count": 116,
   "outputs": [],
   "source": [],
   "metadata": {
    "collapsed": false
   }
  },
  {
   "cell_type": "code",
   "execution_count": 117,
   "outputs": [],
   "source": [
    "# c2_pred = regClu2.predict(np.array(toP2['area']).reshape(-1, 1))\n",
    "# toP2['pred'] = c2_pred\n",
    "#\n",
    "# # The coefficients\n",
    "# print(\"Coefficients: \\n\", regClu2.coef_)\n",
    "# # The mean squared error\n",
    "# print(\"Mean squared error: %.2f\" % mean_squared_error(toP2['area'], c2_pred))\n",
    "# # The coefficient of determination: 1 is perfect prediction\n",
    "# print(\"Coefficient of determination: %.2f\" % r2_score(toP2['area'], c2_pred))"
   ],
   "metadata": {
    "collapsed": false
   }
  },
  {
   "cell_type": "code",
   "execution_count": 117,
   "outputs": [],
   "source": [
    "\n"
   ],
   "metadata": {
    "collapsed": false
   }
  },
  {
   "cell_type": "markdown",
   "source": [],
   "metadata": {
    "collapsed": false
   }
  },
  {
   "cell_type": "code",
   "execution_count": 118,
   "outputs": [],
   "source": [
    "# global prediction\n",
    "# toP = toP[toP['area'] <= float(cluster0[[0]].max())]\n",
    "# c_pred = regClu0.predict(np.array(toP['area']).reshape(-1, 1))\n",
    "# toP['pred'] = c_pred\n",
    "# print(toP.shape)\n",
    "# # The coefficients\n",
    "# print(\"Coefficients: \\n\", regClu0.coef_)\n",
    "# # The mean squared error\n",
    "# print(\"Mean squared error: %.2f\" % mean_squared_error(toP['area'], c_pred))\n",
    "# # The coefficient of determination: 1 is perfect prediction\n",
    "# print(\"Coefficient of determination: %.2f\" % r2_score(toP['area'], c_pred))"
   ],
   "metadata": {
    "collapsed": false
   }
  },
  {
   "cell_type": "code",
   "execution_count": 119,
   "outputs": [
    {
     "name": "stderr",
     "output_type": "stream",
     "text": [
      "/var/folders/zm/fb_kfkpj55zf4d6ywxmphdy40000gn/T/ipykernel_77596/3588741542.py:1: FutureWarning: The frame.append method is deprecated and will be removed from pandas in a future version. Use pandas.concat instead.\n",
      "  predicted = toP0.append(toP1)\n"
     ]
    }
   ],
   "source": [
    "predicted = toP0.append(toP1)"
   ],
   "metadata": {
    "collapsed": false
   }
  },
  {
   "cell_type": "code",
   "execution_count": 120,
   "outputs": [
    {
     "data": {
      "text/plain": "<Figure size 640x480 with 1 Axes>",
      "image/png": "[encoded data removed]"
     },
     "metadata": {},
     "output_type": "display_data"
    }
   ],
   "source": [
    "# # # Plot outputs\n",
    "# # c0_pred.shape= (-1,1)\n",
    "#\n",
    "# plt.scatter(x, y, color=\"black\",s=1)\n",
    "# plt.scatter(predicted['area'],predicted['pred'],color=\"green\",s=1)\n",
    "# # plt.scatter(toP['area'], c_pred, color=\"red\",s=1)\n",
    "# plt.plot(toP0['area'], c0_pred, color=\"blue\", linewidth=1.5)\n",
    "# # plt.plot(toP1['area'], c1_pred, color=\"red\", linewidth=1.5)\n",
    "# # plt.plot(toP2['area'], c2_pred, color=\"green\", linewidth=1)\n",
    "#\n",
    "# plt.show()"
   ],
   "metadata": {
    "collapsed": false
   }
  },
  {
   "cell_type": "code",
   "execution_count": 26,
   "outputs": [],
   "source": [
    "# predicted"
   ],
   "metadata": {
    "collapsed": false
   }
  },
  {
   "cell_type": "code",
   "execution_count": 121,
   "outputs": [
    {
     "name": "stdout",
     "output_type": "stream",
     "text": [
      "Type\n",
      "construction_waste    396004.806556\n",
      "misc                    9028.577518\n",
      "natural_soil          449848.532514\n",
      "Name: pred, dtype: float64\n",
      "Type\n",
      "construction_waste    269118.102925\n",
      "misc                    6422.751414\n",
      "natural_soil          315691.935243\n",
      "Name: area, dtype: float64\n",
      "                    OBJECTID  geometry  area  pred\n",
      "Type                                              \n",
      "construction_waste      6516      6594  6594  6594\n",
      "misc                     142       142   142   142\n",
      "natural_soil            8493      8526  8526  8526\n"
     ]
    },
    {
     "name": "stderr",
     "output_type": "stream",
     "text": [
      "/var/folders/zm/fb_kfkpj55zf4d6ywxmphdy40000gn/T/ipykernel_77596/2288747426.py:2: FutureWarning: The default value of numeric_only in DataFrameGroupBy.sum is deprecated. In a future version, numeric_only will default to False. Either specify numeric_only or select only columns which should be valid for the function.\n",
      "  print(predicted.groupby('Type',group_keys=False).agg(sum)['pred'])\n",
      "/var/folders/zm/fb_kfkpj55zf4d6ywxmphdy40000gn/T/ipykernel_77596/2288747426.py:3: FutureWarning: The default value of numeric_only in DataFrameGroupBy.sum is deprecated. In a future version, numeric_only will default to False. Either specify numeric_only or select only columns which should be valid for the function.\n",
      "  print(predicted.groupby('Type',group_keys=False).agg(sum)['area'])\n"
     ]
    }
   ],
   "source": [
    "# output\n",
    "print(predicted.groupby('Type',group_keys=False).agg(sum)['pred'])\n",
    "print(predicted.groupby('Type',group_keys=False).agg(sum)['area'])\n",
    "print(predicted.groupby('Type',group_keys=False).count())\n",
    "# print(toP)"
   ],
   "metadata": {
    "collapsed": false
   }
  },
  {
   "cell_type": "code",
   "execution_count": 122,
   "outputs": [
    {
     "data": {
      "text/plain": "count    15262.000000\nmean         1.406775\nstd          0.067965\nmin          1.405718\n25%          1.405718\n50%          1.405718\n75%          1.405718\nmax          6.903935\nName: ratio, dtype: float64"
     },
     "execution_count": 122,
     "metadata": {},
     "output_type": "execute_result"
    }
   ],
   "source": [
    "predicted['ratio']=predicted['pred'].divide(predicted['area'])\n",
    "predicted['ratio'].describe()"
   ],
   "metadata": {
    "collapsed": false
   }
  },
  {
   "cell_type": "code",
   "execution_count": 36,
   "outputs": [],
   "source": [],
   "metadata": {
    "collapsed": false
   }
  },
  {
   "cell_type": "code",
   "execution_count": 37,
   "outputs": [
    {
     "data": {
      "text/plain": "         fid    cat   Id                Type        cut  \\\n0       64.0  200.0  0.0  construction_waste  19.358050   \n1       65.0  201.0  0.0  construction_waste  66.750949   \n2       80.0  219.0  0.0  construction_waste   9.967514   \n3       81.0  221.0  0.0  construction_waste  15.919302   \n4       82.0  223.0  0.0  construction_waste  47.029063   \n...      ...    ...  ...                 ...        ...   \n6310  3852.0    NaN  NaN  construction_waste   8.872994   \n2366  3184.0    NaN  NaN  construction_waste  30.016684   \n2367  3187.0    NaN  NaN        natural_soil  35.543250   \n2368  3813.0    NaN  NaN  construction_waste   5.037203   \n2369  3814.0    NaN  NaN  construction_waste  14.377411   \n\n                         fill             volume  \\\n0                         0.0  19.35805046099543   \n1       -0.060730561379273844  66.69021831203122   \n2     -0.00010354714871778371  9.967410268149333   \n3      -0.0061824381122978648  15.91311960942508   \n4      -0.0040382707231438296  47.02502441618826   \n...                       ...                ...   \n6310                     None               None   \n2366                      0.0  30.01668412465427   \n2367                      0.0   35.5432499971223   \n2368                      0.0  5.037203342522038   \n2369  -6.6409496262514244e-05   14.3773441538773   \n\n                                               str_geom  FIDint  str_geom_d  \\\n0     MULTIPOLYGON (((661855.1470344772096723 271591...      64       False   \n1     MULTIPOLYGON (((661701.0498651723610237 271612...      65       False   \n2     MULTIPOLYGON (((661796.5084588918834925 271601...      80       False   \n3     MULTIPOLYGON (((661849.6607110316399485 271601...      81       False   \n4     MULTIPOLYGON (((661717.0828087122645229 271613...      82       False   \n...                                                 ...     ...         ...   \n6310  MULTIPOLYGON (((665774.1511404308257625 271610...    3852       False   \n2366  MULTIPOLYGON (((665165.8318939859746024 271561...    3184        True   \n2367  MULTIPOLYGON (((665133.4313261091010645 271560...    3187        True   \n2368  MULTIPOLYGON (((665140.2116184852784500 271560...    3813        True   \n2369  MULTIPOLYGON (((665148.7731193338986486 271561...    3814        True   \n\n      finalcut        area     ratio    y_pred  Updat_area  Updat_cut  \\\n0        False   33.310999  0.581131       NaN      33.316     19.361   \n1        False  120.712029  0.552977       NaN     120.731     66.761   \n2        False   19.515538  0.510748       NaN      19.519      9.969   \n3        False   26.614882  0.598135       NaN      26.619     15.922   \n4        False  111.620967  0.421328       NaN     111.638     47.036   \n...        ...         ...       ...       ...         ...        ...   \n6310     False   18.386815  0.482574  8.872994      18.389      8.874   \n2366     False   34.961163  0.858572       NaN      34.966     30.021   \n2367     False   35.380907  1.004588       NaN      35.385     35.547   \n2368     False   11.824106  0.426011       NaN      11.826      5.038   \n2369     False   17.909295  0.802790       NaN      17.912     14.380   \n\n      Updat_Volu                                           geometry  perimeter  \n0         19.361  MULTIPOLYGON (((661855.147 2715910.261, 661857...  23.550303  \n1         66.701  MULTIPOLYGON (((661701.050 2716126.487, 661702...  61.780554  \n2          9.969  MULTIPOLYGON (((661796.508 2716016.998, 661800...  17.975159  \n3         15.916  MULTIPOLYGON (((661849.661 2716019.832, 661851...  20.067042  \n4         47.032  MULTIPOLYGON (((661717.083 2716133.185, 661740...  58.852991  \n...          ...                                                ...        ...  \n6310         NaN  MULTIPOLYGON (((665774.151 2716108.553, 665772...  16.170456  \n2366      30.021  MULTIPOLYGON (((665165.832 2715617.476, 665165...  22.130684  \n2367      35.547  MULTIPOLYGON (((665133.431 2715608.087, 665135...  22.636426  \n2368       5.038  MULTIPOLYGON (((665140.212 2715608.555, 665138...  13.393251  \n2369      14.380  MULTIPOLYGON (((665148.773 2715610.593, 665148...  15.949595  \n\n[5885 rows x 19 columns]",
      "text/html": "<div>\n<style scoped>\n    .dataframe tbody tr th:only-of-type {\n        vertical-align: middle;\n    }\n\n    .dataframe tbody tr th {\n        vertical-align: top;\n    }\n\n    .dataframe thead th {\n        text-align: right;\n    }\n</style>\n<table border=\"1\" class=\"dataframe\">\n  <thead>\n    <tr style=\"text-align: right;\">\n      <th></th>\n      <th>fid</th>\n      <th>cat</th>\n      <th>Id</th>\n      <th>Type</th>\n      <th>cut</th>\n      <th>fill</th>\n      <th>volume</th>\n      <th>str_geom</th>\n      <th>FIDint</th>\n      <th>str_geom_d</th>\n      <th>finalcut</th>\n      <th>area</th>\n      <th>ratio</th>\n      <th>y_pred</th>\n      <th>Updat_area</th>\n      <th>Updat_cut</th>\n      <th>Updat_Volu</th>\n      <th>geometry</th>\n      <th>perimeter</th>\n    </tr>\n  </thead>\n  <tbody>\n    <tr>\n      <th>0</th>\n      <td>64.0</td>\n      <td>200.0</td>\n      <td>0.0</td>\n      <td>construction_waste</td>\n      <td>19.358050</td>\n      <td>0.0</td>\n      <td>19.35805046099543</td>\n      <td>MULTIPOLYGON (((661855.1470344772096723 271591...</td>\n      <td>64</td>\n      <td>False</td>\n      <td>False</td>\n      <td>33.310999</td>\n      <td>0.581131</td>\n      <td>NaN</td>\n      <td>33.316</td>\n      <td>19.361</td>\n      <td>19.361</td>\n      <td>MULTIPOLYGON (((661855.147 2715910.261, 661857...</td>\n      <td>23.550303</td>\n    </tr>\n    <tr>\n      <th>1</th>\n      <td>65.0</td>\n      <td>201.0</td>\n      <td>0.0</td>\n      <td>construction_waste</td>\n      <td>66.750949</td>\n      <td>-0.060730561379273844</td>\n      <td>66.69021831203122</td>\n      <td>MULTIPOLYGON (((661701.0498651723610237 271612...</td>\n      <td>65</td>\n      <td>False</td>\n      <td>False</td>\n      <td>120.712029</td>\n      <td>0.552977</td>\n      <td>NaN</td>\n      <td>120.731</td>\n      <td>66.761</td>\n      <td>66.701</td>\n      <td>MULTIPOLYGON (((661701.050 2716126.487, 661702...</td>\n      <td>61.780554</td>\n    </tr>\n    <tr>\n      <th>2</th>\n      <td>80.0</td>\n      <td>219.0</td>\n      <td>0.0</td>\n      <td>construction_waste</td>\n      <td>9.967514</td>\n      <td>-0.00010354714871778371</td>\n      <td>9.967410268149333</td>\n      <td>MULTIPOLYGON (((661796.5084588918834925 271601...</td>\n      <td>80</td>\n      <td>False</td>\n      <td>False</td>\n      <td>19.515538</td>\n      <td>0.510748</td>\n      <td>NaN</td>\n      <td>19.519</td>\n      <td>9.969</td>\n      <td>9.969</td>\n      <td>MULTIPOLYGON (((661796.508 2716016.998, 661800...</td>\n      <td>17.975159</td>\n    </tr>\n    <tr>\n      <th>3</th>\n      <td>81.0</td>\n      <td>221.0</td>\n      <td>0.0</td>\n      <td>construction_waste</td>\n      <td>15.919302</td>\n      <td>-0.0061824381122978648</td>\n      <td>15.91311960942508</td>\n      <td>MULTIPOLYGON (((661849.6607110316399485 271601...</td>\n      <td>81</td>\n      <td>False</td>\n      <td>False</td>\n      <td>26.614882</td>\n      <td>0.598135</td>\n      <td>NaN</td>\n      <td>26.619</td>\n      <td>15.922</td>\n      <td>15.916</td>\n      <td>MULTIPOLYGON (((661849.661 2716019.832, 661851...</td>\n      <td>20.067042</td>\n    </tr>\n    <tr>\n      <th>4</th>\n      <td>82.0</td>\n      <td>223.0</td>\n      <td>0.0</td>\n      <td>construction_waste</td>\n      <td>47.029063</td>\n      <td>-0.0040382707231438296</td>\n      <td>47.02502441618826</td>\n      <td>MULTIPOLYGON (((661717.0828087122645229 271613...</td>\n      <td>82</td>\n      <td>False</td>\n      <td>False</td>\n      <td>111.620967</td>\n      <td>0.421328</td>\n      <td>NaN</td>\n      <td>111.638</td>\n      <td>47.036</td>\n      <td>47.032</td>\n      <td>MULTIPOLYGON (((661717.083 2716133.185, 661740...</td>\n      <td>58.852991</td>\n    </tr>\n    <tr>\n      <th>...</th>\n      <td>...</td>\n      <td>...</td>\n      <td>...</td>\n      <td>...</td>\n      <td>...</td>\n      <td>...</td>\n      <td>...</td>\n      <td>...</td>\n      <td>...</td>\n      <td>...</td>\n      <td>...</td>\n      <td>...</td>\n      <td>...</td>\n      <td>...</td>\n      <td>...</td>\n      <td>...</td>\n      <td>...</td>\n      <td>...</td>\n      <td>...</td>\n    </tr>\n    <tr>\n      <th>6310</th>\n      <td>3852.0</td>\n      <td>NaN</td>\n      <td>NaN</td>\n      <td>construction_waste</td>\n      <td>8.872994</td>\n      <td>None</td>\n      <td>None</td>\n      <td>MULTIPOLYGON (((665774.1511404308257625 271610...</td>\n      <td>3852</td>\n      <td>False</td>\n      <td>False</td>\n      <td>18.386815</td>\n      <td>0.482574</td>\n      <td>8.872994</td>\n      <td>18.389</td>\n      <td>8.874</td>\n      <td>NaN</td>\n      <td>MULTIPOLYGON (((665774.151 2716108.553, 665772...</td>\n      <td>16.170456</td>\n    </tr>\n    <tr>\n      <th>2366</th>\n      <td>3184.0</td>\n      <td>NaN</td>\n      <td>NaN</td>\n      <td>construction_waste</td>\n      <td>30.016684</td>\n      <td>0.0</td>\n      <td>30.01668412465427</td>\n      <td>MULTIPOLYGON (((665165.8318939859746024 271561...</td>\n      <td>3184</td>\n      <td>True</td>\n      <td>False</td>\n      <td>34.961163</td>\n      <td>0.858572</td>\n      <td>NaN</td>\n      <td>34.966</td>\n      <td>30.021</td>\n      <td>30.021</td>\n      <td>MULTIPOLYGON (((665165.832 2715617.476, 665165...</td>\n      <td>22.130684</td>\n    </tr>\n    <tr>\n      <th>2367</th>\n      <td>3187.0</td>\n      <td>NaN</td>\n      <td>NaN</td>\n      <td>natural_soil</td>\n      <td>35.543250</td>\n      <td>0.0</td>\n      <td>35.5432499971223</td>\n      <td>MULTIPOLYGON (((665133.4313261091010645 271560...</td>\n      <td>3187</td>\n      <td>True</td>\n      <td>False</td>\n      <td>35.380907</td>\n      <td>1.004588</td>\n      <td>NaN</td>\n      <td>35.385</td>\n      <td>35.547</td>\n      <td>35.547</td>\n      <td>MULTIPOLYGON (((665133.431 2715608.087, 665135...</td>\n      <td>22.636426</td>\n    </tr>\n    <tr>\n      <th>2368</th>\n      <td>3813.0</td>\n      <td>NaN</td>\n      <td>NaN</td>\n      <td>construction_waste</td>\n      <td>5.037203</td>\n      <td>0.0</td>\n      <td>5.037203342522038</td>\n      <td>MULTIPOLYGON (((665140.2116184852784500 271560...</td>\n      <td>3813</td>\n      <td>True</td>\n      <td>False</td>\n      <td>11.824106</td>\n      <td>0.426011</td>\n      <td>NaN</td>\n      <td>11.826</td>\n      <td>5.038</td>\n      <td>5.038</td>\n      <td>MULTIPOLYGON (((665140.212 2715608.555, 665138...</td>\n      <td>13.393251</td>\n    </tr>\n    <tr>\n      <th>2369</th>\n      <td>3814.0</td>\n      <td>NaN</td>\n      <td>NaN</td>\n      <td>construction_waste</td>\n      <td>14.377411</td>\n      <td>-6.6409496262514244e-05</td>\n      <td>14.3773441538773</td>\n      <td>MULTIPOLYGON (((665148.7731193338986486 271561...</td>\n      <td>3814</td>\n      <td>True</td>\n      <td>False</td>\n      <td>17.909295</td>\n      <td>0.802790</td>\n      <td>NaN</td>\n      <td>17.912</td>\n      <td>14.380</td>\n      <td>14.380</td>\n      <td>MULTIPOLYGON (((665148.773 2715610.593, 665148...</td>\n      <td>15.949595</td>\n    </tr>\n  </tbody>\n</table>\n<p>5885 rows × 19 columns</p>\n</div>"
     },
     "execution_count": 37,
     "metadata": {},
     "output_type": "execute_result"
    }
   ],
   "source": [
    "final"
   ],
   "metadata": {
    "collapsed": false
   }
  },
  {
   "cell_type": "code",
   "execution_count": 29,
   "outputs": [
    {
     "name": "stderr",
     "output_type": "stream",
     "text": [
      "/var/folders/zm/fb_kfkpj55zf4d6ywxmphdy40000gn/T/ipykernel_82622/548489403.py:1: FutureWarning: Currently, index_parts defaults to True, but in the future, it will default to False to be consistent with Pandas. Use `index_parts=True` to keep the current behavior and True/False to silence the warning.\n",
      "  predEx = predicted.explode()\n",
      "/var/folders/zm/fb_kfkpj55zf4d6ywxmphdy40000gn/T/ipykernel_82622/548489403.py:2: FutureWarning: Currently, index_parts defaults to True, but in the future, it will default to False to be consistent with Pandas. Use `index_parts=True` to keep the current behavior and True/False to silence the warning.\n",
      "  finalEx = final.explode()\n"
     ]
    }
   ],
   "source": [
    "predEx = predicted.explode()\n",
    "finalEx = final.explode()"
   ],
   "metadata": {
    "collapsed": false
   }
  },
  {
   "cell_type": "code",
   "execution_count": 29,
   "outputs": [],
   "source": [],
   "metadata": {
    "collapsed": false
   }
  },
  {
   "cell_type": "code",
   "execution_count": 30,
   "outputs": [
    {
     "data": {
      "text/plain": "True    5891\ndtype: int64"
     },
     "execution_count": 30,
     "metadata": {},
     "output_type": "execute_result"
    }
   ],
   "source": [
    "r = (finalEx.geometry.type == 'Polygon')\n",
    "r.value_counts()\n",
    "# finalEx.shape"
   ],
   "metadata": {
    "collapsed": false
   }
  },
  {
   "cell_type": "code",
   "execution_count": null,
   "outputs": [],
   "source": [
    "# area difference\n",
    "## additions in 2022\n",
    "notinFinals = gpd.overlay(finalEx,predEx, how='difference')\n",
    "notinFinals['area']=notinFinals['geometry'].to_crs(\"EPSG:32638\").map(lambda p: p.area)\n",
    "print(notinFinals.groupby('Type',group_keys=False).agg(sum)['area'])"
   ],
   "metadata": {
    "collapsed": false
   }
  },
  {
   "cell_type": "code",
   "execution_count": 36,
   "outputs": [],
   "source": [
    "notinFinals.to_file('additions-2022.shp')"
   ],
   "metadata": {
    "collapsed": false
   }
  },
  {
   "cell_type": "code",
   "execution_count": null,
   "outputs": [],
   "source": [
    "## Removals in 2022\n",
    "notintoP = gpd.overlay(predEx,finalEx, how='difference')\n",
    "notintoP['area']=notintoP['geometry'].to_crs(\"EPSG:32638\").map(lambda p: p.area)\n",
    "print(notintoP.groupby('Type',group_keys=False).agg(sum)['area'])"
   ],
   "metadata": {
    "collapsed": false
   }
  },
  {
   "cell_type": "code",
   "execution_count": 37,
   "outputs": [],
   "source": [
    "notintoP.to_file('removal-2022.shp')"
   ],
   "metadata": {
    "collapsed": false
   }
  },
  {
   "cell_type": "code",
   "execution_count": 37,
   "outputs": [],
   "source": [
    "\n"
   ],
   "metadata": {
    "collapsed": false
   }
  },
  {
   "cell_type": "code",
   "execution_count": 37,
   "outputs": [],
   "source": [],
   "metadata": {
    "collapsed": false
   }
  },
  {
   "cell_type": "code",
   "execution_count": 37,
   "outputs": [],
   "source": [],
   "metadata": {
    "collapsed": false
   }
  },
  {
   "cell_type": "code",
   "execution_count": 37,
   "outputs": [],
   "source": [],
   "metadata": {
    "collapsed": false
   }
  },
  {
   "cell_type": "code",
   "execution_count": null,
   "outputs": [],
   "source": [],
   "metadata": {
    "collapsed": false
   }
  },
  {
   "cell_type": "code",
   "execution_count": null,
   "outputs": [],
   "source": [],
   "metadata": {
    "collapsed": false
   }
  },
  {
   "cell_type": "code",
   "execution_count": null,
   "outputs": [],
   "source": [
    "# import numpy as np\n",
    "# import matplotlib.pyplot as plt\n",
    "# from scipy.optimize import leastsq\n",
    "#\n",
    "# #x, y = np.array([0,1,2,3,4,5]), np.array([0,1,4,9,16,25])\n",
    "#\n",
    "# # initial_guess[i] maps to p[x] in function_to_fit, must be reasonable\n",
    "# initial_guess = [1, 1, 1]\n",
    "#\n",
    "# def function_to_fit(x, p):\n",
    "#     return pow(p[0]*x, 2) + p[1]*x + p[2]\n",
    "#\n",
    "# def residuals(p,y,x):\n",
    "#     return y - function_to_fit(x,p)\n",
    "#\n",
    "# cnsts = leastsq(\n",
    "#     residuals,\n",
    "#     initial_guess,\n",
    "#     args=(y, x)\n",
    "# )[0]\n",
    "#\n",
    "# fig, ax = plt.subplots()\n",
    "# ax.plot(x, y, 'o')\n",
    "#\n",
    "# xi = np.arange(0,100,10)\n",
    "# ax.plot(xi, [function_to_fit(x, cnsts) for x in xi])\n",
    "#\n",
    "# plt.show()"
   ],
   "metadata": {
    "collapsed": false
   }
  }
 ],
 "metadata": {
  "kernelspec": {
   "display_name": "Python 3",
   "language": "python",
   "name": "python3"
  },
  "language_info": {
   "codemirror_mode": {
    "name": "ipython",
    "version": 2
   },
   "file_extension": ".py",
   "mimetype": "text/x-python",
   "name": "python",
   "nbconvert_exporter": "python",
   "pygments_lexer": "ipython2",
   "version": "2.7.6"
  }
 },
 "nbformat": 4,
 "nbformat_minor": 0
}
