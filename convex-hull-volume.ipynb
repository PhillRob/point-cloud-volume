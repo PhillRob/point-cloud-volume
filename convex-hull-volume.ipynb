{
 "cells": [
  {
   "cell_type": "code",
   "execution_count": 3,
   "metadata": {
    "collapsed": true
   },
   "outputs": [],
   "source": [
    "#from laspy.file import File\n",
    "# #import laspy as lp\n",
    "# #gpd.options.use_pygeos = True\n",
    "# import pyvista as pv\n",
    "# import pptk"
   ]
  },
  {
   "cell_type": "code",
   "execution_count": 6,
   "outputs": [],
   "source": [
    "#!/usr/bin/python3\n",
    "import numpy as np\n",
    "# import matplotlib.pyplot as plt\n",
    "import geopandas as gpd\n",
    "import pandas as pd\n",
    "from shapely.geometry import Point\n",
    "import open3d as o3d\n",
    "from shapely.geometry import Point\n",
    "from scipy.spatial import Delaunay\n",
    "import math\n",
    "from functools import reduce"
   ],
   "metadata": {
    "collapsed": false
   }
  },
  {
   "cell_type": "code",
   "execution_count": 10,
   "outputs": [
    {
     "name": "stderr",
     "output_type": "stream",
     "text": [
      "/Users/philipp/Projects/PycharmProjects/point-cloud-volume/venv/lib/python3.9/site-packages/pyproj/crs/crs.py:141: FutureWarning: '+init=<authority>:<code>' syntax is deprecated. '<authority>:<code>' is the preferred initialization method. When making the change, be mindful of axis order changes: https://pyproj4.github.io/pyproj/stable/gotchas.html#axis-order-changes-in-proj-6\n",
      "  in_crs_string = _prepare_from_proj_string(in_crs_string)\n"
     ]
    }
   ],
   "source": [
    "# read point cloud\n",
    "data_folder = '/Users/philipp/Projects/PycharmProjects/point-cloud-volume/input/'\n",
    "dataset = \"points-32638.xyz\"\n",
    "npcloud = np.loadtxt(data_folder + dataset, delimiter=',')\n",
    "\n",
    "crs = None\n",
    "geometry = [Point(xyz) for xyz in npcloud]\n",
    "geodf = gpd.GeoDataFrame(npcloud, crs=crs, geometry=geometry)\n",
    "geodf.crs = {'init': 'epsg:32638'}\n",
    "# geodf = geodf.to_crs(\"EPSG:4326\")"
   ],
   "metadata": {
    "collapsed": false
   }
  },
  {
   "cell_type": "code",
   "execution_count": 0,
   "outputs": [],
   "source": [
    "# polygon vector\n",
    "annotations = gpd.read_file('input/site.geojson')\n",
    "annotations = annotations.to_crs(\"EPSG:32638\")"
   ],
   "metadata": {
    "collapsed": false
   }
  },
  {
   "cell_type": "code",
   "execution_count": 29,
   "outputs": [
    {
     "data": {
      "text/plain": "       fid                Type          cut         fill       volume  \\\n0   3269.0        natural_Soil  3.285872132  -1.45880725  4.744679382   \n1   3232.0        natural_Soil     2.508158    -1.074423     3.582581   \n2   2898.0        natural_Soil     2.463113    -3.087354    -0.624241   \n3    621.0        natural_Soil    28.510577    -2.918489    25.592088   \n4    622.0        natural_Soil    41.785227    -4.413772    37.371455   \n5    623.0        natural_Soil    31.346528    -1.945509    29.401019   \n6    624.0        natural_Soil    19.615540    -0.960564    18.654975   \n7   1751.0        natural_Soil     4.821274    -2.740178     2.081096   \n8    680.0        natural_Soil          2.9         -0.8            2   \n9   1754.0  Construction_Waste     2.322964    -2.680375    -0.357411   \n10  2044.0        natural_Soil     9.866122    -2.731568     7.134554   \n11   563.0        natural_Soil    51.801119   -14.823175    36.977944   \n12  1750.0  Construction_Waste     1.144009    -1.425693    -0.281684   \n13  2223.0        natural_Soil     2.657992    -6.288233    -3.630241   \n14    42.0  Construction_Waste     8.212635    -2.971639     5.240996   \n15  1755.0        natural_Soil    26.515617   -13.294455    13.221161   \n16   712.0        natural_Soil     6.361972    -0.121213     6.240759   \n17   788.0        natural_Soil   171.651533    -8.304102   163.347431   \n18   789.0        natural_Soil     0.745949    -2.684775    -1.938825   \n\n         Area2 Typical sp  DDVolume  SiteVolu2  SiteArea2  MaxHeight  SiteCut  \\\n0    32.402874        yes       NaN       7.80      25.19       1.40     12.7   \n1    25.747415        yes       NaN       9.10      26.64       1.10     13.1   \n2    25.165588        yes      6.32       4.00      17.75       0.88      8.6   \n3   120.926996        yes     48.17      48.80     127.65       1.30     91.1   \n4   138.734473        yes     63.57      71.50     109.86       1.50    110.6   \n5   117.997395        yes     30.24      56.20     115.45       1.30    111.6   \n6   102.200577        yes     25.35      46.50      95.82       1.10     63.9   \n7    33.639115        yes     13.70       9.80      37.75       1.40     24.1   \n8    40.000623        yes      3.23       3.30      12.10       0.78      4.1   \n9    31.707809        yes      9.78       4.00      25.91       1.10     16.1   \n10   43.415371         no     23.86        NaN        NaN        NaN      NaN   \n11  413.317870         no     33.39     154.80     318.70       2.20    428.6   \n12   24.903303        yes      6.11       1.10      19.82       0.77      7.6   \n13   61.649804       None     27.28      24.80      77.23       1.30     58.2   \n14   60.698092         no     24.42      34.90      67.95       1.50     46.3   \n15  180.001535         no     83.50     165.50     342.15       1.60    337.3   \n16   38.757740         no       NaN       0.39      39.57       0.66     14.7   \n17  328.897780         no       NaN     194.10     370.81       2.30    309.2   \n18   42.059547         no       NaN      11.20      31.39       1.40     16.6   \n\n    SiteFill                                           geometry  \n0       4.90  MULTIPOLYGON (((665839.698 2716029.889, 665837...  \n1       4.00  MULTIPOLYGON (((665662.619 2715791.778, 665659...  \n2       4.50  MULTIPOLYGON (((665093.602 2715633.487, 665093...  \n3      42.30  MULTIPOLYGON (((664513.389 2716032.109, 664515...  \n4      39.10  MULTIPOLYGON (((664531.711 2716037.334, 664534...  \n5      55.40  MULTIPOLYGON (((664492.288 2716030.786, 664493...  \n6      17.50  MULTIPOLYGON (((664467.550 2716035.681, 664469...  \n7      14.30  MULTIPOLYGON (((663560.370 2716082.914, 663559...  \n8       0.83  MULTIPOLYGON (((663498.105 2716111.071, 663500...  \n9      12.10  MULTIPOLYGON (((663560.370 2716082.914, 663561...  \n10       NaN  MULTIPOLYGON (((664419.670 2716057.722, 664418...  \n11    273.80  MULTIPOLYGON (((664434.305 2716040.607, 664435...  \n12      6.50  MULTIPOLYGON (((663574.161 2716068.660, 663574...  \n13     33.40  MULTIPOLYGON (((663574.161 2716068.660, 663574...  \n14     11.50  MULTIPOLYGON (((663524.180 2716040.540, 663526...  \n15    171.80  MULTIPOLYGON (((663564.147 2716078.119, 663565...  \n16     14.30  MULTIPOLYGON (((662157.810 2716140.368, 662158...  \n17    115.10  MULTIPOLYGON (((662095.295 2716199.384, 662098...  \n18      5.40  MULTIPOLYGON (((662108.524 2716182.874, 662109...  ",
      "text/html": "<div>\n<style scoped>\n    .dataframe tbody tr th:only-of-type {\n        vertical-align: middle;\n    }\n\n    .dataframe tbody tr th {\n        vertical-align: top;\n    }\n\n    .dataframe thead th {\n        text-align: right;\n    }\n</style>\n<table border=\"1\" class=\"dataframe\">\n  <thead>\n    <tr style=\"text-align: right;\">\n      <th></th>\n      <th>fid</th>\n      <th>Type</th>\n      <th>cut</th>\n      <th>fill</th>\n      <th>volume</th>\n      <th>Area2</th>\n      <th>Typical sp</th>\n      <th>DDVolume</th>\n      <th>SiteVolu2</th>\n      <th>SiteArea2</th>\n      <th>MaxHeight</th>\n      <th>SiteCut</th>\n      <th>SiteFill</th>\n      <th>geometry</th>\n    </tr>\n  </thead>\n  <tbody>\n    <tr>\n      <th>0</th>\n      <td>3269.0</td>\n      <td>natural_Soil</td>\n      <td>3.285872132</td>\n      <td>-1.45880725</td>\n      <td>4.744679382</td>\n      <td>32.402874</td>\n      <td>yes</td>\n      <td>NaN</td>\n      <td>7.80</td>\n      <td>25.19</td>\n      <td>1.40</td>\n      <td>12.7</td>\n      <td>4.90</td>\n      <td>MULTIPOLYGON (((665839.698 2716029.889, 665837...</td>\n    </tr>\n    <tr>\n      <th>1</th>\n      <td>3232.0</td>\n      <td>natural_Soil</td>\n      <td>2.508158</td>\n      <td>-1.074423</td>\n      <td>3.582581</td>\n      <td>25.747415</td>\n      <td>yes</td>\n      <td>NaN</td>\n      <td>9.10</td>\n      <td>26.64</td>\n      <td>1.10</td>\n      <td>13.1</td>\n      <td>4.00</td>\n      <td>MULTIPOLYGON (((665662.619 2715791.778, 665659...</td>\n    </tr>\n    <tr>\n      <th>2</th>\n      <td>2898.0</td>\n      <td>natural_Soil</td>\n      <td>2.463113</td>\n      <td>-3.087354</td>\n      <td>-0.624241</td>\n      <td>25.165588</td>\n      <td>yes</td>\n      <td>6.32</td>\n      <td>4.00</td>\n      <td>17.75</td>\n      <td>0.88</td>\n      <td>8.6</td>\n      <td>4.50</td>\n      <td>MULTIPOLYGON (((665093.602 2715633.487, 665093...</td>\n    </tr>\n    <tr>\n      <th>3</th>\n      <td>621.0</td>\n      <td>natural_Soil</td>\n      <td>28.510577</td>\n      <td>-2.918489</td>\n      <td>25.592088</td>\n      <td>120.926996</td>\n      <td>yes</td>\n      <td>48.17</td>\n      <td>48.80</td>\n      <td>127.65</td>\n      <td>1.30</td>\n      <td>91.1</td>\n      <td>42.30</td>\n      <td>MULTIPOLYGON (((664513.389 2716032.109, 664515...</td>\n    </tr>\n    <tr>\n      <th>4</th>\n      <td>622.0</td>\n      <td>natural_Soil</td>\n      <td>41.785227</td>\n      <td>-4.413772</td>\n      <td>37.371455</td>\n      <td>138.734473</td>\n      <td>yes</td>\n      <td>63.57</td>\n      <td>71.50</td>\n      <td>109.86</td>\n      <td>1.50</td>\n      <td>110.6</td>\n      <td>39.10</td>\n      <td>MULTIPOLYGON (((664531.711 2716037.334, 664534...</td>\n    </tr>\n    <tr>\n      <th>5</th>\n      <td>623.0</td>\n      <td>natural_Soil</td>\n      <td>31.346528</td>\n      <td>-1.945509</td>\n      <td>29.401019</td>\n      <td>117.997395</td>\n      <td>yes</td>\n      <td>30.24</td>\n      <td>56.20</td>\n      <td>115.45</td>\n      <td>1.30</td>\n      <td>111.6</td>\n      <td>55.40</td>\n      <td>MULTIPOLYGON (((664492.288 2716030.786, 664493...</td>\n    </tr>\n    <tr>\n      <th>6</th>\n      <td>624.0</td>\n      <td>natural_Soil</td>\n      <td>19.615540</td>\n      <td>-0.960564</td>\n      <td>18.654975</td>\n      <td>102.200577</td>\n      <td>yes</td>\n      <td>25.35</td>\n      <td>46.50</td>\n      <td>95.82</td>\n      <td>1.10</td>\n      <td>63.9</td>\n      <td>17.50</td>\n      <td>MULTIPOLYGON (((664467.550 2716035.681, 664469...</td>\n    </tr>\n    <tr>\n      <th>7</th>\n      <td>1751.0</td>\n      <td>natural_Soil</td>\n      <td>4.821274</td>\n      <td>-2.740178</td>\n      <td>2.081096</td>\n      <td>33.639115</td>\n      <td>yes</td>\n      <td>13.70</td>\n      <td>9.80</td>\n      <td>37.75</td>\n      <td>1.40</td>\n      <td>24.1</td>\n      <td>14.30</td>\n      <td>MULTIPOLYGON (((663560.370 2716082.914, 663559...</td>\n    </tr>\n    <tr>\n      <th>8</th>\n      <td>680.0</td>\n      <td>natural_Soil</td>\n      <td>2.9</td>\n      <td>-0.8</td>\n      <td>2</td>\n      <td>40.000623</td>\n      <td>yes</td>\n      <td>3.23</td>\n      <td>3.30</td>\n      <td>12.10</td>\n      <td>0.78</td>\n      <td>4.1</td>\n      <td>0.83</td>\n      <td>MULTIPOLYGON (((663498.105 2716111.071, 663500...</td>\n    </tr>\n    <tr>\n      <th>9</th>\n      <td>1754.0</td>\n      <td>Construction_Waste</td>\n      <td>2.322964</td>\n      <td>-2.680375</td>\n      <td>-0.357411</td>\n      <td>31.707809</td>\n      <td>yes</td>\n      <td>9.78</td>\n      <td>4.00</td>\n      <td>25.91</td>\n      <td>1.10</td>\n      <td>16.1</td>\n      <td>12.10</td>\n      <td>MULTIPOLYGON (((663560.370 2716082.914, 663561...</td>\n    </tr>\n    <tr>\n      <th>10</th>\n      <td>2044.0</td>\n      <td>natural_Soil</td>\n      <td>9.866122</td>\n      <td>-2.731568</td>\n      <td>7.134554</td>\n      <td>43.415371</td>\n      <td>no</td>\n      <td>23.86</td>\n      <td>NaN</td>\n      <td>NaN</td>\n      <td>NaN</td>\n      <td>NaN</td>\n      <td>NaN</td>\n      <td>MULTIPOLYGON (((664419.670 2716057.722, 664418...</td>\n    </tr>\n    <tr>\n      <th>11</th>\n      <td>563.0</td>\n      <td>natural_Soil</td>\n      <td>51.801119</td>\n      <td>-14.823175</td>\n      <td>36.977944</td>\n      <td>413.317870</td>\n      <td>no</td>\n      <td>33.39</td>\n      <td>154.80</td>\n      <td>318.70</td>\n      <td>2.20</td>\n      <td>428.6</td>\n      <td>273.80</td>\n      <td>MULTIPOLYGON (((664434.305 2716040.607, 664435...</td>\n    </tr>\n    <tr>\n      <th>12</th>\n      <td>1750.0</td>\n      <td>Construction_Waste</td>\n      <td>1.144009</td>\n      <td>-1.425693</td>\n      <td>-0.281684</td>\n      <td>24.903303</td>\n      <td>yes</td>\n      <td>6.11</td>\n      <td>1.10</td>\n      <td>19.82</td>\n      <td>0.77</td>\n      <td>7.6</td>\n      <td>6.50</td>\n      <td>MULTIPOLYGON (((663574.161 2716068.660, 663574...</td>\n    </tr>\n    <tr>\n      <th>13</th>\n      <td>2223.0</td>\n      <td>natural_Soil</td>\n      <td>2.657992</td>\n      <td>-6.288233</td>\n      <td>-3.630241</td>\n      <td>61.649804</td>\n      <td>None</td>\n      <td>27.28</td>\n      <td>24.80</td>\n      <td>77.23</td>\n      <td>1.30</td>\n      <td>58.2</td>\n      <td>33.40</td>\n      <td>MULTIPOLYGON (((663574.161 2716068.660, 663574...</td>\n    </tr>\n    <tr>\n      <th>14</th>\n      <td>42.0</td>\n      <td>Construction_Waste</td>\n      <td>8.212635</td>\n      <td>-2.971639</td>\n      <td>5.240996</td>\n      <td>60.698092</td>\n      <td>no</td>\n      <td>24.42</td>\n      <td>34.90</td>\n      <td>67.95</td>\n      <td>1.50</td>\n      <td>46.3</td>\n      <td>11.50</td>\n      <td>MULTIPOLYGON (((663524.180 2716040.540, 663526...</td>\n    </tr>\n    <tr>\n      <th>15</th>\n      <td>1755.0</td>\n      <td>natural_Soil</td>\n      <td>26.515617</td>\n      <td>-13.294455</td>\n      <td>13.221161</td>\n      <td>180.001535</td>\n      <td>no</td>\n      <td>83.50</td>\n      <td>165.50</td>\n      <td>342.15</td>\n      <td>1.60</td>\n      <td>337.3</td>\n      <td>171.80</td>\n      <td>MULTIPOLYGON (((663564.147 2716078.119, 663565...</td>\n    </tr>\n    <tr>\n      <th>16</th>\n      <td>712.0</td>\n      <td>natural_Soil</td>\n      <td>6.361972</td>\n      <td>-0.121213</td>\n      <td>6.240759</td>\n      <td>38.757740</td>\n      <td>no</td>\n      <td>NaN</td>\n      <td>0.39</td>\n      <td>39.57</td>\n      <td>0.66</td>\n      <td>14.7</td>\n      <td>14.30</td>\n      <td>MULTIPOLYGON (((662157.810 2716140.368, 662158...</td>\n    </tr>\n    <tr>\n      <th>17</th>\n      <td>788.0</td>\n      <td>natural_Soil</td>\n      <td>171.651533</td>\n      <td>-8.304102</td>\n      <td>163.347431</td>\n      <td>328.897780</td>\n      <td>no</td>\n      <td>NaN</td>\n      <td>194.10</td>\n      <td>370.81</td>\n      <td>2.30</td>\n      <td>309.2</td>\n      <td>115.10</td>\n      <td>MULTIPOLYGON (((662095.295 2716199.384, 662098...</td>\n    </tr>\n    <tr>\n      <th>18</th>\n      <td>789.0</td>\n      <td>natural_Soil</td>\n      <td>0.745949</td>\n      <td>-2.684775</td>\n      <td>-1.938825</td>\n      <td>42.059547</td>\n      <td>no</td>\n      <td>NaN</td>\n      <td>11.20</td>\n      <td>31.39</td>\n      <td>1.40</td>\n      <td>16.6</td>\n      <td>5.40</td>\n      <td>MULTIPOLYGON (((662108.524 2716182.874, 662109...</td>\n    </tr>\n  </tbody>\n</table>\n</div>"
     },
     "execution_count": 29,
     "metadata": {},
     "output_type": "execute_result"
    }
   ],
   "source": [
    "annotations"
   ],
   "metadata": {
    "collapsed": false
   }
  },
  {
   "cell_type": "code",
   "execution_count": 28,
   "outputs": [],
   "source": [
    "# Points in polygon\n",
    "pointInPolys = gpd.tools.sjoin(geodf, annotations, predicate=\"within\", how='left')\n",
    "pointInPolysNA = pointInPolys.dropna(subset=['fid']).to_numpy()"
   ],
   "metadata": {
    "collapsed": false
   }
  },
  {
   "cell_type": "code",
   "execution_count": 26,
   "outputs": [],
   "source": [
    "my_dict = {\"fid\": [], \"volume\": [], \"points\": []}\n",
    "\n",
    "for i in np.unique(pointInPolysNA[:,9]):\n",
    "    # print(i)\n",
    "    subset = pointInPolysNA[pointInPolysNA[:,9] == i, ]\n",
    "    subsetBase = np.copy(subset)\n",
    "    subsetBase[:,2]  = min(subset[:,2])\n",
    "    base = np.append(subset, subsetBase, axis=0)\n",
    "    baseAr = [tuple(row) for row in base[:,0:3]]\n",
    "    baseAr = np.unique(baseAr, axis=0)\n",
    "    pcd = o3d.geometry.PointCloud()\n",
    "    pcd.points = o3d.utility.Vector3dVector(baseAr[:, :3])\n",
    "    pcd.estimate_normals()\n",
    "    pcd.compute_convex_hull()\n",
    "    try:\n",
    "        ch = pcd.compute_convex_hull()\n",
    "        chv = ch[0].get_volume()\n",
    "    except RuntimeError:\n",
    "        # ch = 0\n",
    "        chv = 0\n",
    "\n",
    "    my_dict[\"fid\"].append(i)\n",
    "    my_dict[\"volume\"].append(chv)\n",
    "    my_dict[\"points\"].append(baseAr.shape[0])\n",
    "\n",
    "merged = annotations.merge(pd.DataFrame.from_dict(my_dict), on='fid')\n",
    "# merged.to_file('dataframe1.shp')"
   ],
   "metadata": {
    "collapsed": false
   }
  },
  {
   "cell_type": "code",
   "execution_count": 27,
   "outputs": [
    {
     "data": {
      "text/plain": "      fid          Type        cut        fill   volume_x       Area2  \\\n0  2898.0  natural_Soil   2.463113   -3.087354  -0.624241   25.165588   \n1   621.0  natural_Soil  28.510577   -2.918489  25.592088  120.926996   \n2   622.0  natural_Soil  41.785227   -4.413772  37.371455  138.734473   \n3   623.0  natural_Soil  31.346528   -1.945509  29.401019  117.997395   \n4   624.0  natural_Soil  19.615540   -0.960564  18.654975  102.200577   \n5  2044.0  natural_Soil   9.866122   -2.731568   7.134554   43.415371   \n6   563.0  natural_Soil  51.801119  -14.823175  36.977944  413.317870   \n\n  Typical sp  DDVolume  SiteVolu2  SiteArea2  MaxHeight  SiteCut  SiteFill  \\\n0        yes      6.32        4.0      17.75       0.88      8.6       4.5   \n1        yes     48.17       48.8     127.65       1.30     91.1      42.3   \n2        yes     63.57       71.5     109.86       1.50    110.6      39.1   \n3        yes     30.24       56.2     115.45       1.30    111.6      55.4   \n4        yes     25.35       46.5      95.82       1.10     63.9      17.5   \n5         no     23.86        NaN        NaN        NaN      NaN       NaN   \n6         no     33.39      154.8     318.70       2.20    428.6     273.8   \n\n                                            geometry    volume_y  points  \n0  MULTIPOLYGON (((665093.602 2715633.487, 665093...    0.000000     115  \n1  MULTIPOLYGON (((664513.389 2716032.109, 664515...   76.758535     558  \n2  MULTIPOLYGON (((664531.711 2716037.334, 664534...  121.783699     641  \n3  MULTIPOLYGON (((664492.288 2716030.786, 664493...    0.000000     547  \n4  MULTIPOLYGON (((664467.550 2716035.681, 664469...    0.000000     467  \n5  MULTIPOLYGON (((664419.670 2716057.722, 664418...   34.996097     197  \n6  MULTIPOLYGON (((664434.305 2716040.607, 664435...    0.000000    1909  ",
      "text/html": "<div>\n<style scoped>\n    .dataframe tbody tr th:only-of-type {\n        vertical-align: middle;\n    }\n\n    .dataframe tbody tr th {\n        vertical-align: top;\n    }\n\n    .dataframe thead th {\n        text-align: right;\n    }\n</style>\n<table border=\"1\" class=\"dataframe\">\n  <thead>\n    <tr style=\"text-align: right;\">\n      <th></th>\n      <th>fid</th>\n      <th>Type</th>\n      <th>cut</th>\n      <th>fill</th>\n      <th>volume_x</th>\n      <th>Area2</th>\n      <th>Typical sp</th>\n      <th>DDVolume</th>\n      <th>SiteVolu2</th>\n      <th>SiteArea2</th>\n      <th>MaxHeight</th>\n      <th>SiteCut</th>\n      <th>SiteFill</th>\n      <th>geometry</th>\n      <th>volume_y</th>\n      <th>points</th>\n    </tr>\n  </thead>\n  <tbody>\n    <tr>\n      <th>0</th>\n      <td>2898.0</td>\n      <td>natural_Soil</td>\n      <td>2.463113</td>\n      <td>-3.087354</td>\n      <td>-0.624241</td>\n      <td>25.165588</td>\n      <td>yes</td>\n      <td>6.32</td>\n      <td>4.0</td>\n      <td>17.75</td>\n      <td>0.88</td>\n      <td>8.6</td>\n      <td>4.5</td>\n      <td>MULTIPOLYGON (((665093.602 2715633.487, 665093...</td>\n      <td>0.000000</td>\n      <td>115</td>\n    </tr>\n    <tr>\n      <th>1</th>\n      <td>621.0</td>\n      <td>natural_Soil</td>\n      <td>28.510577</td>\n      <td>-2.918489</td>\n      <td>25.592088</td>\n      <td>120.926996</td>\n      <td>yes</td>\n      <td>48.17</td>\n      <td>48.8</td>\n      <td>127.65</td>\n      <td>1.30</td>\n      <td>91.1</td>\n      <td>42.3</td>\n      <td>MULTIPOLYGON (((664513.389 2716032.109, 664515...</td>\n      <td>76.758535</td>\n      <td>558</td>\n    </tr>\n    <tr>\n      <th>2</th>\n      <td>622.0</td>\n      <td>natural_Soil</td>\n      <td>41.785227</td>\n      <td>-4.413772</td>\n      <td>37.371455</td>\n      <td>138.734473</td>\n      <td>yes</td>\n      <td>63.57</td>\n      <td>71.5</td>\n      <td>109.86</td>\n      <td>1.50</td>\n      <td>110.6</td>\n      <td>39.1</td>\n      <td>MULTIPOLYGON (((664531.711 2716037.334, 664534...</td>\n      <td>121.783699</td>\n      <td>641</td>\n    </tr>\n    <tr>\n      <th>3</th>\n      <td>623.0</td>\n      <td>natural_Soil</td>\n      <td>31.346528</td>\n      <td>-1.945509</td>\n      <td>29.401019</td>\n      <td>117.997395</td>\n      <td>yes</td>\n      <td>30.24</td>\n      <td>56.2</td>\n      <td>115.45</td>\n      <td>1.30</td>\n      <td>111.6</td>\n      <td>55.4</td>\n      <td>MULTIPOLYGON (((664492.288 2716030.786, 664493...</td>\n      <td>0.000000</td>\n      <td>547</td>\n    </tr>\n    <tr>\n      <th>4</th>\n      <td>624.0</td>\n      <td>natural_Soil</td>\n      <td>19.615540</td>\n      <td>-0.960564</td>\n      <td>18.654975</td>\n      <td>102.200577</td>\n      <td>yes</td>\n      <td>25.35</td>\n      <td>46.5</td>\n      <td>95.82</td>\n      <td>1.10</td>\n      <td>63.9</td>\n      <td>17.5</td>\n      <td>MULTIPOLYGON (((664467.550 2716035.681, 664469...</td>\n      <td>0.000000</td>\n      <td>467</td>\n    </tr>\n    <tr>\n      <th>5</th>\n      <td>2044.0</td>\n      <td>natural_Soil</td>\n      <td>9.866122</td>\n      <td>-2.731568</td>\n      <td>7.134554</td>\n      <td>43.415371</td>\n      <td>no</td>\n      <td>23.86</td>\n      <td>NaN</td>\n      <td>NaN</td>\n      <td>NaN</td>\n      <td>NaN</td>\n      <td>NaN</td>\n      <td>MULTIPOLYGON (((664419.670 2716057.722, 664418...</td>\n      <td>34.996097</td>\n      <td>197</td>\n    </tr>\n    <tr>\n      <th>6</th>\n      <td>563.0</td>\n      <td>natural_Soil</td>\n      <td>51.801119</td>\n      <td>-14.823175</td>\n      <td>36.977944</td>\n      <td>413.317870</td>\n      <td>no</td>\n      <td>33.39</td>\n      <td>154.8</td>\n      <td>318.70</td>\n      <td>2.20</td>\n      <td>428.6</td>\n      <td>273.8</td>\n      <td>MULTIPOLYGON (((664434.305 2716040.607, 664435...</td>\n      <td>0.000000</td>\n      <td>1909</td>\n    </tr>\n  </tbody>\n</table>\n</div>"
     },
     "execution_count": 27,
     "metadata": {},
     "output_type": "execute_result"
    }
   ],
   "source": [
    "merged"
   ],
   "metadata": {
    "collapsed": false
   }
  },
  {
   "cell_type": "code",
   "execution_count": 27,
   "outputs": [],
   "source": [
    "# the numbers differ significantly from DD output."
   ],
   "metadata": {
    "collapsed": false
   }
  },
  {
   "cell_type": "code",
   "execution_count": 12,
   "outputs": [],
   "source": [],
   "metadata": {
    "collapsed": false
   }
  },
  {
   "cell_type": "code",
   "execution_count": 12,
   "outputs": [],
   "source": [],
   "metadata": {
    "collapsed": false
   }
  },
  {
   "cell_type": "code",
   "execution_count": 12,
   "outputs": [],
   "source": [
    "\n"
   ],
   "metadata": {
    "collapsed": false
   }
  },
  {
   "cell_type": "code",
   "execution_count": 12,
   "outputs": [],
   "source": [
    "\n"
   ],
   "metadata": {
    "collapsed": false
   }
  },
  {
   "cell_type": "code",
   "execution_count": null,
   "outputs": [],
   "source": [],
   "metadata": {
    "collapsed": false,
    "pycharm": {
     "is_executing": true
    }
   }
  },
  {
   "cell_type": "code",
   "execution_count": 12,
   "outputs": [],
   "source": [],
   "metadata": {
    "collapsed": false
   }
  },
  {
   "cell_type": "code",
   "execution_count": 12,
   "outputs": [],
   "source": [],
   "metadata": {
    "collapsed": false
   }
  }
 ],
 "metadata": {
  "kernelspec": {
   "display_name": "Python 3",
   "language": "python",
   "name": "python3"
  },
  "language_info": {
   "codemirror_mode": {
    "name": "ipython",
    "version": 2
   },
   "file_extension": ".py",
   "mimetype": "text/x-python",
   "name": "python",
   "nbconvert_exporter": "python",
   "pygments_lexer": "ipython2",
   "version": "2.7.6"
  }
 },
 "nbformat": 4,
 "nbformat_minor": 0
}
